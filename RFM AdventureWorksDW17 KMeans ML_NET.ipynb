{
 "cells": [
  {
   "cell_type": "code",
   "execution_count": 43,
   "metadata": {
    "dotnet_interactive": {
     "language": "csharp"
    },
    "vscode": {
     "languageId": "dotnet-interactive.csharp"
    }
   },
   "outputs": [
    {
     "data": {
      "text/html": [
       "<div><div></div><div></div><div><strong>Installed Packages</strong><ul><li><span>Microsoft.ML, 1.7.1</span></li><li><span>System.Data.SqlClient, 4.8.4</span></li></ul></div></div>"
      ]
     },
     "metadata": {},
     "output_type": "display_data"
    }
   ],
   "source": [
    "// Instalación de Paquetes necesarios\n",
    "\n",
    "// #r \"nuget:Microsoft.Data.Analysis,0.19.0\"\n",
    "#r \"nuget: Microsoft.ML, 1.7.1\"\n",
    "#r \"nuget: System.Data.SqlClient, 4.8.4\""
   ]
  },
  {
   "cell_type": "code",
   "execution_count": 45,
   "metadata": {
    "dotnet_interactive": {
     "language": "csharp"
    },
    "vscode": {
     "languageId": "dotnet-interactive.csharp"
    }
   },
   "outputs": [
    {
     "data": {
      "text/html": [
       "<div><div></div><div></div><div><strong>Installed Packages</strong><ul><li><span>Microsoft.DotNet.Interactive.SqlServer, 1.0.0-beta.22553.7</span></li></ul></div></div>"
      ]
     },
     "metadata": {},
     "output_type": "display_data"
    },
    {
     "data": {
      "text/markdown": [
       "Loading extensions from `Microsoft.DotNet.Interactive.SqlServer.dll`"
      ]
     },
     "metadata": {},
     "output_type": "display_data"
    },
    {
     "data": {
      "text/html": [
       "<details><summary>Query Microsoft SQL Server databases.</summary>\r\n",
       "<p>This extension adds support for connecting to Microsoft SQL Server databases using the <code>#!connect mssql</code> magic command. For more information, run a cell using the <code>#!sql</code> magic command.</p>\r\n",
       "</details>"
      ]
     },
     "metadata": {},
     "output_type": "display_data"
    }
   ],
   "source": [
    "#r \"nuget:Microsoft.DotNet.Interactive.SqlServer,*-*\""
   ]
  },
  {
   "cell_type": "code",
   "execution_count": 51,
   "metadata": {
    "dotnet_interactive": {
     "language": "csharp"
    },
    "vscode": {
     "languageId": "dotnet-interactive.csharp"
    }
   },
   "outputs": [
    {
     "data": {
      "text/plain": [
       "Kernel added: #!sql-mydatabase"
      ]
     },
     "metadata": {},
     "output_type": "display_data"
    }
   ],
   "source": [
    "#!connect mssql --kernel-name mydatabase \"Persist Security Info=False; Integrated Security=false; Initial Catalog=AdventureWorksDW2017; Server=<SERVIDOR>; User = <USUARIO>;Password=<PWD>\""
   ]
  },
  {
   "cell_type": "code",
   "execution_count": 54,
   "metadata": {
    "dotnet_interactive": {
     "language": "sql"
    },
    "vscode": {
     "languageId": "dotnet-interactive.sql"
    }
   },
   "outputs": [
    {
     "data": {
      "text/plain": [
       "(5 filas afectadas)"
      ]
     },
     "metadata": {},
     "output_type": "display_data"
    },
    {
     "data": {
      "text/csv": [
       "CustomerKey,rfm_recency,rfm_frequency,rfm_monetary,Edad,EstadoCivil,Sexo,Ingresos,Hijos,HijosEnCasa,NivelEducativo,Ocupacion,CasaEnPropiedad,NumeroCoches,MesesPrimeraCompra,DistanciaAlTrabajo\r\n",
       "14324,2,4,2,52,S,F,70000,00,1,0,\"Estudios universitarios (en curso)\",\"Obrero especializado\",1,1,17,\"5-10 Miles\"\r\n",
       "18569,1,1,1,43,M,F,60000,00,0,0,\"Estudios de postgrado\",Profesional,1,0,12,\"0-1 Miles\"\r\n",
       "27059,1,4,1,31,M,M,50000,00,0,0,\"Estudios de postgrado\",\"Obrero especializado\",0,0,12,\"0-1 Miles\"\r\n",
       "22814,1,1,1,63,M,M,100000,00,2,3,Licenciatura,Gestión,1,4,11,\"10+ Miles\"\r\n",
       "15652,2,4,2,48,M,F,30000,00,4,0,\"Estudios de postgrado\",Administrativo,1,0,27,\"0-1 Miles\"\r\n"
      ],
      "text/html": [
       "<table><thead><tr><td><span>CustomerKey</span></td><td><span>rfm_recency</span></td><td><span>rfm_frequency</span></td><td><span>rfm_monetary</span></td><td><span>Edad</span></td><td><span>EstadoCivil</span></td><td><span>Sexo</span></td><td><span>Ingresos</span></td><td><span>Hijos</span></td><td><span>HijosEnCasa</span></td><td><span>NivelEducativo</span></td><td><span>Ocupacion</span></td><td><span>CasaEnPropiedad</span></td><td><span>NumeroCoches</span></td><td><span>MesesPrimeraCompra</span></td><td><span>DistanciaAlTrabajo</span></td></tr></thead><tbody><tr><td><div class=\"dni-plaintext\">14324</div></td><td><div class=\"dni-plaintext\">2</div></td><td><div class=\"dni-plaintext\">4</div></td><td><div class=\"dni-plaintext\">2</div></td><td><div class=\"dni-plaintext\">52</div></td><td>S</td><td>F</td><td>70000,00</td><td><div class=\"dni-plaintext\">1</div></td><td><div class=\"dni-plaintext\">0</div></td><td>Estudios universitarios (en curso)</td><td>Obrero especializado</td><td>1</td><td><div class=\"dni-plaintext\">1</div></td><td><div class=\"dni-plaintext\">17</div></td><td>5-10 Miles</td></tr><tr><td><div class=\"dni-plaintext\">18569</div></td><td><div class=\"dni-plaintext\">1</div></td><td><div class=\"dni-plaintext\">1</div></td><td><div class=\"dni-plaintext\">1</div></td><td><div class=\"dni-plaintext\">43</div></td><td>M</td><td>F</td><td>60000,00</td><td><div class=\"dni-plaintext\">0</div></td><td><div class=\"dni-plaintext\">0</div></td><td>Estudios de postgrado</td><td>Profesional</td><td>1</td><td><div class=\"dni-plaintext\">0</div></td><td><div class=\"dni-plaintext\">12</div></td><td>0-1 Miles</td></tr><tr><td><div class=\"dni-plaintext\">27059</div></td><td><div class=\"dni-plaintext\">1</div></td><td><div class=\"dni-plaintext\">4</div></td><td><div class=\"dni-plaintext\">1</div></td><td><div class=\"dni-plaintext\">31</div></td><td>M</td><td>M</td><td>50000,00</td><td><div class=\"dni-plaintext\">0</div></td><td><div class=\"dni-plaintext\">0</div></td><td>Estudios de postgrado</td><td>Obrero especializado</td><td>0</td><td><div class=\"dni-plaintext\">0</div></td><td><div class=\"dni-plaintext\">12</div></td><td>0-1 Miles</td></tr><tr><td><div class=\"dni-plaintext\">22814</div></td><td><div class=\"dni-plaintext\">1</div></td><td><div class=\"dni-plaintext\">1</div></td><td><div class=\"dni-plaintext\">1</div></td><td><div class=\"dni-plaintext\">63</div></td><td>M</td><td>M</td><td>100000,00</td><td><div class=\"dni-plaintext\">2</div></td><td><div class=\"dni-plaintext\">3</div></td><td>Licenciatura</td><td>Gesti&#243;n</td><td>1</td><td><div class=\"dni-plaintext\">4</div></td><td><div class=\"dni-plaintext\">11</div></td><td>10+ Miles</td></tr><tr><td><div class=\"dni-plaintext\">15652</div></td><td><div class=\"dni-plaintext\">2</div></td><td><div class=\"dni-plaintext\">4</div></td><td><div class=\"dni-plaintext\">2</div></td><td><div class=\"dni-plaintext\">48</div></td><td>M</td><td>F</td><td>30000,00</td><td><div class=\"dni-plaintext\">4</div></td><td><div class=\"dni-plaintext\">0</div></td><td>Estudios de postgrado</td><td>Administrativo</td><td>1</td><td><div class=\"dni-plaintext\">0</div></td><td><div class=\"dni-plaintext\">27</div></td><td>0-1 Miles</td></tr></tbody></table>"
      ]
     },
     "metadata": {},
     "output_type": "display_data"
    }
   ],
   "source": [
    "#!sql-mydatabase\n",
    "SELECT TOP 5 * FROM dbo.clientes"
   ]
  },
  {
   "cell_type": "code",
   "execution_count": 26,
   "metadata": {
    "dotnet_interactive": {
     "language": "csharp"
    },
    "vscode": {
     "languageId": "dotnet-interactive.csharp"
    }
   },
   "outputs": [],
   "source": [
    "using System;\n",
    "using System.IO;\n",
    "using System.Data.SqlClient;\n",
    "\n",
    "//using Microsoft.Data.Analysis;\n",
    "\n",
    "using Microsoft.ML;\n",
    "using Microsoft.ML.Data;\n",
    "using Microsoft.ML.Transforms;\n",
    "\n",
    "\n",
    "// using CustomerSegmentation.DataStructures;"
   ]
  },
  {
   "cell_type": "code",
   "execution_count": 27,
   "metadata": {
    "dotnet_interactive": {
     "language": "csharp"
    },
    "vscode": {
     "languageId": "dotnet-interactive.csharp"
    }
   },
   "outputs": [],
   "source": [
    "// Definimos la clase para los datos a cargar. Es necesaria para cargar los datos desde BBDD en MLContext\n",
    "public class CustomerData\n",
    "{\n",
    "    public float CustomerKey { get; set; }\n",
    "    public float NumeroCoches { get; set; }\n",
    "    public float rfm_recency {get;set;}\n",
    "    public float rfm_frequency {get;set;}\n",
    "    public float rfm_monetary {get;set;}\n",
    "    public float Edad {get;set;}\n",
    "    public string EstadoCivil {get;set;}\n",
    "    public string Sexo {get;set;}\n",
    "    public float Hijos {get;set;}\n",
    "    public float HijosEnCasa {get;set;}\n",
    "    public string NivelEducativo {get;set;}\n",
    "    public string Ocupacion {get;set;} \n",
    "    public float MesesPrimeraCompra {get;set;} \n",
    "    public string DistanciaAlTrabajo {get;set;}\n",
    "}"
   ]
  },
  {
   "cell_type": "code",
   "execution_count": 28,
   "metadata": {
    "dotnet_interactive": {
     "language": "csharp"
    },
    "vscode": {
     "languageId": "dotnet-interactive.csharp"
    }
   },
   "outputs": [],
   "source": [
    "// Definimos el contexto y el esquema de datos a cargar\n",
    "MLContext mlContext = new MLContext();\n",
    "DatabaseLoader loader = mlContext.Data.CreateDatabaseLoader<CustomerData>();\n",
    "\n",
    "// Cargamos los datos\n",
    "string connectionString = @\"Server=tcp:<SERVIDOR>,1433;Database=AdventureWorksDW2017;User ID=<USUARIO>;Password=<PWD>;Trusted_Connection=False;Encrypt=True;\";\n",
    "string sqlCommand = @\"SELECT CAST(CustomerKey as real) as CustomerKey, CAST(NumeroCoches as real) as NumeroCoches, CAST(rfm_recency as real) as rfm_recency, CAST(rfm_frequency as real) as rfm_frequency, \n",
    "    CAST(rfm_monetary as real) as rfm_monetary, CAST(Edad as real) as Edad,EstadoCivil,Sexo, CAST(Hijos as real) as Hijos, CAST(HijosEnCasa as real) as HijosEnCasa, \n",
    "    NivelEducativo, Ocupacion, CAST(MesesPrimeraCompra as real) as MesesPrimeraCompra, DistanciaAlTrabajo\n",
    "FROM [dbo].[clientes]\";\n",
    "\n",
    "//Creamos el objeto para conectar al origen y ejecutar la consulta\n",
    "DatabaseSource dbSource = new DatabaseSource(SqlClientFactory.Instance, connectionString, sqlCommand);\n",
    "// Cargamos los datos en el DataView\n",
    "IDataView data = loader.Load(dbSource);"
   ]
  },
  {
   "cell_type": "code",
   "execution_count": 29,
   "metadata": {
    "dotnet_interactive": {
     "language": "csharp"
    },
    "vscode": {
     "languageId": "dotnet-interactive.csharp"
    }
   },
   "outputs": [],
   "source": [
    "// Como ejemplo, no tiene sentido en un problema de cluster\n",
    "var trainTestData = mlContext.Data.TrainTestSplit(data, testFraction: 0.2);\n",
    "var trainingDataView = trainTestData.TrainSet;\n",
    "var testingDataView = trainTestData.TestSet;"
   ]
  },
  {
   "cell_type": "code",
   "execution_count": 30,
   "metadata": {
    "dotnet_interactive": {
     "language": "csharp"
    },
    "vscode": {
     "languageId": "dotnet-interactive.csharp"
    }
   },
   "outputs": [
    {
     "data": {
      "text/html": [
       "<table><thead><tr><th>Schema</th><th>ColumnView</th><th>RowView</th></tr></thead><tbody><tr><td><div class=\"dni-plaintext\">[ { CustomerKey: Single: Name: CustomerKey, Index: 0, IsHidden: False, Type: { Single: RawType: System.Single }, Annotations: { : Schema: [  ] } }, { NumeroCoches: Single: Name: NumeroCoches, Index: 1, IsHidden: False, Type: { Single: RawType: System.Single }, Annotations: { : Schema: [  ] } }, { rfm_recency: Single: Name: rfm_recency, Index: 2, IsHidden: False, Type: { Single: RawType: System.Single }, Annotations: { : Schema: [  ] } }, { rfm_frequency: Single: Name: rfm_frequency, Index: 3, IsHidden: False, Type: { Single: RawType: System.Single }, Annotations: { : Schema: [  ] } }, { rfm_monetary: Single: Name: rfm_monetary, Index: 4, IsHidden: False, Type: { Single: RawType: System.Single }, Annotations: { : Schema: [  ] } }, { Edad: Single: Name: Edad, Index: 5, IsHidden: False, Type: { Single: RawType: System.Single }, Annotations: { : Schema: [  ] } }, { EstadoCivil: String: Name: EstadoCivil, Index: 6, IsHidden: False, Type: { String: RawType: System.ReadOnlyMemory&lt;System.Char&gt; }, Annotations: { : Schema: [  ] } }, { Sexo: String: Name: Sexo, Index: 7, IsHidden: False, Type: { String: RawType: System.ReadOnlyMemory&lt;System.Char&gt; }, Annotations: { : Schema: [  ] } }, { Hijos: Single: Name: Hijos, Index: 8, IsHidden: False, Type: { Single: RawType: System.Single }, Annotations: { : Schema: [  ] } }, { HijosEnCasa: Single: Name: HijosEnCasa, Index: 9, IsHidden: False, Type: { Single: RawType: System.Single }, Annotations: { : Schema: [  ] } }, { NivelEducativo: String: Name: NivelEducativo, Index: 10, IsHidden: False, Type: { String: RawType: System.ReadOnlyMemory&lt;System.Char&gt; }, Annotations: { : Schema: [  ] } }, { Ocupacion: String: Name: Ocupacion, Index: 11, IsHidden: False, Type: { String: RawType: System.ReadOnlyMemory&lt;System.Char&gt; }, Annotations: { : Schema: [  ] } }, { MesesPrimeraCompra: Single: Name: MesesPrimeraCompra, Index: 12, IsHidden: False, Type: { Single: RawType: System.Single }, Annotations: { : Schema: [  ] } }, { DistanciaAlTrabajo: String: Name: DistanciaAlTrabajo, Index: 13, IsHidden: False, Type: { String: RawType: System.ReadOnlyMemory&lt;System.Char&gt; }, Annotations: { : Schema: [  ] } } ]</div></td><td><div class=\"dni-plaintext\">[ { CustomerKey: Single: Column: { CustomerKey: Single: Name: CustomerKey, Index: 0, IsHidden: False, Type: { Single: RawType: System.Single }, Annotations: { : Schema: [  ] } }, Values: [ 11000, 11001, 11002, 11003, 11004, 11005, 11006, 11007, 11008, 11009 ] }, { NumeroCoches: Single: Column: { NumeroCoches: Single: Name: NumeroCoches, Index: 1, IsHidden: False, Type: { Single: RawType: System.Single }, Annotations: { : Schema: [  ] } }, Values: [ 0, 1, 1, 1, 4, 1, 1, 2, 3, 1 ] }, { rfm_recency: Single: Column: { rfm_recency: Single: Name: rfm_recency, Index: 2, IsHidden: False, Type: { Single: RawType: System.Single }, Annotations: { : Schema: [  ] } }, Values: [ 1, 3, 1, 1, 1, 1, 1, 1, 1, 1 ] }, { rfm_frequency: Single: Column: { rfm_frequency: Single: Name: rfm_frequency, Index: 3, IsHidden: False, Type: { Single: RawType: System.Single }, Annotations: { : Schema: [  ] } }, Values: [ 5, 5, 3, 5, 4, 4, 4, 5, 4, 4 ] }, { rfm_monetary: Single: Column: { rfm_monetary: Single: Name: rfm_monetary, Index: 4, IsHidden: False, Type: { Single: RawType: System.Single }, Annotations: { : Schema: [  ] } }, Values: [ 2, 2, 2, 2, 2, 2, 2, 2, 2, 2 ] }, { Edad: Single: Column: { Edad: Single: Name: Edad, Index: 5, IsHidden: False, Type: { Single: RawType: System.Single }, Annotations: { : Schema: [  ] } }, Values: [ 43, 38, 43, 41, 35, 38, 38, 45, 39, 45 ] }, { EstadoCivil: String: Column: { EstadoCivil: String: Name: EstadoCivil, Index: 6, IsHidden: False, Type: { String: RawType: System.ReadOnlyMemory&lt;System.Char&gt; }, Annotations: { : Schema: [  ] } }, Values: [ M, S, M, S, S, S, S, M, S, S ] }, { Sexo: String: Column: { Sexo: String: Name: Sexo, Index: 7, IsHidden: False, Type: { String: RawType: System.ReadOnlyMemory&lt;System.Char&gt; }, Annotations: { : Schema: [  ] } }, Values: [ M, M, M, F, F, M, F, M, F, M ] }, { Hijos: Single: Column: { Hijos: Single: Name: Hijos, Index: 8, IsHidden: False, Type: { Single: RawType: System.Single }, Annotations: { : Schema: [  ] } }, Values: [ 2, 3, 3, 0, 5, 0, 0, 3, 4, 0 ] }, { HijosEnCasa: Single: Column: { HijosEnCasa: Single: Name: HijosEnCasa, Index: 9, IsHidden: False, Type: { Single: RawType: System.Single }, Annotations: { : Schema: [  ] } }, Values: [ 0, 3, 3, 0, 5, 0, 0, 3, 4, 0 ] }, { NivelEducativo: String: Column: { NivelEducativo: String: Name: NivelEducativo, Index: 10, IsHidden: False, Type: { String: RawType: System.ReadOnlyMemory&lt;System.Char&gt; }, Annotations: { : Schema: [  ] } }, Values: [ Licenciatura, Licenciatura, Licenciatura, Licenciatura, Licenciatura, Licenciatura, Licenciatura, Licenciatura, Licenciatura, Licenciatura ] }, { Ocupacion: String: Column: { Ocupacion: String: Name: Ocupacion, Index: 11, IsHidden: False, Type: { String: RawType: System.ReadOnlyMemory&lt;System.Char&gt; }, Annotations: { : Schema: [  ] } }, Values: [ Profesional, Profesional, Profesional, Profesional, Profesional, Profesional, Profesional, Profesional, Profesional, Profesional ] }, { MesesPrimeraCompra: Single: Column: { MesesPrimeraCompra: Single: Name: MesesPrimeraCompra, Index: 12, IsHidden: False, Type: { Single: RawType: System.Single }, Annotations: { : Schema: [  ] } }, Values: [ 37, 37, 37, 38, 37, 38, 37, 37, 37, 37 ] }, { DistanciaAlTrabajo: String: Column: { DistanciaAlTrabajo: String: Name: DistanciaAlTrabajo, Index: 13, IsHidden: False, Type: { String: RawType: System.ReadOnlyMemory&lt;System.Char&gt; }, Annotations: { : Schema: [  ] } }, Values: [ 1-2 Miles, 0-1 Miles, 2-5 Miles, 5-10 Miles, 1-2 Miles, 5-10 Miles, 5-10 Miles, 0-1 Miles, 10+ Miles, 5-10 Miles ] } ]</div></td><td><div class=\"dni-plaintext\">[ { 14 columns: Values: [ CustomerKey: 11000, NumeroCoches: 0, rfm_recency: 1, rfm_frequency: 5, rfm_monetary: 2, Edad: 43, EstadoCivil: M, Sexo: M, Hijos: 2, HijosEnCasa: 0, NivelEducativo: Licenciatura, Ocupacion: Profesional, MesesPrimeraCompra: 37, DistanciaAlTrabajo: 1-2 Miles ] }, { 14 columns: Values: [ CustomerKey: 11001, NumeroCoches: 1, rfm_recency: 3, rfm_frequency: 5, rfm_monetary: 2, Edad: 38, EstadoCivil: S, Sexo: M, Hijos: 3, HijosEnCasa: 3, NivelEducativo: Licenciatura, Ocupacion: Profesional, MesesPrimeraCompra: 37, DistanciaAlTrabajo: 0-1 Miles ] }, { 14 columns: Values: [ CustomerKey: 11002, NumeroCoches: 1, rfm_recency: 1, rfm_frequency: 3, rfm_monetary: 2, Edad: 43, EstadoCivil: M, Sexo: M, Hijos: 3, HijosEnCasa: 3, NivelEducativo: Licenciatura, Ocupacion: Profesional, MesesPrimeraCompra: 37, DistanciaAlTrabajo: 2-5 Miles ] }, { 14 columns: Values: [ CustomerKey: 11003, NumeroCoches: 1, rfm_recency: 1, rfm_frequency: 5, rfm_monetary: 2, Edad: 41, EstadoCivil: S, Sexo: F, Hijos: 0, HijosEnCasa: 0, NivelEducativo: Licenciatura, Ocupacion: Profesional, MesesPrimeraCompra: 38, DistanciaAlTrabajo: 5-10 Miles ] }, { 14 columns: Values: [ CustomerKey: 11004, NumeroCoches: 4, rfm_recency: 1, rfm_frequency: 4, rfm_monetary: 2, Edad: 35, EstadoCivil: S, Sexo: F, Hijos: 5, HijosEnCasa: 5, NivelEducativo: Licenciatura, Ocupacion: Profesional, MesesPrimeraCompra: 37, DistanciaAlTrabajo: 1-2 Miles ] }, { 14 columns: Values: [ CustomerKey: 11005, NumeroCoches: 1, rfm_recency: 1, rfm_frequency: 4, rfm_monetary: 2, Edad: 38, EstadoCivil: S, Sexo: M, Hijos: 0, HijosEnCasa: 0, NivelEducativo: Licenciatura, Ocupacion: Profesional, MesesPrimeraCompra: 38, DistanciaAlTrabajo: 5-10 Miles ] }, { 14 columns: Values: [ CustomerKey: 11006, NumeroCoches: 1, rfm_recency: 1, rfm_frequency: 4, rfm_monetary: 2, Edad: 38, EstadoCivil: S, Sexo: F, Hijos: 0, HijosEnCasa: 0, NivelEducativo: Licenciatura, Ocupacion: Profesional, MesesPrimeraCompra: 37, DistanciaAlTrabajo: 5-10 Miles ] }, { 14 columns: Values: [ CustomerKey: 11007, NumeroCoches: 2, rfm_recency: 1, rfm_frequency: 5, rfm_monetary: 2, Edad: 45, EstadoCivil: M, Sexo: M, Hijos: 3, HijosEnCasa: 3, NivelEducativo: Licenciatura, Ocupacion: Profesional, MesesPrimeraCompra: 37, DistanciaAlTrabajo: 0-1 Miles ] }, { 14 columns: Values: [ CustomerKey: 11008, NumeroCoches: 3, rfm_recency: 1, rfm_frequency: 4, rfm_monetary: 2, Edad: 39, EstadoCivil: S, Sexo: F, Hijos: 4, HijosEnCasa: 4, NivelEducativo: Licenciatura, Ocupacion: Profesional, MesesPrimeraCompra: 37, DistanciaAlTrabajo: 10+ Miles ] }, { 14 columns: Values: [ CustomerKey: 11009, NumeroCoches: 1, rfm_recency: 1, rfm_frequency: 4, rfm_monetary: 2, Edad: 45, EstadoCivil: S, Sexo: M, Hijos: 0, HijosEnCasa: 0, NivelEducativo: Licenciatura, Ocupacion: Profesional, MesesPrimeraCompra: 37, DistanciaAlTrabajo: 5-10 Miles ] } ]</div></td></tr></tbody></table>"
      ]
     },
     "metadata": {},
     "output_type": "display_data"
    }
   ],
   "source": [
    "data.Preview(10)"
   ]
  },
  {
   "cell_type": "code",
   "execution_count": 31,
   "metadata": {
    "dotnet_interactive": {
     "language": "csharp"
    },
    "vscode": {
     "languageId": "dotnet-interactive.csharp"
    }
   },
   "outputs": [],
   "source": [
    "public static void ShowDataViewInConsole(MLContext mlContext, IDataView dataView, int numberOfRows = 4)\n",
    "{\n",
    "    string msg = string.Format(\"Show data in DataView: Showing {0} rows with the columns\", numberOfRows.ToString());\n",
    "    \n",
    "\n",
    "    var preViewTransformedData = dataView.Preview(maxRows: numberOfRows);\n",
    "\n",
    "    foreach (var row in preViewTransformedData.RowView)\n",
    "    {\n",
    "        var ColumnCollection = row.Values;\n",
    "        string lineToPrint = \"Row--> \";\n",
    "        foreach (KeyValuePair<string, object> column in ColumnCollection)\n",
    "        {\n",
    "            lineToPrint += $\"| {column.Key}:{column.Value}\";\n",
    "        }\n",
    "        Console.WriteLine(lineToPrint + \"\\n\");\n",
    "    }\n",
    "}"
   ]
  },
  {
   "cell_type": "code",
   "execution_count": 32,
   "metadata": {
    "dotnet_interactive": {
     "language": "csharp"
    },
    "vscode": {
     "languageId": "dotnet-interactive.csharp"
    }
   },
   "outputs": [
    {
     "name": "stdout",
     "output_type": "stream",
     "text": [
      "Row--> | CustomerKey:11000| NumeroCoches:0| rfm_recency:1| rfm_frequency:5| rfm_monetary:2| Edad:43| EstadoCivil:M| Sexo:M| Hijos:2| HijosEnCasa:0| NivelEducativo:Licenciatura| Ocupacion:Profesional| MesesPrimeraCompra:37| DistanciaAlTrabajo:1-2 Miles\n",
      "\r\n",
      "Row--> | CustomerKey:11001| NumeroCoches:1| rfm_recency:3| rfm_frequency:5| rfm_monetary:2| Edad:38| EstadoCivil:S| Sexo:M| Hijos:3| HijosEnCasa:3| NivelEducativo:Licenciatura| Ocupacion:Profesional| MesesPrimeraCompra:37| DistanciaAlTrabajo:0-1 Miles\n",
      "\r\n",
      "Row--> | CustomerKey:11002| NumeroCoches:1| rfm_recency:1| rfm_frequency:3| rfm_monetary:2| Edad:43| EstadoCivil:M| Sexo:M| Hijos:3| HijosEnCasa:3| NivelEducativo:Licenciatura| Ocupacion:Profesional| MesesPrimeraCompra:37| DistanciaAlTrabajo:2-5 Miles\n",
      "\r\n",
      "Row--> | CustomerKey:11003| NumeroCoches:1| rfm_recency:1| rfm_frequency:5| rfm_monetary:2| Edad:41| EstadoCivil:S| Sexo:F| Hijos:0| HijosEnCasa:0| NivelEducativo:Licenciatura| Ocupacion:Profesional| MesesPrimeraCompra:38| DistanciaAlTrabajo:5-10 Miles\n",
      "\r\n"
     ]
    }
   ],
   "source": [
    "ShowDataViewInConsole(mlContext, data)"
   ]
  },
  {
   "cell_type": "code",
   "execution_count": 34,
   "metadata": {
    "dotnet_interactive": {
     "language": "csharp"
    },
    "vscode": {
     "languageId": "dotnet-interactive.csharp"
    }
   },
   "outputs": [],
   "source": [
    "// Definimos un estimador para reemplazar los valores nulos\n",
    "// Imputamos nulos en la columna Edad, por ejemplo\n",
    "var replacementEstimator = mlContext.Transforms.ReplaceMissingValues(new[] \n",
    "    {\n",
    "        new InputOutputColumnPair(\"Edad\"),\n",
    "        new InputOutputColumnPair(\"rfm_recency\"),\n",
    "        new InputOutputColumnPair(\"rfm_frequency\"),\n",
    "        new InputOutputColumnPair(\"rfm_monetary\"),\n",
    "        new InputOutputColumnPair(\"Hijos\"),\n",
    "        new InputOutputColumnPair(\"HijosEnCasa\"),\n",
    "        new InputOutputColumnPair(\"NumeroCoches\"),\n",
    "        new InputOutputColumnPair(\"MesesPrimeraCompra\")\n",
    "    \n",
    "    }, replacementMode: MissingValueReplacingEstimator.ReplacementMode.Mean);\n",
    "\n",
    "// Fit data to estimator\n",
    "// Fitting generates a transformer that applies the operations of defined by estimator\n",
    "ITransformer replacementTransformer = replacementEstimator.Fit(data);\n",
    "\n",
    "// Transform data\n",
    "IDataView transformedData = replacementTransformer.Transform(data);"
   ]
  },
  {
   "cell_type": "code",
   "execution_count": 35,
   "metadata": {
    "dotnet_interactive": {
     "language": "csharp"
    },
    "vscode": {
     "languageId": "dotnet-interactive.csharp"
    }
   },
   "outputs": [],
   "source": [
    "// OneHot Encoding\n",
    "var multiColumnKeyPipeline = mlContext.Transforms.Categorical.OneHotEncoding(new[]\n",
    "                    {\n",
    "                        new InputOutputColumnPair(\"DistanciaAlTrabajo\"),\n",
    "                        new InputOutputColumnPair(\"NivelEducativo\"),\n",
    "                        new InputOutputColumnPair(\"EstadoCivil\"),\n",
    "                        new InputOutputColumnPair(\"Sexo\"),\n",
    "                        new InputOutputColumnPair(\"Ocupacion\")\n",
    "                    });\n",
    "\n",
    "// Fit and Transform data.\n",
    "IDataView transformedData2 = multiColumnKeyPipeline.Fit(transformedData).Transform(transformedData);"
   ]
  },
  {
   "cell_type": "code",
   "execution_count": 36,
   "metadata": {
    "dotnet_interactive": {
     "language": "csharp"
    },
    "vscode": {
     "languageId": "dotnet-interactive.csharp"
    }
   },
   "outputs": [
    {
     "name": "stdout",
     "output_type": "stream",
     "text": [
      "Row--> | CustomerKey:11000| NumeroCoches:0| NumeroCoches:0| rfm_recency:1| rfm_recency:1| rfm_frequency:5| rfm_frequency:5| rfm_monetary:2| rfm_monetary:2| Edad:43| Edad:43| EstadoCivil:M| EstadoCivil:1| EstadoCivil:Sparse vector of size 2, 1 explicit values| Sexo:M| Sexo:1| Sexo:Sparse vector of size 2, 1 explicit values| Hijos:2| Hijos:2| HijosEnCasa:0| HijosEnCasa:0| NivelEducativo:Licenciatura| NivelEducativo:1| NivelEducativo:Sparse vector of size 5, 1 explicit values| Ocupacion:Profesional| Ocupacion:1| Ocupacion:Sparse vector of size 5, 1 explicit values| MesesPrimeraCompra:37| MesesPrimeraCompra:37| DistanciaAlTrabajo:1-2 Miles| DistanciaAlTrabajo:1| DistanciaAlTrabajo:Sparse vector of size 5, 1 explicit values\n",
      "\r\n",
      "Row--> | CustomerKey:11001| NumeroCoches:1| NumeroCoches:1| rfm_recency:3| rfm_recency:3| rfm_frequency:5| rfm_frequency:5| rfm_monetary:2| rfm_monetary:2| Edad:38| Edad:38| EstadoCivil:S| EstadoCivil:2| EstadoCivil:Sparse vector of size 2, 1 explicit values| Sexo:M| Sexo:1| Sexo:Sparse vector of size 2, 1 explicit values| Hijos:3| Hijos:3| HijosEnCasa:3| HijosEnCasa:3| NivelEducativo:Licenciatura| NivelEducativo:1| NivelEducativo:Sparse vector of size 5, 1 explicit values| Ocupacion:Profesional| Ocupacion:1| Ocupacion:Sparse vector of size 5, 1 explicit values| MesesPrimeraCompra:37| MesesPrimeraCompra:37| DistanciaAlTrabajo:0-1 Miles| DistanciaAlTrabajo:2| DistanciaAlTrabajo:Sparse vector of size 5, 1 explicit values\n",
      "\r\n",
      "Row--> | CustomerKey:11002| NumeroCoches:1| NumeroCoches:1| rfm_recency:1| rfm_recency:1| rfm_frequency:3| rfm_frequency:3| rfm_monetary:2| rfm_monetary:2| Edad:43| Edad:43| EstadoCivil:M| EstadoCivil:1| EstadoCivil:Sparse vector of size 2, 1 explicit values| Sexo:M| Sexo:1| Sexo:Sparse vector of size 2, 1 explicit values| Hijos:3| Hijos:3| HijosEnCasa:3| HijosEnCasa:3| NivelEducativo:Licenciatura| NivelEducativo:1| NivelEducativo:Sparse vector of size 5, 1 explicit values| Ocupacion:Profesional| Ocupacion:1| Ocupacion:Sparse vector of size 5, 1 explicit values| MesesPrimeraCompra:37| MesesPrimeraCompra:37| DistanciaAlTrabajo:2-5 Miles| DistanciaAlTrabajo:3| DistanciaAlTrabajo:Sparse vector of size 5, 1 explicit values\n",
      "\r\n",
      "Row--> | CustomerKey:11003| NumeroCoches:1| NumeroCoches:1| rfm_recency:1| rfm_recency:1| rfm_frequency:5| rfm_frequency:5| rfm_monetary:2| rfm_monetary:2| Edad:41| Edad:41| EstadoCivil:S| EstadoCivil:2| EstadoCivil:Sparse vector of size 2, 1 explicit values| Sexo:F| Sexo:2| Sexo:Sparse vector of size 2, 1 explicit values| Hijos:0| Hijos:0| HijosEnCasa:0| HijosEnCasa:0| NivelEducativo:Licenciatura| NivelEducativo:1| NivelEducativo:Sparse vector of size 5, 1 explicit values| Ocupacion:Profesional| Ocupacion:1| Ocupacion:Sparse vector of size 5, 1 explicit values| MesesPrimeraCompra:38| MesesPrimeraCompra:38| DistanciaAlTrabajo:5-10 Miles| DistanciaAlTrabajo:4| DistanciaAlTrabajo:Sparse vector of size 5, 1 explicit values\n",
      "\r\n"
     ]
    }
   ],
   "source": [
    "ShowDataViewInConsole(mlContext, transformedData2)"
   ]
  },
  {
   "cell_type": "code",
   "execution_count": 37,
   "metadata": {
    "dotnet_interactive": {
     "language": "csharp"
    },
    "vscode": {
     "languageId": "dotnet-interactive.csharp"
    }
   },
   "outputs": [
    {
     "name": "stdout",
     "output_type": "stream",
     "text": [
      "Start training model....\r\n",
      "Model training complete!\r\n"
     ]
    }
   ],
   "source": [
    "// para crear el pipeline de entranamiento\n",
    "// paso 1: concatenamos características de entrada en una única columna\n",
    "var pipeline = mlContext.Transforms.Concatenate(\n",
    "    \"Features\", \n",
    "    \"NumeroCoches\", \n",
    "    \"rfm_recency\", \n",
    "    \"rfm_frequency\",\n",
    "    \"rfm_monetary\" ,\n",
    "    \"Edad\",\n",
    "    \"EstadoCivil\",\n",
    "    \"Sexo\",\n",
    "    \"Hijos\",\n",
    "    \"HijosEnCasa\",\n",
    "    \"NivelEducativo\",\n",
    "    \"Ocupacion\",\n",
    "    \"MesesPrimeraCompra\",\n",
    "    \"DistanciaAlTrabajo\")\n",
    "\n",
    "    // paso 2: usamos el algoritmo de k-means \n",
    "    \n",
    "    .Append(mlContext.Clustering.Trainers.KMeans(\"Features\", numberOfClusters: 4));\n",
    "\n",
    "// entrenamos el modelo\n",
    "Console.WriteLine(\"Start training model....\");\n",
    "var model = pipeline.Fit(transformedData2);\n",
    "Console.WriteLine(\"Model training complete!\");"
   ]
  },
  {
   "cell_type": "code",
   "execution_count": 38,
   "metadata": {
    "dotnet_interactive": {
     "language": "csharp"
    },
    "vscode": {
     "languageId": "dotnet-interactive.csharp"
    }
   },
   "outputs": [],
   "source": [
    "// Obtener métricas de scoring del modelo\n",
    "var predictions = model.Transform(transformedData2);\n",
    "var metrics = mlContext.Clustering.Evaluate(predictions);"
   ]
  },
  {
   "cell_type": "code",
   "execution_count": 39,
   "metadata": {
    "dotnet_interactive": {
     "language": "csharp"
    },
    "vscode": {
     "languageId": "dotnet-interactive.csharp"
    }
   },
   "outputs": [
    {
     "name": "stdout",
     "output_type": "stream",
     "text": [
      "Average minimum score: 65,26333216140107\r\n"
     ]
    }
   ],
   "source": [
    "//Disponemos de varias métricas pero mostraremos el  average minimum score. \n",
    "// Nos dice la distancia media entre todas las muestras al centroide de su cluster. Por lo que cuanto más pequeño, mejor es el cluster\n",
    "\n",
    "Console.WriteLine($\"Average minimum score: {metrics.AverageDistance}\");\n"
   ]
  },
  {
   "cell_type": "code",
   "execution_count": 40,
   "metadata": {
    "dotnet_interactive": {
     "language": "csharp"
    },
    "vscode": {
     "languageId": "dotnet-interactive.csharp"
    }
   },
   "outputs": [],
   "source": [
    "//Persistimos el modelo a un fichero .ZIP\n",
    "mlContext.Model.Save(model, transformedData2.Schema, \"modelo.zip\");\n"
   ]
  }
 ],
 "metadata": {
  "kernelspec": {
   "display_name": ".NET (C#)",
   "language": "C#",
   "name": ".net-csharp"
  },
  "language_info": {
   "file_extension": ".cs",
   "mimetype": "text/x-csharp",
   "name": "C#",
   "pygments_lexer": "csharp",
   "version": "9.0"
  },
  "vscode": {
   "interpreter": {
    "hash": "26de051ba29f2982a8de78e945f0abaf191376122a1563185a90213a26c5da77"
   }
  }
 },
 "nbformat": 4,
 "nbformat_minor": 2
}
