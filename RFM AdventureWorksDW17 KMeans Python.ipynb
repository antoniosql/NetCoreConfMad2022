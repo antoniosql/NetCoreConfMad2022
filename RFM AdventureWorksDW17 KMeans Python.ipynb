{
 "cells": [
  {
   "cell_type": "code",
   "execution_count": 23,
   "metadata": {
    "dotnet_interactive": {
     "language": "csharp"
    }
   },
   "outputs": [],
   "source": [
    "import pyodbc\n",
    "import pandas as pd "
   ]
  },
  {
   "cell_type": "code",
   "execution_count": 24,
   "metadata": {
    "dotnet_interactive": {
     "language": "csharp"
    }
   },
   "outputs": [],
   "source": [
    "server = '<SERVER>' \n",
    "database = 'AdventureWorksDW2017' \n",
    "username = '<USUARIO>' \n",
    "password = '<PWD>' \n",
    "\n",
    "#Abrimos la conexion\n",
    "cnxn = pyodbc.connect('DRIVER={ODBC Driver 17 for SQL Server};SERVER='+server+';DATABASE='+database+';UID='+username+';PWD='+ password)"
   ]
  },
  {
   "cell_type": "code",
   "execution_count": 25,
   "metadata": {
    "dotnet_interactive": {
     "language": "csharp"
    }
   },
   "outputs": [],
   "source": [
    "consulta = \"Consulta SQL AdventureWorksDW17.sql\"\n",
    "\n",
    "\n",
    "fichero = open(consulta , \"r\")\n",
    "consultaRFM = fichero.read()\n",
    "fichero.close()"
   ]
  },
  {
   "cell_type": "code",
   "execution_count": 26,
   "metadata": {
    "dotnet_interactive": {
     "language": "csharp"
    }
   },
   "outputs": [
    {
     "name": "stderr",
     "output_type": "stream",
     "text": [
      "C:\\Users\\anton\\AppData\\Local\\Temp\\ipykernel_10724\\2835635214.py:1: UserWarning: pandas only supports SQLAlchemy connectable (engine/connection) or database string URI or sqlite3 DBAPI2 connection. Other DBAPI2 objects are not tested. Please consider using SQLAlchemy.\n",
      "  df_RFM = pd.read_sql(consultaRFM,cnxn)\n"
     ]
    },
    {
     "data": {
      "text/html": [
       "<div>\n",
       "<style scoped>\n",
       "    .dataframe tbody tr th:only-of-type {\n",
       "        vertical-align: middle;\n",
       "    }\n",
       "\n",
       "    .dataframe tbody tr th {\n",
       "        vertical-align: top;\n",
       "    }\n",
       "\n",
       "    .dataframe thead th {\n",
       "        text-align: right;\n",
       "    }\n",
       "</style>\n",
       "<table border=\"1\" class=\"dataframe\">\n",
       "  <thead>\n",
       "    <tr style=\"text-align: right;\">\n",
       "      <th></th>\n",
       "      <th>CustomerKey</th>\n",
       "      <th>rfm_recency</th>\n",
       "      <th>rfm_frequency</th>\n",
       "      <th>rfm_monetary</th>\n",
       "      <th>rfm_Score_Classic</th>\n",
       "      <th>rfm_Score_New</th>\n",
       "      <th>rfm_Score_Concat</th>\n",
       "      <th>rfm_avg</th>\n",
       "    </tr>\n",
       "  </thead>\n",
       "  <tbody>\n",
       "    <tr>\n",
       "      <th>0</th>\n",
       "      <td>14324</td>\n",
       "      <td>2</td>\n",
       "      <td>4</td>\n",
       "      <td>2</td>\n",
       "      <td>16</td>\n",
       "      <td>53</td>\n",
       "      <td>242</td>\n",
       "      <td>3.0</td>\n",
       "    </tr>\n",
       "    <tr>\n",
       "      <th>1</th>\n",
       "      <td>18569</td>\n",
       "      <td>1</td>\n",
       "      <td>1</td>\n",
       "      <td>1</td>\n",
       "      <td>1</td>\n",
       "      <td>20</td>\n",
       "      <td>111</td>\n",
       "      <td>1.0</td>\n",
       "    </tr>\n",
       "    <tr>\n",
       "      <th>2</th>\n",
       "      <td>27059</td>\n",
       "      <td>1</td>\n",
       "      <td>4</td>\n",
       "      <td>1</td>\n",
       "      <td>4</td>\n",
       "      <td>40</td>\n",
       "      <td>141</td>\n",
       "      <td>2.0</td>\n",
       "    </tr>\n",
       "    <tr>\n",
       "      <th>3</th>\n",
       "      <td>22814</td>\n",
       "      <td>1</td>\n",
       "      <td>1</td>\n",
       "      <td>1</td>\n",
       "      <td>1</td>\n",
       "      <td>20</td>\n",
       "      <td>111</td>\n",
       "      <td>1.0</td>\n",
       "    </tr>\n",
       "    <tr>\n",
       "      <th>4</th>\n",
       "      <td>15652</td>\n",
       "      <td>2</td>\n",
       "      <td>4</td>\n",
       "      <td>2</td>\n",
       "      <td>16</td>\n",
       "      <td>53</td>\n",
       "      <td>242</td>\n",
       "      <td>3.0</td>\n",
       "    </tr>\n",
       "  </tbody>\n",
       "</table>\n",
       "</div>"
      ],
      "text/plain": [
       "   CustomerKey  rfm_recency  rfm_frequency  rfm_monetary  rfm_Score_Classic  \\\n",
       "0        14324            2              4             2                 16   \n",
       "1        18569            1              1             1                  1   \n",
       "2        27059            1              4             1                  4   \n",
       "3        22814            1              1             1                  1   \n",
       "4        15652            2              4             2                 16   \n",
       "\n",
       "   rfm_Score_New  rfm_Score_Concat  rfm_avg  \n",
       "0             53               242      3.0  \n",
       "1             20               111      1.0  \n",
       "2             40               141      2.0  \n",
       "3             20               111      1.0  \n",
       "4             53               242      3.0  "
      ]
     },
     "execution_count": 26,
     "metadata": {},
     "output_type": "execute_result"
    }
   ],
   "source": [
    "df_RFM = pd.read_sql(consultaRFM,cnxn)\n",
    "df_RFM.head()"
   ]
  },
  {
   "cell_type": "code",
   "execution_count": 27,
   "metadata": {
    "dotnet_interactive": {
     "language": "csharp"
    }
   },
   "outputs": [
    {
     "name": "stderr",
     "output_type": "stream",
     "text": [
      "C:\\Users\\anton\\AppData\\Local\\Temp\\ipykernel_10724\\2688477819.py:5: UserWarning: pandas only supports SQLAlchemy connectable (engine/connection) or database string URI or sqlite3 DBAPI2 connection. Other DBAPI2 objects are not tested. Please consider using SQLAlchemy.\n",
      "  df_clientes = pd.read_sql(consultaClientes, cnxn)\n"
     ]
    },
    {
     "data": {
      "text/html": [
       "<div>\n",
       "<style scoped>\n",
       "    .dataframe tbody tr th:only-of-type {\n",
       "        vertical-align: middle;\n",
       "    }\n",
       "\n",
       "    .dataframe tbody tr th {\n",
       "        vertical-align: top;\n",
       "    }\n",
       "\n",
       "    .dataframe thead th {\n",
       "        text-align: right;\n",
       "    }\n",
       "</style>\n",
       "<table border=\"1\" class=\"dataframe\">\n",
       "  <thead>\n",
       "    <tr style=\"text-align: right;\">\n",
       "      <th></th>\n",
       "      <th>CustomerKey</th>\n",
       "      <th>Edad</th>\n",
       "      <th>MaritalStatus</th>\n",
       "      <th>Gender</th>\n",
       "      <th>YearlyIncome</th>\n",
       "      <th>TotalChildren</th>\n",
       "      <th>NumberChildrenAtHome</th>\n",
       "      <th>SpanishEducation</th>\n",
       "      <th>SpanishOccupation</th>\n",
       "      <th>HouseOwnerFlag</th>\n",
       "      <th>NumberCarsOwned</th>\n",
       "      <th>MesesPrimeraCompra</th>\n",
       "      <th>CommuteDistance</th>\n",
       "    </tr>\n",
       "  </thead>\n",
       "  <tbody>\n",
       "    <tr>\n",
       "      <th>0</th>\n",
       "      <td>11000</td>\n",
       "      <td>43</td>\n",
       "      <td>M</td>\n",
       "      <td>M</td>\n",
       "      <td>90000.0</td>\n",
       "      <td>2</td>\n",
       "      <td>0</td>\n",
       "      <td>Licenciatura</td>\n",
       "      <td>Profesional</td>\n",
       "      <td>1</td>\n",
       "      <td>0</td>\n",
       "      <td>37</td>\n",
       "      <td>1-2 Miles</td>\n",
       "    </tr>\n",
       "    <tr>\n",
       "      <th>1</th>\n",
       "      <td>11001</td>\n",
       "      <td>38</td>\n",
       "      <td>S</td>\n",
       "      <td>M</td>\n",
       "      <td>60000.0</td>\n",
       "      <td>3</td>\n",
       "      <td>3</td>\n",
       "      <td>Licenciatura</td>\n",
       "      <td>Profesional</td>\n",
       "      <td>0</td>\n",
       "      <td>1</td>\n",
       "      <td>37</td>\n",
       "      <td>0-1 Miles</td>\n",
       "    </tr>\n",
       "    <tr>\n",
       "      <th>2</th>\n",
       "      <td>11002</td>\n",
       "      <td>43</td>\n",
       "      <td>M</td>\n",
       "      <td>M</td>\n",
       "      <td>60000.0</td>\n",
       "      <td>3</td>\n",
       "      <td>3</td>\n",
       "      <td>Licenciatura</td>\n",
       "      <td>Profesional</td>\n",
       "      <td>1</td>\n",
       "      <td>1</td>\n",
       "      <td>37</td>\n",
       "      <td>2-5 Miles</td>\n",
       "    </tr>\n",
       "    <tr>\n",
       "      <th>3</th>\n",
       "      <td>11003</td>\n",
       "      <td>41</td>\n",
       "      <td>S</td>\n",
       "      <td>F</td>\n",
       "      <td>70000.0</td>\n",
       "      <td>0</td>\n",
       "      <td>0</td>\n",
       "      <td>Licenciatura</td>\n",
       "      <td>Profesional</td>\n",
       "      <td>0</td>\n",
       "      <td>1</td>\n",
       "      <td>38</td>\n",
       "      <td>5-10 Miles</td>\n",
       "    </tr>\n",
       "    <tr>\n",
       "      <th>4</th>\n",
       "      <td>11004</td>\n",
       "      <td>35</td>\n",
       "      <td>S</td>\n",
       "      <td>F</td>\n",
       "      <td>80000.0</td>\n",
       "      <td>5</td>\n",
       "      <td>5</td>\n",
       "      <td>Licenciatura</td>\n",
       "      <td>Profesional</td>\n",
       "      <td>1</td>\n",
       "      <td>4</td>\n",
       "      <td>37</td>\n",
       "      <td>1-2 Miles</td>\n",
       "    </tr>\n",
       "  </tbody>\n",
       "</table>\n",
       "</div>"
      ],
      "text/plain": [
       "   CustomerKey  Edad MaritalStatus Gender  YearlyIncome  TotalChildren  \\\n",
       "0        11000    43             M      M       90000.0              2   \n",
       "1        11001    38             S      M       60000.0              3   \n",
       "2        11002    43             M      M       60000.0              3   \n",
       "3        11003    41             S      F       70000.0              0   \n",
       "4        11004    35             S      F       80000.0              5   \n",
       "\n",
       "   NumberChildrenAtHome SpanishEducation SpanishOccupation HouseOwnerFlag  \\\n",
       "0                     0     Licenciatura       Profesional              1   \n",
       "1                     3     Licenciatura       Profesional              0   \n",
       "2                     3     Licenciatura       Profesional              1   \n",
       "3                     0     Licenciatura       Profesional              0   \n",
       "4                     5     Licenciatura       Profesional              1   \n",
       "\n",
       "   NumberCarsOwned  MesesPrimeraCompra CommuteDistance  \n",
       "0                0                  37       1-2 Miles  \n",
       "1                1                  37       0-1 Miles  \n",
       "2                1                  37       2-5 Miles  \n",
       "3                1                  38      5-10 Miles  \n",
       "4                4                  37       1-2 Miles  "
      ]
     },
     "execution_count": 27,
     "metadata": {},
     "output_type": "execute_result"
    }
   ],
   "source": [
    "ficheroconsultaClientes= \"ConsultaSQL Clientes AdventureWorksDW2017.sql\"\n",
    "fichero = open(ficheroconsultaClientes , \"r\")\n",
    "consultaClientes = fichero.read()\n",
    "fichero.close()\n",
    "df_clientes = pd.read_sql(consultaClientes, cnxn)\n",
    "df_clientes.head()"
   ]
  },
  {
   "cell_type": "code",
   "execution_count": 28,
   "metadata": {
    "dotnet_interactive": {
     "language": "csharp"
    }
   },
   "outputs": [
    {
     "data": {
      "text/html": [
       "<div>\n",
       "<style scoped>\n",
       "    .dataframe tbody tr th:only-of-type {\n",
       "        vertical-align: middle;\n",
       "    }\n",
       "\n",
       "    .dataframe tbody tr th {\n",
       "        vertical-align: top;\n",
       "    }\n",
       "\n",
       "    .dataframe thead th {\n",
       "        text-align: right;\n",
       "    }\n",
       "</style>\n",
       "<table border=\"1\" class=\"dataframe\">\n",
       "  <thead>\n",
       "    <tr style=\"text-align: right;\">\n",
       "      <th></th>\n",
       "      <th>CustomerKey</th>\n",
       "      <th>rfm_recency</th>\n",
       "      <th>rfm_frequency</th>\n",
       "      <th>rfm_monetary</th>\n",
       "      <th>rfm_Score_Classic</th>\n",
       "      <th>rfm_Score_New</th>\n",
       "      <th>rfm_Score_Concat</th>\n",
       "      <th>rfm_avg</th>\n",
       "      <th>Edad</th>\n",
       "      <th>MaritalStatus</th>\n",
       "      <th>Gender</th>\n",
       "      <th>YearlyIncome</th>\n",
       "      <th>TotalChildren</th>\n",
       "      <th>NumberChildrenAtHome</th>\n",
       "      <th>SpanishEducation</th>\n",
       "      <th>SpanishOccupation</th>\n",
       "      <th>HouseOwnerFlag</th>\n",
       "      <th>NumberCarsOwned</th>\n",
       "      <th>MesesPrimeraCompra</th>\n",
       "      <th>CommuteDistance</th>\n",
       "    </tr>\n",
       "  </thead>\n",
       "  <tbody>\n",
       "    <tr>\n",
       "      <th>0</th>\n",
       "      <td>14324</td>\n",
       "      <td>2</td>\n",
       "      <td>4</td>\n",
       "      <td>2</td>\n",
       "      <td>16</td>\n",
       "      <td>53</td>\n",
       "      <td>242</td>\n",
       "      <td>3.0</td>\n",
       "      <td>52</td>\n",
       "      <td>S</td>\n",
       "      <td>F</td>\n",
       "      <td>70000.0</td>\n",
       "      <td>1</td>\n",
       "      <td>0</td>\n",
       "      <td>Estudios universitarios (en curso)</td>\n",
       "      <td>Obrero especializado</td>\n",
       "      <td>1</td>\n",
       "      <td>1</td>\n",
       "      <td>17</td>\n",
       "      <td>5-10 Miles</td>\n",
       "    </tr>\n",
       "    <tr>\n",
       "      <th>1</th>\n",
       "      <td>18569</td>\n",
       "      <td>1</td>\n",
       "      <td>1</td>\n",
       "      <td>1</td>\n",
       "      <td>1</td>\n",
       "      <td>20</td>\n",
       "      <td>111</td>\n",
       "      <td>1.0</td>\n",
       "      <td>43</td>\n",
       "      <td>M</td>\n",
       "      <td>F</td>\n",
       "      <td>60000.0</td>\n",
       "      <td>0</td>\n",
       "      <td>0</td>\n",
       "      <td>Estudios de postgrado</td>\n",
       "      <td>Profesional</td>\n",
       "      <td>1</td>\n",
       "      <td>0</td>\n",
       "      <td>12</td>\n",
       "      <td>0-1 Miles</td>\n",
       "    </tr>\n",
       "    <tr>\n",
       "      <th>2</th>\n",
       "      <td>27059</td>\n",
       "      <td>1</td>\n",
       "      <td>4</td>\n",
       "      <td>1</td>\n",
       "      <td>4</td>\n",
       "      <td>40</td>\n",
       "      <td>141</td>\n",
       "      <td>2.0</td>\n",
       "      <td>31</td>\n",
       "      <td>M</td>\n",
       "      <td>M</td>\n",
       "      <td>50000.0</td>\n",
       "      <td>0</td>\n",
       "      <td>0</td>\n",
       "      <td>Estudios de postgrado</td>\n",
       "      <td>Obrero especializado</td>\n",
       "      <td>0</td>\n",
       "      <td>0</td>\n",
       "      <td>12</td>\n",
       "      <td>0-1 Miles</td>\n",
       "    </tr>\n",
       "    <tr>\n",
       "      <th>3</th>\n",
       "      <td>22814</td>\n",
       "      <td>1</td>\n",
       "      <td>1</td>\n",
       "      <td>1</td>\n",
       "      <td>1</td>\n",
       "      <td>20</td>\n",
       "      <td>111</td>\n",
       "      <td>1.0</td>\n",
       "      <td>63</td>\n",
       "      <td>M</td>\n",
       "      <td>M</td>\n",
       "      <td>100000.0</td>\n",
       "      <td>2</td>\n",
       "      <td>3</td>\n",
       "      <td>Licenciatura</td>\n",
       "      <td>Gestión</td>\n",
       "      <td>1</td>\n",
       "      <td>4</td>\n",
       "      <td>11</td>\n",
       "      <td>10+ Miles</td>\n",
       "    </tr>\n",
       "    <tr>\n",
       "      <th>4</th>\n",
       "      <td>15652</td>\n",
       "      <td>2</td>\n",
       "      <td>4</td>\n",
       "      <td>2</td>\n",
       "      <td>16</td>\n",
       "      <td>53</td>\n",
       "      <td>242</td>\n",
       "      <td>3.0</td>\n",
       "      <td>48</td>\n",
       "      <td>M</td>\n",
       "      <td>F</td>\n",
       "      <td>30000.0</td>\n",
       "      <td>4</td>\n",
       "      <td>0</td>\n",
       "      <td>Estudios de postgrado</td>\n",
       "      <td>Administrativo</td>\n",
       "      <td>1</td>\n",
       "      <td>0</td>\n",
       "      <td>27</td>\n",
       "      <td>0-1 Miles</td>\n",
       "    </tr>\n",
       "  </tbody>\n",
       "</table>\n",
       "</div>"
      ],
      "text/plain": [
       "   CustomerKey  rfm_recency  rfm_frequency  rfm_monetary  rfm_Score_Classic  \\\n",
       "0        14324            2              4             2                 16   \n",
       "1        18569            1              1             1                  1   \n",
       "2        27059            1              4             1                  4   \n",
       "3        22814            1              1             1                  1   \n",
       "4        15652            2              4             2                 16   \n",
       "\n",
       "   rfm_Score_New  rfm_Score_Concat  rfm_avg  Edad MaritalStatus Gender  \\\n",
       "0             53               242      3.0    52             S      F   \n",
       "1             20               111      1.0    43             M      F   \n",
       "2             40               141      2.0    31             M      M   \n",
       "3             20               111      1.0    63             M      M   \n",
       "4             53               242      3.0    48             M      F   \n",
       "\n",
       "   YearlyIncome  TotalChildren  NumberChildrenAtHome  \\\n",
       "0       70000.0              1                     0   \n",
       "1       60000.0              0                     0   \n",
       "2       50000.0              0                     0   \n",
       "3      100000.0              2                     3   \n",
       "4       30000.0              4                     0   \n",
       "\n",
       "                     SpanishEducation     SpanishOccupation HouseOwnerFlag  \\\n",
       "0  Estudios universitarios (en curso)  Obrero especializado              1   \n",
       "1               Estudios de postgrado           Profesional              1   \n",
       "2               Estudios de postgrado  Obrero especializado              0   \n",
       "3                        Licenciatura               Gestión              1   \n",
       "4               Estudios de postgrado        Administrativo              1   \n",
       "\n",
       "   NumberCarsOwned  MesesPrimeraCompra CommuteDistance  \n",
       "0                1                  17      5-10 Miles  \n",
       "1                0                  12       0-1 Miles  \n",
       "2                0                  12       0-1 Miles  \n",
       "3                4                  11       10+ Miles  \n",
       "4                0                  27       0-1 Miles  "
      ]
     },
     "execution_count": 28,
     "metadata": {},
     "output_type": "execute_result"
    }
   ],
   "source": [
    "df_input = pd.merge(df_RFM , df_clientes, on=\"CustomerKey\")\n",
    "df_input.head()"
   ]
  },
  {
   "cell_type": "code",
   "execution_count": 29,
   "metadata": {
    "dotnet_interactive": {
     "language": "csharp"
    }
   },
   "outputs": [],
   "source": [
    "# Quitar columnas que no nos interesan y el CustomerKey como indice\n",
    "caracteristicas = ['Edad','rfm_recency','rfm_frequency' , 'rfm_monetary' ,'TotalChildren','NumberChildrenAtHome' , 'NumberCarsOwned' , 'MesesPrimeraCompra','MaritalStatus', 'Gender', 'SpanishEducation','SpanishOccupation','CommuteDistance' ]\n",
    "\n",
    "df_input.set_index('CustomerKey',inplace=True)\n",
    "df_input = df_input[caracteristicas]\n",
    "\n"
   ]
  },
  {
   "cell_type": "code",
   "execution_count": 30,
   "metadata": {
    "dotnet_interactive": {
     "language": "csharp"
    }
   },
   "outputs": [
    {
     "data": {
      "text/html": [
       "<div>\n",
       "<style scoped>\n",
       "    .dataframe tbody tr th:only-of-type {\n",
       "        vertical-align: middle;\n",
       "    }\n",
       "\n",
       "    .dataframe tbody tr th {\n",
       "        vertical-align: top;\n",
       "    }\n",
       "\n",
       "    .dataframe thead th {\n",
       "        text-align: right;\n",
       "    }\n",
       "</style>\n",
       "<table border=\"1\" class=\"dataframe\">\n",
       "  <thead>\n",
       "    <tr style=\"text-align: right;\">\n",
       "      <th></th>\n",
       "      <th>Edad</th>\n",
       "      <th>rfm_recency</th>\n",
       "      <th>rfm_frequency</th>\n",
       "      <th>rfm_monetary</th>\n",
       "      <th>TotalChildren</th>\n",
       "      <th>NumberChildrenAtHome</th>\n",
       "      <th>NumberCarsOwned</th>\n",
       "      <th>MesesPrimeraCompra</th>\n",
       "      <th>MaritalStatus</th>\n",
       "      <th>Gender</th>\n",
       "      <th>SpanishEducation</th>\n",
       "      <th>SpanishOccupation</th>\n",
       "      <th>CommuteDistance</th>\n",
       "    </tr>\n",
       "    <tr>\n",
       "      <th>CustomerKey</th>\n",
       "      <th></th>\n",
       "      <th></th>\n",
       "      <th></th>\n",
       "      <th></th>\n",
       "      <th></th>\n",
       "      <th></th>\n",
       "      <th></th>\n",
       "      <th></th>\n",
       "      <th></th>\n",
       "      <th></th>\n",
       "      <th></th>\n",
       "      <th></th>\n",
       "      <th></th>\n",
       "    </tr>\n",
       "  </thead>\n",
       "  <tbody>\n",
       "    <tr>\n",
       "      <th>14324</th>\n",
       "      <td>52</td>\n",
       "      <td>2</td>\n",
       "      <td>4</td>\n",
       "      <td>2</td>\n",
       "      <td>1</td>\n",
       "      <td>0</td>\n",
       "      <td>1</td>\n",
       "      <td>17</td>\n",
       "      <td>S</td>\n",
       "      <td>F</td>\n",
       "      <td>Estudios universitarios (en curso)</td>\n",
       "      <td>Obrero especializado</td>\n",
       "      <td>5-10 Miles</td>\n",
       "    </tr>\n",
       "    <tr>\n",
       "      <th>18569</th>\n",
       "      <td>43</td>\n",
       "      <td>1</td>\n",
       "      <td>1</td>\n",
       "      <td>1</td>\n",
       "      <td>0</td>\n",
       "      <td>0</td>\n",
       "      <td>0</td>\n",
       "      <td>12</td>\n",
       "      <td>M</td>\n",
       "      <td>F</td>\n",
       "      <td>Estudios de postgrado</td>\n",
       "      <td>Profesional</td>\n",
       "      <td>0-1 Miles</td>\n",
       "    </tr>\n",
       "    <tr>\n",
       "      <th>27059</th>\n",
       "      <td>31</td>\n",
       "      <td>1</td>\n",
       "      <td>4</td>\n",
       "      <td>1</td>\n",
       "      <td>0</td>\n",
       "      <td>0</td>\n",
       "      <td>0</td>\n",
       "      <td>12</td>\n",
       "      <td>M</td>\n",
       "      <td>M</td>\n",
       "      <td>Estudios de postgrado</td>\n",
       "      <td>Obrero especializado</td>\n",
       "      <td>0-1 Miles</td>\n",
       "    </tr>\n",
       "    <tr>\n",
       "      <th>22814</th>\n",
       "      <td>63</td>\n",
       "      <td>1</td>\n",
       "      <td>1</td>\n",
       "      <td>1</td>\n",
       "      <td>2</td>\n",
       "      <td>3</td>\n",
       "      <td>4</td>\n",
       "      <td>11</td>\n",
       "      <td>M</td>\n",
       "      <td>M</td>\n",
       "      <td>Licenciatura</td>\n",
       "      <td>Gestión</td>\n",
       "      <td>10+ Miles</td>\n",
       "    </tr>\n",
       "    <tr>\n",
       "      <th>15652</th>\n",
       "      <td>48</td>\n",
       "      <td>2</td>\n",
       "      <td>4</td>\n",
       "      <td>2</td>\n",
       "      <td>4</td>\n",
       "      <td>0</td>\n",
       "      <td>0</td>\n",
       "      <td>27</td>\n",
       "      <td>M</td>\n",
       "      <td>F</td>\n",
       "      <td>Estudios de postgrado</td>\n",
       "      <td>Administrativo</td>\n",
       "      <td>0-1 Miles</td>\n",
       "    </tr>\n",
       "  </tbody>\n",
       "</table>\n",
       "</div>"
      ],
      "text/plain": [
       "             Edad  rfm_recency  rfm_frequency  rfm_monetary  TotalChildren  \\\n",
       "CustomerKey                                                                  \n",
       "14324          52            2              4             2              1   \n",
       "18569          43            1              1             1              0   \n",
       "27059          31            1              4             1              0   \n",
       "22814          63            1              1             1              2   \n",
       "15652          48            2              4             2              4   \n",
       "\n",
       "             NumberChildrenAtHome  NumberCarsOwned  MesesPrimeraCompra  \\\n",
       "CustomerKey                                                              \n",
       "14324                           0                1                  17   \n",
       "18569                           0                0                  12   \n",
       "27059                           0                0                  12   \n",
       "22814                           3                4                  11   \n",
       "15652                           0                0                  27   \n",
       "\n",
       "            MaritalStatus Gender                    SpanishEducation  \\\n",
       "CustomerKey                                                            \n",
       "14324                   S      F  Estudios universitarios (en curso)   \n",
       "18569                   M      F               Estudios de postgrado   \n",
       "27059                   M      M               Estudios de postgrado   \n",
       "22814                   M      M                        Licenciatura   \n",
       "15652                   M      F               Estudios de postgrado   \n",
       "\n",
       "                SpanishOccupation CommuteDistance  \n",
       "CustomerKey                                        \n",
       "14324        Obrero especializado      5-10 Miles  \n",
       "18569                 Profesional       0-1 Miles  \n",
       "27059        Obrero especializado       0-1 Miles  \n",
       "22814                     Gestión       10+ Miles  \n",
       "15652              Administrativo       0-1 Miles  "
      ]
     },
     "execution_count": 30,
     "metadata": {},
     "output_type": "execute_result"
    }
   ],
   "source": [
    "df_input.head()"
   ]
  },
  {
   "cell_type": "code",
   "execution_count": 31,
   "metadata": {
    "dotnet_interactive": {
     "language": "csharp"
    }
   },
   "outputs": [],
   "source": [
    "from sklearn.compose import ColumnTransformer\n",
    "from sklearn.pipeline import Pipeline\n",
    "from sklearn.impute import SimpleImputer\n",
    "from sklearn.preprocessing import StandardScaler, OneHotEncoder"
   ]
  },
  {
   "cell_type": "code",
   "execution_count": 32,
   "metadata": {
    "dotnet_interactive": {
     "language": "csharp"
    }
   },
   "outputs": [],
   "source": [
    "#Vamos a definir un Pipeline que nos permita realizar las tareas de limpieza y transformación sobre varias columnas\n",
    "\n",
    "#Seleccionamos las columnas numéricas\n",
    "numeric_features = ['Edad','rfm_recency','rfm_frequency' , 'rfm_monetary' ,'TotalChildren','NumberChildrenAtHome' , 'NumberCarsOwned' , 'MesesPrimeraCompra' ]\n",
    "#Definimos las transformaciones que les vamos a aplicar --> Imputar nulos y escalar\n",
    "numeric_transformer = Pipeline(steps=[\n",
    "    ('imputer', SimpleImputer(strategy='median')),\n",
    "    ('scaler', StandardScaler())])\n",
    "\n",
    "#Definimos las variables categóricas y las transformaciones --> Imputar con 'missing' y aplicar una Codificación OneHot\n",
    "\n",
    "categorical_features = ['MaritalStatus', 'Gender', 'SpanishEducation','SpanishOccupation','CommuteDistance']\n",
    "categorical_transformer = Pipeline(steps=[\n",
    "    ('imputer', SimpleImputer(strategy='constant', fill_value='missing')),\n",
    "    ('onehot', OneHotEncoder(handle_unknown='ignore'))])\n",
    "\n",
    "#Utilizamos el método ColumnTransformer para asociar los pipelines a las columnas\n",
    "\n",
    "preprocessor = ColumnTransformer(\n",
    "    transformers=[\n",
    "        ('num', numeric_transformer, numeric_features),\n",
    "        ('cat', categorical_transformer, categorical_features)])"
   ]
  },
  {
   "cell_type": "code",
   "execution_count": 35,
   "metadata": {
    "dotnet_interactive": {
     "language": "csharp"
    }
   },
   "outputs": [],
   "source": [
    "from sklearn.cluster import KMeans\n",
    "import sklearn.metrics as sm\n",
    "model = KMeans(n_clusters=4)\n"
   ]
  },
  {
   "cell_type": "code",
   "execution_count": 34,
   "metadata": {
    "dotnet_interactive": {
     "language": "csharp"
    }
   },
   "outputs": [
    {
     "data": {
      "image/png": "[encoded data removed]",
      "text/plain": [
       "<Figure size 800x550 with 2 Axes>"
      ]
     },
     "metadata": {},
     "output_type": "display_data"
    },
    {
     "data": {
      "text/plain": [
       "<AxesSubplot: title={'center': 'Distortion Score Elbow for KMeans Clustering'}, xlabel='k', ylabel='distortion score'>"
      ]
     },
     "execution_count": 34,
     "metadata": {},
     "output_type": "execute_result"
    }
   ],
   "source": [
    "\n",
    "from yellowbrick.cluster import KElbowVisualizer\n",
    "\n",
    "visualizer = KElbowVisualizer(model, k=(1,12))\n",
    "\n",
    "visorcluster = Pipeline(steps=[('preprocessor', preprocessor),\n",
    "                      ('segmentador', visualizer)])\n",
    "\n",
    "visorcluster.fit(df_input)     # Entrenamos con los datos\n",
    "\n",
    "visualizer.show()        # Renderizamos la imagen"
   ]
  },
  {
   "cell_type": "code",
   "execution_count": 36,
   "metadata": {
    "dotnet_interactive": {
     "language": "csharp"
    }
   },
   "outputs": [],
   "source": [
    "cluster = Pipeline(steps=[('preprocessor', preprocessor),\n",
    "                      ('segmentador', model)])"
   ]
  },
  {
   "cell_type": "code",
   "execution_count": 37,
   "metadata": {
    "dotnet_interactive": {
     "language": "csharp"
    }
   },
   "outputs": [
    {
     "data": {
      "text/html": [
       "<style>#sk-container-id-2 {color: black;background-color: white;}#sk-container-id-2 pre{padding: 0;}#sk-container-id-2 div.sk-toggleable {background-color: white;}#sk-container-id-2 label.sk-toggleable__label {cursor: pointer;display: block;width: 100%;margin-bottom: 0;padding: 0.3em;box-sizing: border-box;text-align: center;}#sk-container-id-2 label.sk-toggleable__label-arrow:before {content: \"▸\";float: left;margin-right: 0.25em;color: #696969;}#sk-container-id-2 label.sk-toggleable__label-arrow:hover:before {color: black;}#sk-container-id-2 div.sk-estimator:hover label.sk-toggleable__label-arrow:before {color: black;}#sk-container-id-2 div.sk-toggleable__content {max-height: 0;max-width: 0;overflow: hidden;text-align: left;background-color: #f0f8ff;}#sk-container-id-2 div.sk-toggleable__content pre {margin: 0.2em;color: black;border-radius: 0.25em;background-color: #f0f8ff;}#sk-container-id-2 input.sk-toggleable__control:checked~div.sk-toggleable__content {max-height: 200px;max-width: 100%;overflow: auto;}#sk-container-id-2 input.sk-toggleable__control:checked~label.sk-toggleable__label-arrow:before {content: \"▾\";}#sk-container-id-2 div.sk-estimator input.sk-toggleable__control:checked~label.sk-toggleable__label {background-color: #d4ebff;}#sk-container-id-2 div.sk-label input.sk-toggleable__control:checked~label.sk-toggleable__label {background-color: #d4ebff;}#sk-container-id-2 input.sk-hidden--visually {border: 0;clip: rect(1px 1px 1px 1px);clip: rect(1px, 1px, 1px, 1px);height: 1px;margin: -1px;overflow: hidden;padding: 0;position: absolute;width: 1px;}#sk-container-id-2 div.sk-estimator {font-family: monospace;background-color: #f0f8ff;border: 1px dotted black;border-radius: 0.25em;box-sizing: border-box;margin-bottom: 0.5em;}#sk-container-id-2 div.sk-estimator:hover {background-color: #d4ebff;}#sk-container-id-2 div.sk-parallel-item::after {content: \"\";width: 100%;border-bottom: 1px solid gray;flex-grow: 1;}#sk-container-id-2 div.sk-label:hover label.sk-toggleable__label {background-color: #d4ebff;}#sk-container-id-2 div.sk-serial::before {content: \"\";position: absolute;border-left: 1px solid gray;box-sizing: border-box;top: 0;bottom: 0;left: 50%;z-index: 0;}#sk-container-id-2 div.sk-serial {display: flex;flex-direction: column;align-items: center;background-color: white;padding-right: 0.2em;padding-left: 0.2em;position: relative;}#sk-container-id-2 div.sk-item {position: relative;z-index: 1;}#sk-container-id-2 div.sk-parallel {display: flex;align-items: stretch;justify-content: center;background-color: white;position: relative;}#sk-container-id-2 div.sk-item::before, #sk-container-id-2 div.sk-parallel-item::before {content: \"\";position: absolute;border-left: 1px solid gray;box-sizing: border-box;top: 0;bottom: 0;left: 50%;z-index: -1;}#sk-container-id-2 div.sk-parallel-item {display: flex;flex-direction: column;z-index: 1;position: relative;background-color: white;}#sk-container-id-2 div.sk-parallel-item:first-child::after {align-self: flex-end;width: 50%;}#sk-container-id-2 div.sk-parallel-item:last-child::after {align-self: flex-start;width: 50%;}#sk-container-id-2 div.sk-parallel-item:only-child::after {width: 0;}#sk-container-id-2 div.sk-dashed-wrapped {border: 1px dashed gray;margin: 0 0.4em 0.5em 0.4em;box-sizing: border-box;padding-bottom: 0.4em;background-color: white;}#sk-container-id-2 div.sk-label label {font-family: monospace;font-weight: bold;display: inline-block;line-height: 1.2em;}#sk-container-id-2 div.sk-label-container {text-align: center;}#sk-container-id-2 div.sk-container {/* jupyter's `normalize.less` sets `[hidden] { display: none; }` but bootstrap.min.css set `[hidden] { display: none !important; }` so we also need the `!important` here to be able to override the default hidden behavior on the sphinx rendered scikit-learn.org. See: https://github.com/scikit-learn/scikit-learn/issues/21755 */display: inline-block !important;position: relative;}#sk-container-id-2 div.sk-text-repr-fallback {display: none;}</style><div id=\"sk-container-id-2\" class=\"sk-top-container\"><div class=\"sk-text-repr-fallback\"><pre>Pipeline(steps=[(&#x27;preprocessor&#x27;,\n",
       "                 ColumnTransformer(transformers=[(&#x27;num&#x27;,\n",
       "                                                  Pipeline(steps=[(&#x27;imputer&#x27;,\n",
       "                                                                   SimpleImputer(strategy=&#x27;median&#x27;)),\n",
       "                                                                  (&#x27;scaler&#x27;,\n",
       "                                                                   StandardScaler())]),\n",
       "                                                  [&#x27;Edad&#x27;, &#x27;rfm_recency&#x27;,\n",
       "                                                   &#x27;rfm_frequency&#x27;,\n",
       "                                                   &#x27;rfm_monetary&#x27;,\n",
       "                                                   &#x27;TotalChildren&#x27;,\n",
       "                                                   &#x27;NumberChildrenAtHome&#x27;,\n",
       "                                                   &#x27;NumberCarsOwned&#x27;,\n",
       "                                                   &#x27;MesesPrimeraCompra&#x27;]),\n",
       "                                                 (&#x27;cat&#x27;,\n",
       "                                                  Pipeline(steps=[(&#x27;imputer&#x27;,\n",
       "                                                                   SimpleImputer(fill_value=&#x27;missing&#x27;,\n",
       "                                                                                 strategy=&#x27;constant&#x27;)),\n",
       "                                                                  (&#x27;onehot&#x27;,\n",
       "                                                                   OneHotEncoder(handle_unknown=&#x27;ignore&#x27;))]),\n",
       "                                                  [&#x27;MaritalStatus&#x27;, &#x27;Gender&#x27;,\n",
       "                                                   &#x27;SpanishEducation&#x27;,\n",
       "                                                   &#x27;SpanishOccupation&#x27;,\n",
       "                                                   &#x27;CommuteDistance&#x27;])])),\n",
       "                (&#x27;segmentador&#x27;, KMeans(n_clusters=4))])</pre><b>In a Jupyter environment, please rerun this cell to show the HTML representation or trust the notebook. <br />On GitHub, the HTML representation is unable to render, please try loading this page with nbviewer.org.</b></div><div class=\"sk-container\" hidden><div class=\"sk-item sk-dashed-wrapped\"><div class=\"sk-label-container\"><div class=\"sk-label sk-toggleable\"><input class=\"sk-toggleable__control sk-hidden--visually\" id=\"sk-estimator-id-10\" type=\"checkbox\" ><label for=\"sk-estimator-id-10\" class=\"sk-toggleable__label sk-toggleable__label-arrow\">Pipeline</label><div class=\"sk-toggleable__content\"><pre>Pipeline(steps=[(&#x27;preprocessor&#x27;,\n",
       "                 ColumnTransformer(transformers=[(&#x27;num&#x27;,\n",
       "                                                  Pipeline(steps=[(&#x27;imputer&#x27;,\n",
       "                                                                   SimpleImputer(strategy=&#x27;median&#x27;)),\n",
       "                                                                  (&#x27;scaler&#x27;,\n",
       "                                                                   StandardScaler())]),\n",
       "                                                  [&#x27;Edad&#x27;, &#x27;rfm_recency&#x27;,\n",
       "                                                   &#x27;rfm_frequency&#x27;,\n",
       "                                                   &#x27;rfm_monetary&#x27;,\n",
       "                                                   &#x27;TotalChildren&#x27;,\n",
       "                                                   &#x27;NumberChildrenAtHome&#x27;,\n",
       "                                                   &#x27;NumberCarsOwned&#x27;,\n",
       "                                                   &#x27;MesesPrimeraCompra&#x27;]),\n",
       "                                                 (&#x27;cat&#x27;,\n",
       "                                                  Pipeline(steps=[(&#x27;imputer&#x27;,\n",
       "                                                                   SimpleImputer(fill_value=&#x27;missing&#x27;,\n",
       "                                                                                 strategy=&#x27;constant&#x27;)),\n",
       "                                                                  (&#x27;onehot&#x27;,\n",
       "                                                                   OneHotEncoder(handle_unknown=&#x27;ignore&#x27;))]),\n",
       "                                                  [&#x27;MaritalStatus&#x27;, &#x27;Gender&#x27;,\n",
       "                                                   &#x27;SpanishEducation&#x27;,\n",
       "                                                   &#x27;SpanishOccupation&#x27;,\n",
       "                                                   &#x27;CommuteDistance&#x27;])])),\n",
       "                (&#x27;segmentador&#x27;, KMeans(n_clusters=4))])</pre></div></div></div><div class=\"sk-serial\"><div class=\"sk-item sk-dashed-wrapped\"><div class=\"sk-label-container\"><div class=\"sk-label sk-toggleable\"><input class=\"sk-toggleable__control sk-hidden--visually\" id=\"sk-estimator-id-11\" type=\"checkbox\" ><label for=\"sk-estimator-id-11\" class=\"sk-toggleable__label sk-toggleable__label-arrow\">preprocessor: ColumnTransformer</label><div class=\"sk-toggleable__content\"><pre>ColumnTransformer(transformers=[(&#x27;num&#x27;,\n",
       "                                 Pipeline(steps=[(&#x27;imputer&#x27;,\n",
       "                                                  SimpleImputer(strategy=&#x27;median&#x27;)),\n",
       "                                                 (&#x27;scaler&#x27;, StandardScaler())]),\n",
       "                                 [&#x27;Edad&#x27;, &#x27;rfm_recency&#x27;, &#x27;rfm_frequency&#x27;,\n",
       "                                  &#x27;rfm_monetary&#x27;, &#x27;TotalChildren&#x27;,\n",
       "                                  &#x27;NumberChildrenAtHome&#x27;, &#x27;NumberCarsOwned&#x27;,\n",
       "                                  &#x27;MesesPrimeraCompra&#x27;]),\n",
       "                                (&#x27;cat&#x27;,\n",
       "                                 Pipeline(steps=[(&#x27;imputer&#x27;,\n",
       "                                                  SimpleImputer(fill_value=&#x27;missing&#x27;,\n",
       "                                                                strategy=&#x27;constant&#x27;)),\n",
       "                                                 (&#x27;onehot&#x27;,\n",
       "                                                  OneHotEncoder(handle_unknown=&#x27;ignore&#x27;))]),\n",
       "                                 [&#x27;MaritalStatus&#x27;, &#x27;Gender&#x27;, &#x27;SpanishEducation&#x27;,\n",
       "                                  &#x27;SpanishOccupation&#x27;, &#x27;CommuteDistance&#x27;])])</pre></div></div></div><div class=\"sk-parallel\"><div class=\"sk-parallel-item\"><div class=\"sk-item\"><div class=\"sk-label-container\"><div class=\"sk-label sk-toggleable\"><input class=\"sk-toggleable__control sk-hidden--visually\" id=\"sk-estimator-id-12\" type=\"checkbox\" ><label for=\"sk-estimator-id-12\" class=\"sk-toggleable__label sk-toggleable__label-arrow\">num</label><div class=\"sk-toggleable__content\"><pre>[&#x27;Edad&#x27;, &#x27;rfm_recency&#x27;, &#x27;rfm_frequency&#x27;, &#x27;rfm_monetary&#x27;, &#x27;TotalChildren&#x27;, &#x27;NumberChildrenAtHome&#x27;, &#x27;NumberCarsOwned&#x27;, &#x27;MesesPrimeraCompra&#x27;]</pre></div></div></div><div class=\"sk-serial\"><div class=\"sk-item\"><div class=\"sk-serial\"><div class=\"sk-item\"><div class=\"sk-estimator sk-toggleable\"><input class=\"sk-toggleable__control sk-hidden--visually\" id=\"sk-estimator-id-13\" type=\"checkbox\" ><label for=\"sk-estimator-id-13\" class=\"sk-toggleable__label sk-toggleable__label-arrow\">SimpleImputer</label><div class=\"sk-toggleable__content\"><pre>SimpleImputer(strategy=&#x27;median&#x27;)</pre></div></div></div><div class=\"sk-item\"><div class=\"sk-estimator sk-toggleable\"><input class=\"sk-toggleable__control sk-hidden--visually\" id=\"sk-estimator-id-14\" type=\"checkbox\" ><label for=\"sk-estimator-id-14\" class=\"sk-toggleable__label sk-toggleable__label-arrow\">StandardScaler</label><div class=\"sk-toggleable__content\"><pre>StandardScaler()</pre></div></div></div></div></div></div></div></div><div class=\"sk-parallel-item\"><div class=\"sk-item\"><div class=\"sk-label-container\"><div class=\"sk-label sk-toggleable\"><input class=\"sk-toggleable__control sk-hidden--visually\" id=\"sk-estimator-id-15\" type=\"checkbox\" ><label for=\"sk-estimator-id-15\" class=\"sk-toggleable__label sk-toggleable__label-arrow\">cat</label><div class=\"sk-toggleable__content\"><pre>[&#x27;MaritalStatus&#x27;, &#x27;Gender&#x27;, &#x27;SpanishEducation&#x27;, &#x27;SpanishOccupation&#x27;, &#x27;CommuteDistance&#x27;]</pre></div></div></div><div class=\"sk-serial\"><div class=\"sk-item\"><div class=\"sk-serial\"><div class=\"sk-item\"><div class=\"sk-estimator sk-toggleable\"><input class=\"sk-toggleable__control sk-hidden--visually\" id=\"sk-estimator-id-16\" type=\"checkbox\" ><label for=\"sk-estimator-id-16\" class=\"sk-toggleable__label sk-toggleable__label-arrow\">SimpleImputer</label><div class=\"sk-toggleable__content\"><pre>SimpleImputer(fill_value=&#x27;missing&#x27;, strategy=&#x27;constant&#x27;)</pre></div></div></div><div class=\"sk-item\"><div class=\"sk-estimator sk-toggleable\"><input class=\"sk-toggleable__control sk-hidden--visually\" id=\"sk-estimator-id-17\" type=\"checkbox\" ><label for=\"sk-estimator-id-17\" class=\"sk-toggleable__label sk-toggleable__label-arrow\">OneHotEncoder</label><div class=\"sk-toggleable__content\"><pre>OneHotEncoder(handle_unknown=&#x27;ignore&#x27;)</pre></div></div></div></div></div></div></div></div></div></div><div class=\"sk-item\"><div class=\"sk-estimator sk-toggleable\"><input class=\"sk-toggleable__control sk-hidden--visually\" id=\"sk-estimator-id-18\" type=\"checkbox\" ><label for=\"sk-estimator-id-18\" class=\"sk-toggleable__label sk-toggleable__label-arrow\">KMeans</label><div class=\"sk-toggleable__content\"><pre>KMeans(n_clusters=4)</pre></div></div></div></div></div></div></div>"
      ],
      "text/plain": [
       "Pipeline(steps=[('preprocessor',\n",
       "                 ColumnTransformer(transformers=[('num',\n",
       "                                                  Pipeline(steps=[('imputer',\n",
       "                                                                   SimpleImputer(strategy='median')),\n",
       "                                                                  ('scaler',\n",
       "                                                                   StandardScaler())]),\n",
       "                                                  ['Edad', 'rfm_recency',\n",
       "                                                   'rfm_frequency',\n",
       "                                                   'rfm_monetary',\n",
       "                                                   'TotalChildren',\n",
       "                                                   'NumberChildrenAtHome',\n",
       "                                                   'NumberCarsOwned',\n",
       "                                                   'MesesPrimeraCompra']),\n",
       "                                                 ('cat',\n",
       "                                                  Pipeline(steps=[('imputer',\n",
       "                                                                   SimpleImputer(fill_value='missing',\n",
       "                                                                                 strategy='constant')),\n",
       "                                                                  ('onehot',\n",
       "                                                                   OneHotEncoder(handle_unknown='ignore'))]),\n",
       "                                                  ['MaritalStatus', 'Gender',\n",
       "                                                   'SpanishEducation',\n",
       "                                                   'SpanishOccupation',\n",
       "                                                   'CommuteDistance'])])),\n",
       "                ('segmentador', KMeans(n_clusters=4))])"
      ]
     },
     "execution_count": 37,
     "metadata": {},
     "output_type": "execute_result"
    }
   ],
   "source": [
    "cluster.fit(df_input)"
   ]
  },
  {
   "cell_type": "code",
   "execution_count": 38,
   "metadata": {
    "dotnet_interactive": {
     "language": "csharp"
    }
   },
   "outputs": [],
   "source": [
    "df_input['cluster'] = model.labels_"
   ]
  },
  {
   "cell_type": "code",
   "execution_count": 39,
   "metadata": {
    "dotnet_interactive": {
     "language": "csharp"
    }
   },
   "outputs": [
    {
     "data": {
      "text/html": [
       "<div>\n",
       "<style scoped>\n",
       "    .dataframe tbody tr th:only-of-type {\n",
       "        vertical-align: middle;\n",
       "    }\n",
       "\n",
       "    .dataframe tbody tr th {\n",
       "        vertical-align: top;\n",
       "    }\n",
       "\n",
       "    .dataframe thead th {\n",
       "        text-align: right;\n",
       "    }\n",
       "</style>\n",
       "<table border=\"1\" class=\"dataframe\">\n",
       "  <thead>\n",
       "    <tr style=\"text-align: right;\">\n",
       "      <th></th>\n",
       "      <th>Edad</th>\n",
       "      <th>rfm_recency</th>\n",
       "      <th>rfm_frequency</th>\n",
       "      <th>rfm_monetary</th>\n",
       "      <th>TotalChildren</th>\n",
       "      <th>NumberChildrenAtHome</th>\n",
       "      <th>NumberCarsOwned</th>\n",
       "      <th>MesesPrimeraCompra</th>\n",
       "      <th>MaritalStatus</th>\n",
       "      <th>Gender</th>\n",
       "      <th>SpanishEducation</th>\n",
       "      <th>SpanishOccupation</th>\n",
       "      <th>CommuteDistance</th>\n",
       "      <th>cluster</th>\n",
       "    </tr>\n",
       "    <tr>\n",
       "      <th>CustomerKey</th>\n",
       "      <th></th>\n",
       "      <th></th>\n",
       "      <th></th>\n",
       "      <th></th>\n",
       "      <th></th>\n",
       "      <th></th>\n",
       "      <th></th>\n",
       "      <th></th>\n",
       "      <th></th>\n",
       "      <th></th>\n",
       "      <th></th>\n",
       "      <th></th>\n",
       "      <th></th>\n",
       "      <th></th>\n",
       "    </tr>\n",
       "  </thead>\n",
       "  <tbody>\n",
       "    <tr>\n",
       "      <th>14324</th>\n",
       "      <td>52</td>\n",
       "      <td>2</td>\n",
       "      <td>4</td>\n",
       "      <td>2</td>\n",
       "      <td>1</td>\n",
       "      <td>0</td>\n",
       "      <td>1</td>\n",
       "      <td>17</td>\n",
       "      <td>S</td>\n",
       "      <td>F</td>\n",
       "      <td>Estudios universitarios (en curso)</td>\n",
       "      <td>Obrero especializado</td>\n",
       "      <td>5-10 Miles</td>\n",
       "      <td>0</td>\n",
       "    </tr>\n",
       "    <tr>\n",
       "      <th>18569</th>\n",
       "      <td>43</td>\n",
       "      <td>1</td>\n",
       "      <td>1</td>\n",
       "      <td>1</td>\n",
       "      <td>0</td>\n",
       "      <td>0</td>\n",
       "      <td>0</td>\n",
       "      <td>12</td>\n",
       "      <td>M</td>\n",
       "      <td>F</td>\n",
       "      <td>Estudios de postgrado</td>\n",
       "      <td>Profesional</td>\n",
       "      <td>0-1 Miles</td>\n",
       "      <td>1</td>\n",
       "    </tr>\n",
       "    <tr>\n",
       "      <th>27059</th>\n",
       "      <td>31</td>\n",
       "      <td>1</td>\n",
       "      <td>4</td>\n",
       "      <td>1</td>\n",
       "      <td>0</td>\n",
       "      <td>0</td>\n",
       "      <td>0</td>\n",
       "      <td>12</td>\n",
       "      <td>M</td>\n",
       "      <td>M</td>\n",
       "      <td>Estudios de postgrado</td>\n",
       "      <td>Obrero especializado</td>\n",
       "      <td>0-1 Miles</td>\n",
       "      <td>1</td>\n",
       "    </tr>\n",
       "    <tr>\n",
       "      <th>22814</th>\n",
       "      <td>63</td>\n",
       "      <td>1</td>\n",
       "      <td>1</td>\n",
       "      <td>1</td>\n",
       "      <td>2</td>\n",
       "      <td>3</td>\n",
       "      <td>4</td>\n",
       "      <td>11</td>\n",
       "      <td>M</td>\n",
       "      <td>M</td>\n",
       "      <td>Licenciatura</td>\n",
       "      <td>Gestión</td>\n",
       "      <td>10+ Miles</td>\n",
       "      <td>2</td>\n",
       "    </tr>\n",
       "    <tr>\n",
       "      <th>15652</th>\n",
       "      <td>48</td>\n",
       "      <td>2</td>\n",
       "      <td>4</td>\n",
       "      <td>2</td>\n",
       "      <td>4</td>\n",
       "      <td>0</td>\n",
       "      <td>0</td>\n",
       "      <td>27</td>\n",
       "      <td>M</td>\n",
       "      <td>F</td>\n",
       "      <td>Estudios de postgrado</td>\n",
       "      <td>Administrativo</td>\n",
       "      <td>0-1 Miles</td>\n",
       "      <td>0</td>\n",
       "    </tr>\n",
       "  </tbody>\n",
       "</table>\n",
       "</div>"
      ],
      "text/plain": [
       "             Edad  rfm_recency  rfm_frequency  rfm_monetary  TotalChildren  \\\n",
       "CustomerKey                                                                  \n",
       "14324          52            2              4             2              1   \n",
       "18569          43            1              1             1              0   \n",
       "27059          31            1              4             1              0   \n",
       "22814          63            1              1             1              2   \n",
       "15652          48            2              4             2              4   \n",
       "\n",
       "             NumberChildrenAtHome  NumberCarsOwned  MesesPrimeraCompra  \\\n",
       "CustomerKey                                                              \n",
       "14324                           0                1                  17   \n",
       "18569                           0                0                  12   \n",
       "27059                           0                0                  12   \n",
       "22814                           3                4                  11   \n",
       "15652                           0                0                  27   \n",
       "\n",
       "            MaritalStatus Gender                    SpanishEducation  \\\n",
       "CustomerKey                                                            \n",
       "14324                   S      F  Estudios universitarios (en curso)   \n",
       "18569                   M      F               Estudios de postgrado   \n",
       "27059                   M      M               Estudios de postgrado   \n",
       "22814                   M      M                        Licenciatura   \n",
       "15652                   M      F               Estudios de postgrado   \n",
       "\n",
       "                SpanishOccupation CommuteDistance  cluster  \n",
       "CustomerKey                                                 \n",
       "14324        Obrero especializado      5-10 Miles        0  \n",
       "18569                 Profesional       0-1 Miles        1  \n",
       "27059        Obrero especializado       0-1 Miles        1  \n",
       "22814                     Gestión       10+ Miles        2  \n",
       "15652              Administrativo       0-1 Miles        0  "
      ]
     },
     "execution_count": 39,
     "metadata": {},
     "output_type": "execute_result"
    }
   ],
   "source": [
    "df_input.head()"
   ]
  },
  {
   "cell_type": "code",
   "execution_count": 40,
   "metadata": {
    "dotnet_interactive": {
     "language": "csharp"
    }
   },
   "outputs": [
    {
     "name": "stderr",
     "output_type": "stream",
     "text": [
      "C:\\Users\\anton\\AppData\\Local\\Temp\\ipykernel_10724\\1449284788.py:3: FutureWarning: The default value of numeric_only in DataFrameGroupBy.mean is deprecated. In a future version, numeric_only will default to False. Either specify numeric_only or select only columns which should be valid for the function.\n",
      "  df_segm_analysis = df_input.groupby(['cluster']).mean()\n"
     ]
    },
    {
     "data": {
      "text/html": [
       "<div>\n",
       "<style scoped>\n",
       "    .dataframe tbody tr th:only-of-type {\n",
       "        vertical-align: middle;\n",
       "    }\n",
       "\n",
       "    .dataframe tbody tr th {\n",
       "        vertical-align: top;\n",
       "    }\n",
       "\n",
       "    .dataframe thead th {\n",
       "        text-align: right;\n",
       "    }\n",
       "</style>\n",
       "<table border=\"1\" class=\"dataframe\">\n",
       "  <thead>\n",
       "    <tr style=\"text-align: right;\">\n",
       "      <th></th>\n",
       "      <th>Edad</th>\n",
       "      <th>rfm_recency</th>\n",
       "      <th>rfm_frequency</th>\n",
       "      <th>rfm_monetary</th>\n",
       "      <th>TotalChildren</th>\n",
       "      <th>NumberChildrenAtHome</th>\n",
       "      <th>NumberCarsOwned</th>\n",
       "      <th>MesesPrimeraCompra</th>\n",
       "    </tr>\n",
       "    <tr>\n",
       "      <th>cluster</th>\n",
       "      <th></th>\n",
       "      <th></th>\n",
       "      <th></th>\n",
       "      <th></th>\n",
       "      <th></th>\n",
       "      <th></th>\n",
       "      <th></th>\n",
       "      <th></th>\n",
       "    </tr>\n",
       "  </thead>\n",
       "  <tbody>\n",
       "    <tr>\n",
       "      <th>0</th>\n",
       "      <td>42.559129</td>\n",
       "      <td>1.603297</td>\n",
       "      <td>3.151231</td>\n",
       "      <td>2.078364</td>\n",
       "      <td>1.341950</td>\n",
       "      <td>0.501527</td>\n",
       "      <td>1.017301</td>\n",
       "      <td>22.035213</td>\n",
       "    </tr>\n",
       "    <tr>\n",
       "      <th>1</th>\n",
       "      <td>37.431417</td>\n",
       "      <td>1.905092</td>\n",
       "      <td>2.592830</td>\n",
       "      <td>1.265501</td>\n",
       "      <td>0.609110</td>\n",
       "      <td>0.299446</td>\n",
       "      <td>1.087288</td>\n",
       "      <td>6.641496</td>\n",
       "    </tr>\n",
       "    <tr>\n",
       "      <th>2</th>\n",
       "      <td>44.600896</td>\n",
       "      <td>1.910448</td>\n",
       "      <td>2.948657</td>\n",
       "      <td>1.348358</td>\n",
       "      <td>3.326567</td>\n",
       "      <td>3.713134</td>\n",
       "      <td>2.694030</td>\n",
       "      <td>10.193134</td>\n",
       "    </tr>\n",
       "    <tr>\n",
       "      <th>3</th>\n",
       "      <td>59.622260</td>\n",
       "      <td>1.852325</td>\n",
       "      <td>2.534570</td>\n",
       "      <td>1.239460</td>\n",
       "      <td>2.984341</td>\n",
       "      <td>0.432185</td>\n",
       "      <td>1.716454</td>\n",
       "      <td>7.470007</td>\n",
       "    </tr>\n",
       "  </tbody>\n",
       "</table>\n",
       "</div>"
      ],
      "text/plain": [
       "              Edad  rfm_recency  rfm_frequency  rfm_monetary  TotalChildren  \\\n",
       "cluster                                                                       \n",
       "0        42.559129     1.603297       3.151231      2.078364       1.341950   \n",
       "1        37.431417     1.905092       2.592830      1.265501       0.609110   \n",
       "2        44.600896     1.910448       2.948657      1.348358       3.326567   \n",
       "3        59.622260     1.852325       2.534570      1.239460       2.984341   \n",
       "\n",
       "         NumberChildrenAtHome  NumberCarsOwned  MesesPrimeraCompra  \n",
       "cluster                                                             \n",
       "0                    0.501527         1.017301           22.035213  \n",
       "1                    0.299446         1.087288            6.641496  \n",
       "2                    3.713134         2.694030           10.193134  \n",
       "3                    0.432185         1.716454            7.470007  "
      ]
     },
     "execution_count": 40,
     "metadata": {},
     "output_type": "execute_result"
    }
   ],
   "source": [
    "# Agrupamos los clientes por clusters y vemos el valor medio de cada variable para es cluster\n",
    "\n",
    "df_segm_analysis = df_input.groupby(['cluster']).mean()\n",
    "df_segm_analysis"
   ]
  },
  {
   "cell_type": "code",
   "execution_count": 19,
   "metadata": {
    "dotnet_interactive": {
     "language": "csharp"
    }
   },
   "outputs": [
    {
     "data": {
      "text/plain": [
       "Text(0.5, 1.0, 'K Mean Classification')"
      ]
     },
     "execution_count": 19,
     "metadata": {},
     "output_type": "execute_result"
    },
    {
     "data": {
      "image/png": "[encoded data removed]",
      "text/plain": [
       "<Figure size 1400x700 with 1 Axes>"
      ]
     },
     "metadata": {},
     "output_type": "display_data"
    }
   ],
   "source": [
    "import matplotlib.pyplot as plt\n",
    "import numpy as np\n",
    "\n",
    "plt.figure(figsize=(14,7))\n",
    " \n",
    "# Crear colormap\n",
    "colormap = np.array(['red', 'lime', 'black','yellow'])\n",
    "\n",
    "# Plot de las clasificaciones del modelo\n",
    "plt.subplot(1, 2, 2)\n",
    "plt.scatter(df_input.rfm_recency, df_input.MesesPrimeraCompra, c=colormap[model.labels_], s=40)\n",
    "plt.title('K Mean Classification')"
   ]
  },
  {
   "cell_type": "code",
   "execution_count": 20,
   "metadata": {
    "dotnet_interactive": {
     "language": "csharp"
    }
   },
   "outputs": [
    {
     "data": {
      "text/plain": [
       "149306.1492360983"
      ]
     },
     "execution_count": 20,
     "metadata": {},
     "output_type": "execute_result"
    }
   ],
   "source": [
    "model.inertia_"
   ]
  },
  {
   "cell_type": "code",
   "execution_count": 21,
   "metadata": {
    "dotnet_interactive": {
     "language": "csharp"
    }
   },
   "outputs": [
    {
     "data": {
      "text/plain": [
       "3.469635065796538"
      ]
     },
     "execution_count": 21,
     "metadata": {},
     "output_type": "execute_result"
    }
   ],
   "source": [
    "from sklearn.metrics.pairwise import euclidean_distances\n",
    "dists = euclidean_distances(model.cluster_centers_)\n",
    "\n",
    "import numpy as np\n",
    "tri_dists = dists[np.triu_indices(4, 1)]\n",
    "max_dist, avg_dist, min_dist = tri_dists.max(), tri_dists.mean(), tri_dists.min()\n",
    "max_dist"
   ]
  },
  {
   "cell_type": "code",
   "execution_count": 67,
   "metadata": {
    "dotnet_interactive": {
     "language": "csharp"
    }
   },
   "outputs": [
    {
     "data": {
      "text/plain": [
       "array([[-0.05181865,  0.10598457,  0.13575251, -0.26548682,  0.91355952,\n",
       "         1.76430193,  1.03830271, -0.16565997,  0.62850328,  0.37149672,\n",
       "         0.4895647 ,  0.5104353 ,  0.19320215,  0.07751938,  0.07722123,\n",
       "         0.2954681 ,  0.35658915,  0.05515802,  0.28950507,  0.05545617,\n",
       "         0.13685152,  0.46302922,  0.33303518,  0.07453787,  0.24985092,\n",
       "         0.16040549,  0.18217054],\n",
       "       [-0.67090005,  0.10190173, -0.18145136, -0.41844251, -0.76734151,\n",
       "        -0.4672252 , -0.3673129 , -0.56899661,  0.44598578,  0.55401422,\n",
       "         0.48621467,  0.51378533,  0.16837177,  0.0893012 ,  0.18779261,\n",
       "         0.30275707,  0.25177735,  0.17392058,  0.03797468,  0.22438009,\n",
       "         0.34610716,  0.21761748,  0.39067106,  0.19195422,  0.0461245 ,\n",
       "         0.19941044,  0.17183978],\n",
       "       [-0.2349696 , -0.22492741,  0.31484623,  1.05869674, -0.31721442,\n",
       "        -0.33372349, -0.43315997,  1.17767934,  0.49378945,  0.50621055,\n",
       "         0.50743229,  0.49256771,  0.12828345,  0.04092853,  0.20260639,\n",
       "         0.27041336,  0.35776828,  0.21767461,  0.11240073,  0.13072694,\n",
       "         0.25514152,  0.2840562 ,  0.44451232,  0.16921197,  0.06169823,\n",
       "         0.18713093,  0.13744655],\n",
       "       [ 1.25043696,  0.03885442, -0.22981081, -0.45612583,  0.70236282,\n",
       "        -0.38115131,  0.18360799, -0.46837253,  0.66819057,  0.33180943,\n",
       "         0.49278152,  0.50721848,  0.23532243,  0.1400385 ,  0.19249278,\n",
       "         0.21727623,  0.21487007,  0.14749759,  0.31905679,  0.05943215,\n",
       "         0.17733397,  0.2966795 ,  0.15880654,  0.23556304,  0.25769971,\n",
       "         0.12969201,  0.21823869]])"
      ]
     },
     "execution_count": 67,
     "metadata": {},
     "output_type": "execute_result"
    }
   ],
   "source": [
    "#Para cada característica de entrada. Para poder mostrarlos en 2D podemos utilizar PCA\n",
    "model.cluster_centers_"
   ]
  }
 ],
 "metadata": {
  "kernelspec": {
   "display_name": "Python 3.10.4 ('NetCoreConfMAD2022': venv)",
   "language": "python",
   "name": "python3"
  },
  "language_info": {
   "codemirror_mode": {
    "name": "ipython",
    "version": 3
   },
   "file_extension": ".py",
   "mimetype": "text/x-python",
   "name": "python",
   "nbconvert_exporter": "python",
   "pygments_lexer": "ipython3",
   "version": "3.10.4"
  },
  "orig_nbformat": 4,
  "vscode": {
   "interpreter": {
    "hash": "a18271e9d78c9f51a222ceb0da66cc516245c30884176c6348560e8b184246b7"
   }
  }
 },
 "nbformat": 4,
 "nbformat_minor": 2
}
