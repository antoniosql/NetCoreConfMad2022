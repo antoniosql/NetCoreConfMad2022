{
    "metadata": {
        "kernelspec": {
            "name": "python3",
            "display_name": "Python 3 (ipykernel)",
            "language": "python"
        },
        "language_info": {
            "name": "python",
            "version": "3.10.4",
            "mimetype": "text/x-python",
            "codemirror_mode": {
                "name": "ipython",
                "version": 3
            },
            "pygments_lexer": "ipython3",
            "nbconvert_exporter": "python",
            "file_extension": ".py"
        }
    },
    "nbformat_minor": 2,
    "nbformat": 4,
    "cells": [
        {
            "cell_type": "markdown",
            "source": [
                "#Machine Learning"
            ],
            "metadata": {
                "azdata_cell_guid": "4e4b8b15-d39b-46ad-8b0f-9a08c84ed464"
            }
        },
        {
            "cell_type": "code",
            "source": [
                "import pyodbc\r\n",
                "import pandas as pd \r\n",
                "import matplotlib.pyplot as plt "
            ],
            "metadata": {
                "azdata_cell_guid": "afafacc6-2c14-41d2-8954-b31b719a3f71",
                "language": "python"
            },
            "outputs": [
                {
                    "traceback": [
                        "\u001b[1;31m---------------------------------------------------------------------------\u001b[0m",
                        "\u001b[1;31mModuleNotFoundError\u001b[0m                       Traceback (most recent call last)",
                        "Cell \u001b[1;32mIn [2], line 1\u001b[0m\n\u001b[1;32m----> 1\u001b[0m \u001b[38;5;28;01mimport\u001b[39;00m \u001b[38;5;21;01mpyodbc\u001b[39;00m\n\u001b[0;32m      2\u001b[0m \u001b[38;5;28;01mimport\u001b[39;00m \u001b[38;5;21;01mpandas\u001b[39;00m \u001b[38;5;28;01mas\u001b[39;00m \u001b[38;5;21;01mpd\u001b[39;00m \n\u001b[0;32m      3\u001b[0m \u001b[38;5;28;01mimport\u001b[39;00m \u001b[38;5;21;01mmatplotlib\u001b[39;00m\u001b[38;5;21;01m.\u001b[39;00m\u001b[38;5;21;01mpyplot\u001b[39;00m \u001b[38;5;28;01mas\u001b[39;00m \u001b[38;5;21;01mplt\u001b[39;00m \n",
                        "\u001b[1;31mModuleNotFoundError\u001b[0m: No module named 'pyodbc'"
                    ],
                    "ename": "ModuleNotFoundError",
                    "evalue": "No module named 'pyodbc'",
                    "output_type": "error"
                }
            ],
            "execution_count": 2
        },
        {
            "cell_type": "code",
            "source": [
                "server = 'tcp:solidqdemo.database.windows.net' \n",
                "database = 'AdventureWorksDW2017' \n",
                "username = 'adminsql' \n",
                "password = 'Puk02020#!' \n",
                "vTargetMail = \"SELECT * FROM vTargetMail\"\n",
                "#Abrimos la conexion\n",
                "cnxn = pyodbc.connect('DRIVER={ODBC Driver 17 for SQL Server};SERVER='+server+';DATABASE='+database+';UID='+username+';PWD='+ password)"
            ],
            "metadata": {
                "azdata_cell_guid": "ed27ea59-ffc8-4d30-9be9-49b98df6f717",
                "language": "python"
            },
            "outputs": [],
            "execution_count": 23
        },
        {
            "cell_type": "code",
            "source": [
                "df = pd.read_sql(vTargetMail,cnxn)\r\n",
                "\r\n",
                "df.info()\r\n",
                "df.shape\r\n",
                "df.describe()\r\n",
                "df.count()"
            ],
            "metadata": {
                "azdata_cell_guid": "f3cf333f-f457-46c8-8118-b705e181e187",
                "tags": [],
                "language": "python"
            },
            "outputs": [],
            "execution_count": 24
        },
        {
            "cell_type": "code",
            "source": [
                "df.isnull()"
            ],
            "metadata": {
                "azdata_cell_guid": "c579978c-5a39-4a87-84b4-61f82c35005a",
                "language": "python"
            },
            "outputs": [],
            "execution_count": 7
        },
        {
            "cell_type": "code",
            "source": [
                "df.isna()"
            ],
            "metadata": {
                "azdata_cell_guid": "cdc9c74f-9005-4754-bc32-dbb2302ef3c8",
                "language": "python"
            },
            "outputs": [
                {
                    "output_type": "execute_result",
                    "execution_count": 8,
                    "data": {
                        "text/plain": "       CustomerKey  GeographyKey  CustomerAlternateKey  Title  FirstName  \\\n0            False         False                 False   True      False   \n1            False         False                 False   True      False   \n2            False         False                 False   True      False   \n3            False         False                 False   True      False   \n4            False         False                 False   True      False   \n...            ...           ...                   ...    ...        ...   \n18479        False         False                 False   True      False   \n18480        False         False                 False   True      False   \n18481        False         False                 False   True      False   \n18482        False         False                 False   True      False   \n18483        False         False                 False   True      False   \n\n       MiddleName  LastName  NameStyle  BirthDate  MaritalStatus  ...  \\\n0           False     False      False      False          False  ...   \n1           False     False      False      False          False  ...   \n2            True     False      False      False          False  ...   \n3            True     False      False      False          False  ...   \n4            True     False      False      False          False  ...   \n...           ...       ...        ...        ...            ...  ...   \n18479       False     False      False      False          False  ...   \n18480       False     False      False      False          False  ...   \n18481        True     False      False      False          False  ...   \n18482        True     False      False      False          False  ...   \n18483       False     False      False      False          False  ...   \n\n       HouseOwnerFlag  NumberCarsOwned  AddressLine1  AddressLine2  Phone  \\\n0               False            False         False          True  False   \n1               False            False         False          True  False   \n2               False            False         False          True  False   \n3               False            False         False          True  False   \n4               False            False         False          True  False   \n...               ...              ...           ...           ...    ...   \n18479           False            False         False          True  False   \n18480           False            False         False          True  False   \n18481           False            False         False          True  False   \n18482           False            False         False          True  False   \n18483           False            False         False          True  False   \n\n       DateFirstPurchase  CommuteDistance  Region    Age  BikeBuyer  \n0                  False            False   False  False      False  \n1                  False            False   False  False      False  \n2                  False            False   False  False      False  \n3                  False            False   False  False      False  \n4                  False            False   False  False      False  \n...                  ...              ...     ...    ...        ...  \n18479              False            False   False  False      False  \n18480              False            False   False  False      False  \n18481              False            False   False  False      False  \n18482              False            False   False  False      False  \n18483              False            False   False  False      False  \n\n[18484 rows x 32 columns]",
                        "text/html": "<div>\n<style scoped>\n    .dataframe tbody tr th:only-of-type {\n        vertical-align: middle;\n    }\n\n    .dataframe tbody tr th {\n        vertical-align: top;\n    }\n\n    .dataframe thead th {\n        text-align: right;\n    }\n</style>\n<table border=\"1\" class=\"dataframe\">\n  <thead>\n    <tr style=\"text-align: right;\">\n      <th></th>\n      <th>CustomerKey</th>\n      <th>GeographyKey</th>\n      <th>CustomerAlternateKey</th>\n      <th>Title</th>\n      <th>FirstName</th>\n      <th>MiddleName</th>\n      <th>LastName</th>\n      <th>NameStyle</th>\n      <th>BirthDate</th>\n      <th>MaritalStatus</th>\n      <th>...</th>\n      <th>HouseOwnerFlag</th>\n      <th>NumberCarsOwned</th>\n      <th>AddressLine1</th>\n      <th>AddressLine2</th>\n      <th>Phone</th>\n      <th>DateFirstPurchase</th>\n      <th>CommuteDistance</th>\n      <th>Region</th>\n      <th>Age</th>\n      <th>BikeBuyer</th>\n    </tr>\n  </thead>\n  <tbody>\n    <tr>\n      <th>0</th>\n      <td>False</td>\n      <td>False</td>\n      <td>False</td>\n      <td>True</td>\n      <td>False</td>\n      <td>False</td>\n      <td>False</td>\n      <td>False</td>\n      <td>False</td>\n      <td>False</td>\n      <td>...</td>\n      <td>False</td>\n      <td>False</td>\n      <td>False</td>\n      <td>True</td>\n      <td>False</td>\n      <td>False</td>\n      <td>False</td>\n      <td>False</td>\n      <td>False</td>\n      <td>False</td>\n    </tr>\n    <tr>\n      <th>1</th>\n      <td>False</td>\n      <td>False</td>\n      <td>False</td>\n      <td>True</td>\n      <td>False</td>\n      <td>False</td>\n      <td>False</td>\n      <td>False</td>\n      <td>False</td>\n      <td>False</td>\n      <td>...</td>\n      <td>False</td>\n      <td>False</td>\n      <td>False</td>\n      <td>True</td>\n      <td>False</td>\n      <td>False</td>\n      <td>False</td>\n      <td>False</td>\n      <td>False</td>\n      <td>False</td>\n    </tr>\n    <tr>\n      <th>2</th>\n      <td>False</td>\n      <td>False</td>\n      <td>False</td>\n      <td>True</td>\n      <td>False</td>\n      <td>True</td>\n      <td>False</td>\n      <td>False</td>\n      <td>False</td>\n      <td>False</td>\n      <td>...</td>\n      <td>False</td>\n      <td>False</td>\n      <td>False</td>\n      <td>True</td>\n      <td>False</td>\n      <td>False</td>\n      <td>False</td>\n      <td>False</td>\n      <td>False</td>\n      <td>False</td>\n    </tr>\n    <tr>\n      <th>3</th>\n      <td>False</td>\n      <td>False</td>\n      <td>False</td>\n      <td>True</td>\n      <td>False</td>\n      <td>True</td>\n      <td>False</td>\n      <td>False</td>\n      <td>False</td>\n      <td>False</td>\n      <td>...</td>\n      <td>False</td>\n      <td>False</td>\n      <td>False</td>\n      <td>True</td>\n      <td>False</td>\n      <td>False</td>\n      <td>False</td>\n      <td>False</td>\n      <td>False</td>\n      <td>False</td>\n    </tr>\n    <tr>\n      <th>4</th>\n      <td>False</td>\n      <td>False</td>\n      <td>False</td>\n      <td>True</td>\n      <td>False</td>\n      <td>True</td>\n      <td>False</td>\n      <td>False</td>\n      <td>False</td>\n      <td>False</td>\n      <td>...</td>\n      <td>False</td>\n      <td>False</td>\n      <td>False</td>\n      <td>True</td>\n      <td>False</td>\n      <td>False</td>\n      <td>False</td>\n      <td>False</td>\n      <td>False</td>\n      <td>False</td>\n    </tr>\n    <tr>\n      <th>...</th>\n      <td>...</td>\n      <td>...</td>\n      <td>...</td>\n      <td>...</td>\n      <td>...</td>\n      <td>...</td>\n      <td>...</td>\n      <td>...</td>\n      <td>...</td>\n      <td>...</td>\n      <td>...</td>\n      <td>...</td>\n      <td>...</td>\n      <td>...</td>\n      <td>...</td>\n      <td>...</td>\n      <td>...</td>\n      <td>...</td>\n      <td>...</td>\n      <td>...</td>\n      <td>...</td>\n    </tr>\n    <tr>\n      <th>18479</th>\n      <td>False</td>\n      <td>False</td>\n      <td>False</td>\n      <td>True</td>\n      <td>False</td>\n      <td>False</td>\n      <td>False</td>\n      <td>False</td>\n      <td>False</td>\n      <td>False</td>\n      <td>...</td>\n      <td>False</td>\n      <td>False</td>\n      <td>False</td>\n      <td>True</td>\n      <td>False</td>\n      <td>False</td>\n      <td>False</td>\n      <td>False</td>\n      <td>False</td>\n      <td>False</td>\n    </tr>\n    <tr>\n      <th>18480</th>\n      <td>False</td>\n      <td>False</td>\n      <td>False</td>\n      <td>True</td>\n      <td>False</td>\n      <td>False</td>\n      <td>False</td>\n      <td>False</td>\n      <td>False</td>\n      <td>False</td>\n      <td>...</td>\n      <td>False</td>\n      <td>False</td>\n      <td>False</td>\n      <td>True</td>\n      <td>False</td>\n      <td>False</td>\n      <td>False</td>\n      <td>False</td>\n      <td>False</td>\n      <td>False</td>\n    </tr>\n    <tr>\n      <th>18481</th>\n      <td>False</td>\n      <td>False</td>\n      <td>False</td>\n      <td>True</td>\n      <td>False</td>\n      <td>True</td>\n      <td>False</td>\n      <td>False</td>\n      <td>False</td>\n      <td>False</td>\n      <td>...</td>\n      <td>False</td>\n      <td>False</td>\n      <td>False</td>\n      <td>True</td>\n      <td>False</td>\n      <td>False</td>\n      <td>False</td>\n      <td>False</td>\n      <td>False</td>\n      <td>False</td>\n    </tr>\n    <tr>\n      <th>18482</th>\n      <td>False</td>\n      <td>False</td>\n      <td>False</td>\n      <td>True</td>\n      <td>False</td>\n      <td>True</td>\n      <td>False</td>\n      <td>False</td>\n      <td>False</td>\n      <td>False</td>\n      <td>...</td>\n      <td>False</td>\n      <td>False</td>\n      <td>False</td>\n      <td>True</td>\n      <td>False</td>\n      <td>False</td>\n      <td>False</td>\n      <td>False</td>\n      <td>False</td>\n      <td>False</td>\n    </tr>\n    <tr>\n      <th>18483</th>\n      <td>False</td>\n      <td>False</td>\n      <td>False</td>\n      <td>True</td>\n      <td>False</td>\n      <td>False</td>\n      <td>False</td>\n      <td>False</td>\n      <td>False</td>\n      <td>False</td>\n      <td>...</td>\n      <td>False</td>\n      <td>False</td>\n      <td>False</td>\n      <td>True</td>\n      <td>False</td>\n      <td>False</td>\n      <td>False</td>\n      <td>False</td>\n      <td>False</td>\n      <td>False</td>\n    </tr>\n  </tbody>\n</table>\n<p>18484 rows × 32 columns</p>\n</div>"
                    },
                    "metadata": {}
                }
            ],
            "execution_count": 8
        },
        {
            "cell_type": "code",
            "source": [
                "df.isnull().sum()"
            ],
            "metadata": {
                "azdata_cell_guid": "80afd823-ffca-4c7f-9302-21fcb02d48c0",
                "language": "python"
            },
            "outputs": [
                {
                    "output_type": "execute_result",
                    "execution_count": 17,
                    "data": {
                        "text/plain": "CustomerKey                 0\nGeographyKey                0\nCustomerAlternateKey        0\nTitle                   18383\nFirstName                   0\nMiddleName               7830\nLastName                    0\nNameStyle                   0\nBirthDate                   0\nMaritalStatus               0\nSuffix                  18481\nGender                      0\nEmailAddress                0\nYearlyIncome                0\nTotalChildren               0\nNumberChildrenAtHome        0\nEnglishEducation            0\nSpanishEducation            0\nFrenchEducation             0\nEnglishOccupation           0\nSpanishOccupation           0\nFrenchOccupation            0\nHouseOwnerFlag              0\nNumberCarsOwned             0\nAddressLine1                0\nAddressLine2            18172\nPhone                       0\nDateFirstPurchase           0\nCommuteDistance             0\nRegion                      0\nAge                         0\nBikeBuyer                   0\ndtype: int64"
                    },
                    "metadata": {}
                }
            ],
            "execution_count": 17
        },
        {
            "cell_type": "code",
            "source": [
                "df.isna().equals(df.isnull())"
            ],
            "metadata": {
                "azdata_cell_guid": "708fd247-1170-4798-9828-86040995672e",
                "language": "python"
            },
            "outputs": [
                {
                    "output_type": "execute_result",
                    "execution_count": 10,
                    "data": {
                        "text/plain": "True"
                    },
                    "metadata": {}
                }
            ],
            "execution_count": 10
        },
        {
            "cell_type": "code",
            "source": [
                "df['SpanishEducation']"
            ],
            "metadata": {
                "azdata_cell_guid": "b666dc5c-15aa-4631-b61c-dd6a16a1f98b",
                "language": "python"
            },
            "outputs": [
                {
                    "output_type": "execute_result",
                    "execution_count": 38,
                    "data": {
                        "text/plain": "array(['Licenciatura', 'Licenciatura', 'Licenciatura', ...,\n       'Estudios de postgrado', 'Licenciatura', 'Licenciatura'],\n      dtype=object)"
                    },
                    "metadata": {}
                }
            ],
            "execution_count": 38
        },
        {
            "cell_type": "code",
            "source": [
                "#Definirlo como ordinal\r\n",
                "df['Education'] = df['SpanishEducation'].astype('category')\r\n",
                "df['Education'].cat.reorder_categories([\"Educación secundaria (en curso)\",\"Educación secundaria\",\"Estudios universitarios (en curso)\",\"Licenciatura\",\"Estudios de postgrado\"],inplace=True)\r\n",
                "df['EducationInt'] = df['Education'].cat.codes\r\n",
                ""
            ],
            "metadata": {
                "azdata_cell_guid": "0c13419e-94f2-40fe-9ff4-05d59e84ac39",
                "language": "python"
            },
            "outputs": [],
            "execution_count": 35
        },
        {
            "cell_type": "markdown",
            "source": [
                "Hacer lo mismo para Ocupación y para Distancia al trabajo. En este caso son características cuyo \"orden\" tiene importancia. "
            ],
            "metadata": {
                "azdata_cell_guid": "ecf0547b-ec6d-4881-a18e-a7714ff2b1aa"
            }
        }
    ]
}