{
  "nbformat": 4,
  "nbformat_minor": 0,
  "metadata": {
    "colab": {
      "name": "Demostración Completa Analisis RFM y predicción.ipynb",
      "version": "0.3.2",
      "provenance": [],
      "collapsed_sections": [
        "ip554vj_ezUq"
      ]
    },
    "kernelspec": {
      "name": "python3",
      "display_name": "Python 3"
    }
  },
  "cells": [
    {
      "cell_type": "markdown",
      "metadata": {
        "id": "4YF6i60OerFS",
        "colab_type": "text"
      },
      "source": [
        "# Análisis de RFM para un conjunto de datos de ventas"
      ]
    },
    {
      "cell_type": "markdown",
      "metadata": {
        "id": "ip554vj_ezUq",
        "colab_type": "text"
      },
      "source": [
        "## Importación de librerías y carga de datos"
      ]
    },
    {
      "cell_type": "code",
      "metadata": {
        "id": "5xWZpcsPGq0j",
        "colab_type": "code",
        "colab": {}
      },
      "source": [
        "from google.colab import drive\n",
        "drive.mount('/content/gdrive')\n"
      ],
      "execution_count": 0,
      "outputs": []
    },
    {
      "cell_type": "code",
      "metadata": {
        "id": "Hp-VH-ZCG5qo",
        "colab_type": "code",
        "colab": {}
      },
      "source": [
        "\n",
        "import numpy as np \n",
        "import pandas as pd \n",
        "import time, warnings\n",
        "import datetime as dt\n",
        "\n",
        "#visualizaciones\n",
        "import matplotlib.pyplot as plt\n",
        "from pandas.plotting import scatter_matrix\n",
        "%matplotlib inline\n",
        "import seaborn as sns\n",
        "\n",
        "warnings.filterwarnings(\"ignore\")"
      ],
      "execution_count": 0,
      "outputs": []
    },
    {
      "cell_type": "code",
      "metadata": {
        "id": "7Wmfu0gtG8R_",
        "colab_type": "code",
        "colab": {}
      },
      "source": [
        "#cargar el dataset\n",
        "retail_df = pd.read_csv('/content/gdrive/My Drive/Datos/RFM_data.csv',encoding=\"ISO-8859-1\",dtype={'CustomerID': str,'InvoiceID': str})\n",
        "retail_df.head()"
      ],
      "execution_count": 0,
      "outputs": []
    },
    {
      "cell_type": "markdown",
      "metadata": {
        "id": "3U4q8jeHe4rD",
        "colab_type": "text"
      },
      "source": [
        "## Filtros y limpieza de datos"
      ]
    },
    {
      "cell_type": "code",
      "metadata": {
        "id": "b8vy6hnMHEUr",
        "colab_type": "code",
        "outputId": "101527d4-81fe-496f-f628-05f516bd93f1",
        "colab": {
          "base_uri": "https://localhost:8080/",
          "height": 35
        }
      },
      "source": [
        "#Filtramos UK porque el comportamiento puede ser diferente por país\n",
        "retail_uk = retail_df[retail_df['Country']=='United Kingdom']\n",
        "\n",
        "retail_uk.shape"
      ],
      "execution_count": 0,
      "outputs": [
        {
          "output_type": "execute_result",
          "data": {
            "text/plain": [
              "(495478, 8)"
            ]
          },
          "metadata": {
            "tags": []
          },
          "execution_count": 3
        }
      ]
    },
    {
      "cell_type": "code",
      "metadata": {
        "id": "NUx5ZMRgHKqd",
        "colab_type": "code",
        "outputId": "d5d92af5-025d-472b-df11-506f0d641cf5",
        "colab": {
          "base_uri": "https://localhost:8080/",
          "height": 35
        }
      },
      "source": [
        "#eliminamos pedidos cancelados\n",
        "\n",
        "retail_uk = retail_uk[retail_uk['Quantity']>0]\n",
        "retail_uk.shape\n"
      ],
      "execution_count": 0,
      "outputs": [
        {
          "output_type": "execute_result",
          "data": {
            "text/plain": [
              "(486286, 8)"
            ]
          },
          "metadata": {
            "tags": []
          },
          "execution_count": 4
        }
      ]
    },
    {
      "cell_type": "code",
      "metadata": {
        "id": "nZ0e8irDHPpf",
        "colab_type": "code",
        "outputId": "c3d6a223-21ba-49bf-ddef-eeb550ccd556",
        "colab": {
          "base_uri": "https://localhost:8080/",
          "height": 35
        }
      },
      "source": [
        "#eliminamos las filas donde el customerID es NA\n",
        "retail_uk.dropna(subset=['CustomerID'],how='all',inplace=True)\n",
        "retail_uk.shape"
      ],
      "execution_count": 0,
      "outputs": [
        {
          "output_type": "execute_result",
          "data": {
            "text/plain": [
              "(354345, 8)"
            ]
          },
          "metadata": {
            "tags": []
          },
          "execution_count": 5
        }
      ]
    },
    {
      "cell_type": "code",
      "metadata": {
        "id": "FSRaDLzOHQMy",
        "colab_type": "code",
        "outputId": "a5a85b58-db1a-439b-9e6d-02e16f6f3227",
        "colab": {
          "base_uri": "https://localhost:8080/",
          "height": 35
        }
      },
      "source": [
        "#Restringimos a solo un año\n",
        "retail_uk = retail_uk[retail_uk['InvoiceDate']>= \"2010-12-09\"]\n",
        "retail_uk.shape"
      ],
      "execution_count": 0,
      "outputs": [
        {
          "output_type": "execute_result",
          "data": {
            "text/plain": [
              "(176137, 8)"
            ]
          },
          "metadata": {
            "tags": []
          },
          "execution_count": 6
        }
      ]
    },
    {
      "cell_type": "code",
      "metadata": {
        "id": "7FG52FPcHULw",
        "colab_type": "code",
        "outputId": "9ffae064-061c-4b96-a650-5f6fe63c01eb",
        "colab": {
          "base_uri": "https://localhost:8080/",
          "height": 104
        }
      },
      "source": [
        "print(\"Resumen..\")\n",
        "#Explorar los valores únicos de cada atributo\n",
        "print(\"Número de transacciones: \", retail_uk['InvoiceNo'].nunique())\n",
        "print(\"Número de productos comprados: \",retail_uk['StockCode'].nunique())\n",
        "print(\"Número de clientes:\", retail_uk['CustomerID'].nunique() )\n",
        "print(\"Porcentaje de clientes NA: \", round(retail_uk['CustomerID'].isnull().sum() * 100 / len(retail_df),2),\"%\" )"
      ],
      "execution_count": 0,
      "outputs": [
        {
          "output_type": "stream",
          "text": [
            "Resumen..\n",
            "Número de transacciones:  8789\n",
            "Número de productos comprados:  3294\n",
            "Número de clientes: 2864\n",
            "Porcentaje de clientes NA:  0.0 %\n"
          ],
          "name": "stdout"
        }
      ]
    },
    {
      "cell_type": "markdown",
      "metadata": {
        "id": "8uOAyy3UHYCx",
        "colab_type": "text"
      },
      "source": [
        "## Análisis RFM"
      ]
    },
    {
      "cell_type": "code",
      "metadata": {
        "id": "h1ILoKoKHZ4B",
        "colab_type": "code",
        "outputId": "d13bc006-43b0-4cc3-8f6b-1463ec3fdf86",
        "colab": {
          "base_uri": "https://localhost:8080/",
          "height": 35
        }
      },
      "source": [
        "#última fecha disponible en nuestro conjunto de datos\n",
        "retail_uk['InvoiceDate'].max()"
      ],
      "execution_count": 0,
      "outputs": [
        {
          "output_type": "execute_result",
          "data": {
            "text/plain": [
              "'9/9/2011 9:52'"
            ]
          },
          "metadata": {
            "tags": []
          },
          "execution_count": 8
        }
      ]
    },
    {
      "cell_type": "code",
      "metadata": {
        "id": "kopd1fGDHdaR",
        "colab_type": "code",
        "outputId": "f94cd680-9007-4fda-ef4a-db40141b0bf2",
        "colab": {
          "base_uri": "https://localhost:8080/",
          "height": 35
        }
      },
      "source": [
        "now = dt.date(2011,12,9)\n",
        "print(now)"
      ],
      "execution_count": 0,
      "outputs": [
        {
          "output_type": "stream",
          "text": [
            "2011-12-09\n"
          ],
          "name": "stdout"
        }
      ]
    },
    {
      "cell_type": "code",
      "metadata": {
        "id": "CEnE0mYEHgS8",
        "colab_type": "code",
        "colab": {}
      },
      "source": [
        "#creamos una nueva columna llamada fecha que contiene úincamente la fecha de la factura\n",
        "retail_uk['date'] = pd.DatetimeIndex(retail_uk['InvoiceDate']).date"
      ],
      "execution_count": 0,
      "outputs": []
    },
    {
      "cell_type": "code",
      "metadata": {
        "id": "ceJU1OK0Hgx6",
        "colab_type": "code",
        "colab": {}
      },
      "source": [
        "retail_uk.head()"
      ],
      "execution_count": 0,
      "outputs": []
    },
    {
      "cell_type": "code",
      "metadata": {
        "id": "icIul_byHi4E",
        "colab_type": "code",
        "outputId": "156106da-3577-4ce9-c506-0e9c58269e97",
        "colab": {
          "base_uri": "https://localhost:8080/",
          "height": 202
        }
      },
      "source": [
        "#Agrupamos por cliente y chequeamos la fecha de su última compra\n",
        "recency_df = retail_uk.groupby(by='CustomerID', as_index=False)['date'].max()\n",
        "recency_df.columns = ['CustomerID','LastPurshaceDate']\n",
        "recency_df.head()"
      ],
      "execution_count": 0,
      "outputs": [
        {
          "output_type": "execute_result",
          "data": {
            "text/html": [
              "<div>\n",
              "<style scoped>\n",
              "    .dataframe tbody tr th:only-of-type {\n",
              "        vertical-align: middle;\n",
              "    }\n",
              "\n",
              "    .dataframe tbody tr th {\n",
              "        vertical-align: top;\n",
              "    }\n",
              "\n",
              "    .dataframe thead th {\n",
              "        text-align: right;\n",
              "    }\n",
              "</style>\n",
              "<table border=\"1\" class=\"dataframe\">\n",
              "  <thead>\n",
              "    <tr style=\"text-align: right;\">\n",
              "      <th></th>\n",
              "      <th>CustomerID</th>\n",
              "      <th>LastPurshaceDate</th>\n",
              "    </tr>\n",
              "  </thead>\n",
              "  <tbody>\n",
              "    <tr>\n",
              "      <th>0</th>\n",
              "      <td>12747</td>\n",
              "      <td>2011-08-22</td>\n",
              "    </tr>\n",
              "    <tr>\n",
              "      <th>1</th>\n",
              "      <td>12748</td>\n",
              "      <td>2011-09-30</td>\n",
              "    </tr>\n",
              "    <tr>\n",
              "      <th>2</th>\n",
              "      <td>12749</td>\n",
              "      <td>2011-08-01</td>\n",
              "    </tr>\n",
              "    <tr>\n",
              "      <th>3</th>\n",
              "      <td>12820</td>\n",
              "      <td>2011-09-26</td>\n",
              "    </tr>\n",
              "    <tr>\n",
              "      <th>4</th>\n",
              "      <td>12821</td>\n",
              "      <td>2011-05-09</td>\n",
              "    </tr>\n",
              "  </tbody>\n",
              "</table>\n",
              "</div>"
            ],
            "text/plain": [
              "  CustomerID LastPurshaceDate\n",
              "0      12747       2011-08-22\n",
              "1      12748       2011-09-30\n",
              "2      12749       2011-08-01\n",
              "3      12820       2011-09-26\n",
              "4      12821       2011-05-09"
            ]
          },
          "metadata": {
            "tags": []
          },
          "execution_count": 11
        }
      ]
    },
    {
      "cell_type": "markdown",
      "metadata": {
        "id": "LyDdd5lCfD2H",
        "colab_type": "text"
      },
      "source": [
        "## Cálculo de Recency"
      ]
    },
    {
      "cell_type": "code",
      "metadata": {
        "id": "u-appCyGHlV5",
        "colab_type": "code",
        "colab": {}
      },
      "source": [
        "#Cálculo de recency\n",
        "recency_df['Recency'] = recency_df['LastPurshaceDate'].apply(lambda x: (now - x).days)"
      ],
      "execution_count": 0,
      "outputs": []
    },
    {
      "cell_type": "code",
      "metadata": {
        "id": "9eDvvHdLHndN",
        "colab_type": "code",
        "colab": {}
      },
      "source": [
        "recency_df.head()"
      ],
      "execution_count": 0,
      "outputs": []
    },
    {
      "cell_type": "code",
      "metadata": {
        "id": "1tRKeTyxHpz9",
        "colab_type": "code",
        "colab": {}
      },
      "source": [
        "#eliminamos LastPurchaseDate \n",
        "recency_df.drop('LastPurshaceDate',axis=1,inplace=True)"
      ],
      "execution_count": 0,
      "outputs": []
    },
    {
      "cell_type": "markdown",
      "metadata": {
        "id": "SN3F1l1PHuZP",
        "colab_type": "text"
      },
      "source": [
        "## Frecuencia"
      ]
    },
    {
      "cell_type": "code",
      "metadata": {
        "id": "zwrpQ7QwHwob",
        "colab_type": "code",
        "colab": {}
      },
      "source": [
        "# eliminamos duplicados \n",
        "retail_uk_copy = retail_uk\n",
        "retail_uk_copy.drop_duplicates(subset=['InvoiceNo', 'CustomerID'], keep=\"first\", inplace=True)\n",
        "#calculamos la frecuencia de las compras\n",
        "frequency_df = retail_uk_copy.groupby(by=['CustomerID'], as_index=False)['InvoiceNo'].count()\n",
        "frequency_df.columns = ['CustomerID','Frequency']\n",
        "frequency_df.head()"
      ],
      "execution_count": 0,
      "outputs": []
    },
    {
      "cell_type": "markdown",
      "metadata": {
        "id": "FRjxxWV9H2wZ",
        "colab_type": "text"
      },
      "source": [
        "## Monetary"
      ]
    },
    {
      "cell_type": "code",
      "metadata": {
        "id": "Ry4cKVhtH1oz",
        "colab_type": "code",
        "colab": {}
      },
      "source": [
        "#Creamos una columna de coste total\n",
        "retail_uk['TotalCost'] = retail_uk['Quantity'] * retail_uk['UnitPrice']"
      ],
      "execution_count": 0,
      "outputs": []
    },
    {
      "cell_type": "code",
      "metadata": {
        "id": "H_K7Bj-fH8IY",
        "colab_type": "code",
        "colab": {}
      },
      "source": [
        "monetary_df = retail_uk.groupby(by='CustomerID',as_index=False).agg({'TotalCost': 'sum'})\n",
        "monetary_df.columns = ['CustomerID','Monetary']\n",
        "monetary_df.head()"
      ],
      "execution_count": 0,
      "outputs": []
    },
    {
      "cell_type": "markdown",
      "metadata": {
        "id": "fYmuAlfCIBme",
        "colab_type": "text"
      },
      "source": [
        "## Crear tabla RFM"
      ]
    },
    {
      "cell_type": "code",
      "metadata": {
        "id": "Zbjz3bcVID-C",
        "colab_type": "code",
        "colab": {}
      },
      "source": [
        "#hacemos un merge de los dataframes de recency y frequency\n",
        "temp_df = recency_df.merge(frequency_df,on='CustomerID')\n",
        "temp_df.head()"
      ],
      "execution_count": 0,
      "outputs": []
    },
    {
      "cell_type": "code",
      "metadata": {
        "id": "-CdKdMoiIEsD",
        "colab_type": "code",
        "colab": {}
      },
      "source": [
        "#hacemos el merge con el dataframe de monetary para obtener una tabla con las tres columnas\n",
        "rfm_df = temp_df.merge(monetary_df,on='CustomerID')\n",
        "#usamos CustomerID como índice\n",
        "rfm_df.set_index('CustomerID',inplace=True)\n",
        "\n",
        "rfm_df.head()"
      ],
      "execution_count": 0,
      "outputs": []
    },
    {
      "cell_type": "code",
      "metadata": {
        "id": "oSlah9QJIGjz",
        "colab_type": "code",
        "colab": {}
      },
      "source": [
        "retail_uk[retail_uk['CustomerID']=='12820']"
      ],
      "execution_count": 0,
      "outputs": []
    },
    {
      "cell_type": "code",
      "metadata": {
        "id": "CUDIdM83IJVt",
        "colab_type": "code",
        "colab": {}
      },
      "source": [
        "(now - dt.date(2011,9,26)).days == 74"
      ],
      "execution_count": 0,
      "outputs": []
    },
    {
      "cell_type": "code",
      "metadata": {
        "id": "XeX4wwwlIMKG",
        "colab_type": "code",
        "colab": {}
      },
      "source": [
        "quantiles = rfm_df.quantile(q=[0.25,0.5,0.75])\n",
        "quantiles"
      ],
      "execution_count": 0,
      "outputs": []
    },
    {
      "cell_type": "code",
      "metadata": {
        "id": "u2PASkHbIO0H",
        "colab_type": "code",
        "outputId": "9ec1ac73-71ae-4d29-8aef-6a1907243d99",
        "colab": {
          "base_uri": "https://localhost:8080/",
          "height": 69
        }
      },
      "source": [
        "quantiles.to_dict()"
      ],
      "execution_count": 0,
      "outputs": [
        {
          "output_type": "execute_result",
          "data": {
            "text/plain": [
              "{'Frequency': {0.25: 1.0, 0.5: 2.0, 0.75: 3.0},\n",
              " 'Monetary': {0.25: 16.35, 0.5: 35.400000000000006, 0.75: 92.42000000000002},\n",
              " 'Recency': {0.25: 85.0, 0.5: 119.0, 0.75: 183.0}}"
            ]
          },
          "metadata": {
            "tags": []
          },
          "execution_count": 22
        }
      ]
    },
    {
      "cell_type": "markdown",
      "metadata": {
        "id": "vopAUTp-IUTh",
        "colab_type": "text"
      },
      "source": [
        "## Creación segmentos RFM"
      ]
    },
    {
      "cell_type": "code",
      "metadata": {
        "id": "CJFKhQe-IW-A",
        "colab_type": "code",
        "colab": {}
      },
      "source": [
        "# Argumentos (x = value, p = recency, monetary_value, frequency, d = quartiles dict)\n",
        "def RScore(x,p,d):\n",
        "    if x <= d[p][0.25]:\n",
        "        return 4\n",
        "    elif x <= d[p][0.50]:\n",
        "        return 3\n",
        "    elif x <= d[p][0.75]: \n",
        "        return 2\n",
        "    else:\n",
        "        return 1\n",
        "# Argumentos (x = value, p = recency, monetary_value, frequency, k = quartiles dict)\n",
        "def FMScore(x,p,d):\n",
        "    if x <= d[p][0.25]:\n",
        "        return 1\n",
        "    elif x <= d[p][0.50]:\n",
        "        return 2\n",
        "    elif x <= d[p][0.75]: \n",
        "        return 3\n",
        "    else:\n",
        "        return 4"
      ],
      "execution_count": 0,
      "outputs": []
    },
    {
      "cell_type": "code",
      "metadata": {
        "id": "aHQrDBOZIXkR",
        "colab_type": "code",
        "colab": {}
      },
      "source": [
        "#creamos una tabla de segmentación por rfm\n",
        "rfm_segmentation = rfm_df\n",
        "rfm_segmentation['R_Quartile'] = rfm_segmentation['Recency'].apply(RScore, args=('Recency',quantiles,))\n",
        "rfm_segmentation['F_Quartile'] = rfm_segmentation['Frequency'].apply(FMScore, args=('Frequency',quantiles,))\n",
        "rfm_segmentation['M_Quartile'] = rfm_segmentation['Monetary'].apply(FMScore, args=('Monetary',quantiles,))"
      ],
      "execution_count": 0,
      "outputs": []
    },
    {
      "cell_type": "code",
      "metadata": {
        "id": "QxFdoUgkIa2M",
        "colab_type": "code",
        "outputId": "ae909b39-9dd9-4457-9e12-6a2c3c851068",
        "colab": {
          "base_uri": "https://localhost:8080/",
          "height": 233
        }
      },
      "source": [
        "rfm_segmentation.head()"
      ],
      "execution_count": 0,
      "outputs": [
        {
          "output_type": "execute_result",
          "data": {
            "text/html": [
              "<div>\n",
              "<style scoped>\n",
              "    .dataframe tbody tr th:only-of-type {\n",
              "        vertical-align: middle;\n",
              "    }\n",
              "\n",
              "    .dataframe tbody tr th {\n",
              "        vertical-align: top;\n",
              "    }\n",
              "\n",
              "    .dataframe thead th {\n",
              "        text-align: right;\n",
              "    }\n",
              "</style>\n",
              "<table border=\"1\" class=\"dataframe\">\n",
              "  <thead>\n",
              "    <tr style=\"text-align: right;\">\n",
              "      <th></th>\n",
              "      <th>Recency</th>\n",
              "      <th>Frequency</th>\n",
              "      <th>Monetary</th>\n",
              "      <th>R_Quartile</th>\n",
              "      <th>F_Quartile</th>\n",
              "      <th>M_Quartile</th>\n",
              "    </tr>\n",
              "    <tr>\n",
              "      <th>CustomerID</th>\n",
              "      <th></th>\n",
              "      <th></th>\n",
              "      <th></th>\n",
              "      <th></th>\n",
              "      <th></th>\n",
              "      <th></th>\n",
              "    </tr>\n",
              "  </thead>\n",
              "  <tbody>\n",
              "    <tr>\n",
              "      <th>12747</th>\n",
              "      <td>109</td>\n",
              "      <td>5</td>\n",
              "      <td>191.85</td>\n",
              "      <td>3</td>\n",
              "      <td>4</td>\n",
              "      <td>4</td>\n",
              "    </tr>\n",
              "    <tr>\n",
              "      <th>12748</th>\n",
              "      <td>70</td>\n",
              "      <td>96</td>\n",
              "      <td>1054.43</td>\n",
              "      <td>4</td>\n",
              "      <td>4</td>\n",
              "      <td>4</td>\n",
              "    </tr>\n",
              "    <tr>\n",
              "      <th>12749</th>\n",
              "      <td>130</td>\n",
              "      <td>3</td>\n",
              "      <td>67.00</td>\n",
              "      <td>2</td>\n",
              "      <td>3</td>\n",
              "      <td>3</td>\n",
              "    </tr>\n",
              "    <tr>\n",
              "      <th>12820</th>\n",
              "      <td>74</td>\n",
              "      <td>1</td>\n",
              "      <td>15.00</td>\n",
              "      <td>4</td>\n",
              "      <td>1</td>\n",
              "      <td>1</td>\n",
              "    </tr>\n",
              "    <tr>\n",
              "      <th>12821</th>\n",
              "      <td>214</td>\n",
              "      <td>1</td>\n",
              "      <td>19.92</td>\n",
              "      <td>1</td>\n",
              "      <td>1</td>\n",
              "      <td>2</td>\n",
              "    </tr>\n",
              "  </tbody>\n",
              "</table>\n",
              "</div>"
            ],
            "text/plain": [
              "            Recency  Frequency  Monetary  R_Quartile  F_Quartile  M_Quartile\n",
              "CustomerID                                                                  \n",
              "12747           109          5    191.85           3           4           4\n",
              "12748            70         96   1054.43           4           4           4\n",
              "12749           130          3     67.00           2           3           3\n",
              "12820            74          1     15.00           4           1           1\n",
              "12821           214          1     19.92           1           1           2"
            ]
          },
          "metadata": {
            "tags": []
          },
          "execution_count": 25
        }
      ]
    },
    {
      "cell_type": "code",
      "metadata": {
        "id": "m7x__4NRIcoe",
        "colab_type": "code",
        "outputId": "7772c14a-6166-4393-c4ab-47d686a783ff",
        "colab": {
          "base_uri": "https://localhost:8080/",
          "height": 233
        }
      },
      "source": [
        "rfm_segmentation['RFMScore'] = rfm_segmentation.R_Quartile.map(str) \\\n",
        "                            + rfm_segmentation.F_Quartile.map(str) \\\n",
        "                            + rfm_segmentation.M_Quartile.map(str)\n",
        "rfm_segmentation.head()"
      ],
      "execution_count": 0,
      "outputs": [
        {
          "output_type": "execute_result",
          "data": {
            "text/html": [
              "<div>\n",
              "<style scoped>\n",
              "    .dataframe tbody tr th:only-of-type {\n",
              "        vertical-align: middle;\n",
              "    }\n",
              "\n",
              "    .dataframe tbody tr th {\n",
              "        vertical-align: top;\n",
              "    }\n",
              "\n",
              "    .dataframe thead th {\n",
              "        text-align: right;\n",
              "    }\n",
              "</style>\n",
              "<table border=\"1\" class=\"dataframe\">\n",
              "  <thead>\n",
              "    <tr style=\"text-align: right;\">\n",
              "      <th></th>\n",
              "      <th>Recency</th>\n",
              "      <th>Frequency</th>\n",
              "      <th>Monetary</th>\n",
              "      <th>R_Quartile</th>\n",
              "      <th>F_Quartile</th>\n",
              "      <th>M_Quartile</th>\n",
              "      <th>RFMScore</th>\n",
              "    </tr>\n",
              "    <tr>\n",
              "      <th>CustomerID</th>\n",
              "      <th></th>\n",
              "      <th></th>\n",
              "      <th></th>\n",
              "      <th></th>\n",
              "      <th></th>\n",
              "      <th></th>\n",
              "      <th></th>\n",
              "    </tr>\n",
              "  </thead>\n",
              "  <tbody>\n",
              "    <tr>\n",
              "      <th>12747</th>\n",
              "      <td>109</td>\n",
              "      <td>5</td>\n",
              "      <td>191.85</td>\n",
              "      <td>3</td>\n",
              "      <td>4</td>\n",
              "      <td>4</td>\n",
              "      <td>344</td>\n",
              "    </tr>\n",
              "    <tr>\n",
              "      <th>12748</th>\n",
              "      <td>70</td>\n",
              "      <td>96</td>\n",
              "      <td>1054.43</td>\n",
              "      <td>4</td>\n",
              "      <td>4</td>\n",
              "      <td>4</td>\n",
              "      <td>444</td>\n",
              "    </tr>\n",
              "    <tr>\n",
              "      <th>12749</th>\n",
              "      <td>130</td>\n",
              "      <td>3</td>\n",
              "      <td>67.00</td>\n",
              "      <td>2</td>\n",
              "      <td>3</td>\n",
              "      <td>3</td>\n",
              "      <td>233</td>\n",
              "    </tr>\n",
              "    <tr>\n",
              "      <th>12820</th>\n",
              "      <td>74</td>\n",
              "      <td>1</td>\n",
              "      <td>15.00</td>\n",
              "      <td>4</td>\n",
              "      <td>1</td>\n",
              "      <td>1</td>\n",
              "      <td>411</td>\n",
              "    </tr>\n",
              "    <tr>\n",
              "      <th>12821</th>\n",
              "      <td>214</td>\n",
              "      <td>1</td>\n",
              "      <td>19.92</td>\n",
              "      <td>1</td>\n",
              "      <td>1</td>\n",
              "      <td>2</td>\n",
              "      <td>112</td>\n",
              "    </tr>\n",
              "  </tbody>\n",
              "</table>\n",
              "</div>"
            ],
            "text/plain": [
              "            Recency  Frequency  Monetary  ...  F_Quartile  M_Quartile  RFMScore\n",
              "CustomerID                                ...                                  \n",
              "12747           109          5    191.85  ...           4           4       344\n",
              "12748            70         96   1054.43  ...           4           4       444\n",
              "12749           130          3     67.00  ...           3           3       233\n",
              "12820            74          1     15.00  ...           1           1       411\n",
              "12821           214          1     19.92  ...           1           2       112\n",
              "\n",
              "[5 rows x 7 columns]"
            ]
          },
          "metadata": {
            "tags": []
          },
          "execution_count": 26
        }
      ]
    },
    {
      "cell_type": "code",
      "metadata": {
        "id": "ZVKsEq6CIfQ_",
        "colab_type": "code",
        "outputId": "8545309f-3143-4bb7-86f7-863bae26ad8c",
        "colab": {
          "base_uri": "https://localhost:8080/",
          "height": 386
        }
      },
      "source": [
        "rfm_segmentation[rfm_segmentation['RFMScore']=='444'].sort_values('Monetary', ascending=False).head(10)"
      ],
      "execution_count": 0,
      "outputs": [
        {
          "output_type": "execute_result",
          "data": {
            "text/html": [
              "<div>\n",
              "<style scoped>\n",
              "    .dataframe tbody tr th:only-of-type {\n",
              "        vertical-align: middle;\n",
              "    }\n",
              "\n",
              "    .dataframe tbody tr th {\n",
              "        vertical-align: top;\n",
              "    }\n",
              "\n",
              "    .dataframe thead th {\n",
              "        text-align: right;\n",
              "    }\n",
              "</style>\n",
              "<table border=\"1\" class=\"dataframe\">\n",
              "  <thead>\n",
              "    <tr style=\"text-align: right;\">\n",
              "      <th></th>\n",
              "      <th>Recency</th>\n",
              "      <th>Frequency</th>\n",
              "      <th>Monetary</th>\n",
              "      <th>R_Quartile</th>\n",
              "      <th>F_Quartile</th>\n",
              "      <th>M_Quartile</th>\n",
              "      <th>RFMScore</th>\n",
              "    </tr>\n",
              "    <tr>\n",
              "      <th>CustomerID</th>\n",
              "      <th></th>\n",
              "      <th></th>\n",
              "      <th></th>\n",
              "      <th></th>\n",
              "      <th></th>\n",
              "      <th></th>\n",
              "      <th></th>\n",
              "    </tr>\n",
              "  </thead>\n",
              "  <tbody>\n",
              "    <tr>\n",
              "      <th>18102</th>\n",
              "      <td>72</td>\n",
              "      <td>34</td>\n",
              "      <td>26632.62</td>\n",
              "      <td>4</td>\n",
              "      <td>4</td>\n",
              "      <td>4</td>\n",
              "      <td>444</td>\n",
              "    </tr>\n",
              "    <tr>\n",
              "      <th>17949</th>\n",
              "      <td>70</td>\n",
              "      <td>32</td>\n",
              "      <td>22504.73</td>\n",
              "      <td>4</td>\n",
              "      <td>4</td>\n",
              "      <td>4</td>\n",
              "      <td>444</td>\n",
              "    </tr>\n",
              "    <tr>\n",
              "      <th>17450</th>\n",
              "      <td>70</td>\n",
              "      <td>28</td>\n",
              "      <td>18009.06</td>\n",
              "      <td>4</td>\n",
              "      <td>4</td>\n",
              "      <td>4</td>\n",
              "      <td>444</td>\n",
              "    </tr>\n",
              "    <tr>\n",
              "      <th>16029</th>\n",
              "      <td>80</td>\n",
              "      <td>39</td>\n",
              "      <td>15119.49</td>\n",
              "      <td>4</td>\n",
              "      <td>4</td>\n",
              "      <td>4</td>\n",
              "      <td>444</td>\n",
              "    </tr>\n",
              "    <tr>\n",
              "      <th>16013</th>\n",
              "      <td>70</td>\n",
              "      <td>24</td>\n",
              "      <td>10402.34</td>\n",
              "      <td>4</td>\n",
              "      <td>4</td>\n",
              "      <td>4</td>\n",
              "      <td>444</td>\n",
              "    </tr>\n",
              "    <tr>\n",
              "      <th>12901</th>\n",
              "      <td>81</td>\n",
              "      <td>20</td>\n",
              "      <td>5915.66</td>\n",
              "      <td>4</td>\n",
              "      <td>4</td>\n",
              "      <td>4</td>\n",
              "      <td>444</td>\n",
              "    </tr>\n",
              "    <tr>\n",
              "      <th>13798</th>\n",
              "      <td>72</td>\n",
              "      <td>34</td>\n",
              "      <td>4648.80</td>\n",
              "      <td>4</td>\n",
              "      <td>4</td>\n",
              "      <td>4</td>\n",
              "      <td>444</td>\n",
              "    </tr>\n",
              "    <tr>\n",
              "      <th>17857</th>\n",
              "      <td>72</td>\n",
              "      <td>12</td>\n",
              "      <td>4644.68</td>\n",
              "      <td>4</td>\n",
              "      <td>4</td>\n",
              "      <td>4</td>\n",
              "      <td>444</td>\n",
              "    </tr>\n",
              "    <tr>\n",
              "      <th>13694</th>\n",
              "      <td>71</td>\n",
              "      <td>32</td>\n",
              "      <td>4472.68</td>\n",
              "      <td>4</td>\n",
              "      <td>4</td>\n",
              "      <td>4</td>\n",
              "      <td>444</td>\n",
              "    </tr>\n",
              "    <tr>\n",
              "      <th>15061</th>\n",
              "      <td>73</td>\n",
              "      <td>23</td>\n",
              "      <td>3417.70</td>\n",
              "      <td>4</td>\n",
              "      <td>4</td>\n",
              "      <td>4</td>\n",
              "      <td>444</td>\n",
              "    </tr>\n",
              "  </tbody>\n",
              "</table>\n",
              "</div>"
            ],
            "text/plain": [
              "            Recency  Frequency  Monetary  ...  F_Quartile  M_Quartile  RFMScore\n",
              "CustomerID                                ...                                  \n",
              "18102            72         34  26632.62  ...           4           4       444\n",
              "17949            70         32  22504.73  ...           4           4       444\n",
              "17450            70         28  18009.06  ...           4           4       444\n",
              "16029            80         39  15119.49  ...           4           4       444\n",
              "16013            70         24  10402.34  ...           4           4       444\n",
              "12901            81         20   5915.66  ...           4           4       444\n",
              "13798            72         34   4648.80  ...           4           4       444\n",
              "17857            72         12   4644.68  ...           4           4       444\n",
              "13694            71         32   4472.68  ...           4           4       444\n",
              "15061            73         23   3417.70  ...           4           4       444\n",
              "\n",
              "[10 rows x 7 columns]"
            ]
          },
          "metadata": {
            "tags": []
          },
          "execution_count": 27
        }
      ]
    },
    {
      "cell_type": "code",
      "metadata": {
        "id": "x0LUS_QZIjmC",
        "colab_type": "code",
        "outputId": "4aca36a5-e9d4-4a6a-feff-60a9dc289138",
        "colab": {
          "base_uri": "https://localhost:8080/",
          "height": 121
        }
      },
      "source": [
        "print(\"Mejores clientes: \",len(rfm_segmentation[rfm_segmentation['RFMScore']=='444']))\n",
        "print('Clientes más fieles: ',len(rfm_segmentation[rfm_segmentation['F_Quartile']==4]))\n",
        "print(\"Los que más gastan: \",len(rfm_segmentation[rfm_segmentation['M_Quartile']==4]))\n",
        "print('A los que casi hemos perdido: ', len(rfm_segmentation[rfm_segmentation['RFMScore']=='244']))\n",
        "print('Clientes perdidos: ',len(rfm_segmentation[rfm_segmentation['RFMScore']=='144']))\n",
        "print('Clientes \"baratos\" perdidos: ',len(rfm_segmentation[rfm_segmentation['RFMScore']=='111']))"
      ],
      "execution_count": 0,
      "outputs": [
        {
          "output_type": "stream",
          "text": [
            "Mejores clientes:  218\n",
            "Clientes más fieles:  687\n",
            "Los que más gastan:  716\n",
            "A los que casi hemos perdido:  52\n",
            "Clientes perdidos:  5\n",
            "Clientes \"baratos\" perdidos:  278\n"
          ],
          "name": "stdout"
        }
      ]
    },
    {
      "cell_type": "markdown",
      "metadata": {
        "id": "_nDY1vh-iyLX",
        "colab_type": "text"
      },
      "source": [
        "# Jugando a predecir"
      ]
    },
    {
      "cell_type": "code",
      "metadata": {
        "id": "QH_Wo4P3ienW",
        "colab_type": "code",
        "outputId": "16a170b6-29c3-4868-8fb5-8739424def07",
        "colab": {
          "base_uri": "https://localhost:8080/",
          "height": 319
        }
      },
      "source": [
        "#hacemos un merge de los datos originales con la clasificación\n",
        "final_df = retail_uk.merge(rfm_segmentation,on='CustomerID')\n",
        "final_df.set_index('CustomerID',inplace=True)\n",
        "final_df.head()"
      ],
      "execution_count": 0,
      "outputs": [
        {
          "output_type": "execute_result",
          "data": {
            "text/html": [
              "<div>\n",
              "<style scoped>\n",
              "    .dataframe tbody tr th:only-of-type {\n",
              "        vertical-align: middle;\n",
              "    }\n",
              "\n",
              "    .dataframe tbody tr th {\n",
              "        vertical-align: top;\n",
              "    }\n",
              "\n",
              "    .dataframe thead th {\n",
              "        text-align: right;\n",
              "    }\n",
              "</style>\n",
              "<table border=\"1\" class=\"dataframe\">\n",
              "  <thead>\n",
              "    <tr style=\"text-align: right;\">\n",
              "      <th></th>\n",
              "      <th>InvoiceNo</th>\n",
              "      <th>StockCode</th>\n",
              "      <th>Description</th>\n",
              "      <th>Quantity</th>\n",
              "      <th>InvoiceDate</th>\n",
              "      <th>UnitPrice</th>\n",
              "      <th>Country</th>\n",
              "      <th>date</th>\n",
              "      <th>TotalCost</th>\n",
              "      <th>Recency</th>\n",
              "      <th>Frequency</th>\n",
              "      <th>Monetary</th>\n",
              "      <th>R_Quartile</th>\n",
              "      <th>F_Quartile</th>\n",
              "      <th>M_Quartile</th>\n",
              "      <th>RFMScore</th>\n",
              "    </tr>\n",
              "    <tr>\n",
              "      <th>CustomerID</th>\n",
              "      <th></th>\n",
              "      <th></th>\n",
              "      <th></th>\n",
              "      <th></th>\n",
              "      <th></th>\n",
              "      <th></th>\n",
              "      <th></th>\n",
              "      <th></th>\n",
              "      <th></th>\n",
              "      <th></th>\n",
              "      <th></th>\n",
              "      <th></th>\n",
              "      <th></th>\n",
              "      <th></th>\n",
              "      <th></th>\n",
              "      <th></th>\n",
              "    </tr>\n",
              "  </thead>\n",
              "  <tbody>\n",
              "    <tr>\n",
              "      <th>14620</th>\n",
              "      <td>545220</td>\n",
              "      <td>21955</td>\n",
              "      <td>DOORMAT UNION JACK GUNS AND ROSES</td>\n",
              "      <td>2</td>\n",
              "      <td>3/1/2011 8:30</td>\n",
              "      <td>7.95</td>\n",
              "      <td>United Kingdom</td>\n",
              "      <td>2011-03-01</td>\n",
              "      <td>15.90</td>\n",
              "      <td>205</td>\n",
              "      <td>2</td>\n",
              "      <td>18.18</td>\n",
              "      <td>1</td>\n",
              "      <td>2</td>\n",
              "      <td>2</td>\n",
              "      <td>122</td>\n",
              "    </tr>\n",
              "    <tr>\n",
              "      <th>14620</th>\n",
              "      <td>553660</td>\n",
              "      <td>17091A</td>\n",
              "      <td>LAVENDER INCENSE IN TIN</td>\n",
              "      <td>6</td>\n",
              "      <td>5/18/2011 11:58</td>\n",
              "      <td>0.38</td>\n",
              "      <td>United Kingdom</td>\n",
              "      <td>2011-05-18</td>\n",
              "      <td>2.28</td>\n",
              "      <td>205</td>\n",
              "      <td>2</td>\n",
              "      <td>18.18</td>\n",
              "      <td>1</td>\n",
              "      <td>2</td>\n",
              "      <td>2</td>\n",
              "      <td>122</td>\n",
              "    </tr>\n",
              "    <tr>\n",
              "      <th>14740</th>\n",
              "      <td>545221</td>\n",
              "      <td>22021</td>\n",
              "      <td>BLUE FELT EASTER EGG BASKET</td>\n",
              "      <td>6</td>\n",
              "      <td>3/1/2011 8:35</td>\n",
              "      <td>1.65</td>\n",
              "      <td>United Kingdom</td>\n",
              "      <td>2011-03-01</td>\n",
              "      <td>9.90</td>\n",
              "      <td>197</td>\n",
              "      <td>3</td>\n",
              "      <td>42.24</td>\n",
              "      <td>1</td>\n",
              "      <td>3</td>\n",
              "      <td>3</td>\n",
              "      <td>133</td>\n",
              "    </tr>\n",
              "    <tr>\n",
              "      <th>14740</th>\n",
              "      <td>551349</td>\n",
              "      <td>20971</td>\n",
              "      <td>PINK BLUE FELT CRAFT TRINKET BOX</td>\n",
              "      <td>12</td>\n",
              "      <td>4/28/2011 10:03</td>\n",
              "      <td>1.25</td>\n",
              "      <td>United Kingdom</td>\n",
              "      <td>2011-04-28</td>\n",
              "      <td>15.00</td>\n",
              "      <td>197</td>\n",
              "      <td>3</td>\n",
              "      <td>42.24</td>\n",
              "      <td>1</td>\n",
              "      <td>3</td>\n",
              "      <td>3</td>\n",
              "      <td>133</td>\n",
              "    </tr>\n",
              "    <tr>\n",
              "      <th>14740</th>\n",
              "      <td>554842</td>\n",
              "      <td>23109</td>\n",
              "      <td>LED TEA LIGHTS</td>\n",
              "      <td>6</td>\n",
              "      <td>5/26/2011 18:17</td>\n",
              "      <td>2.89</td>\n",
              "      <td>United Kingdom</td>\n",
              "      <td>2011-05-26</td>\n",
              "      <td>17.34</td>\n",
              "      <td>197</td>\n",
              "      <td>3</td>\n",
              "      <td>42.24</td>\n",
              "      <td>1</td>\n",
              "      <td>3</td>\n",
              "      <td>3</td>\n",
              "      <td>133</td>\n",
              "    </tr>\n",
              "  </tbody>\n",
              "</table>\n",
              "</div>"
            ],
            "text/plain": [
              "           InvoiceNo StockCode  ... M_Quartile  RFMScore\n",
              "CustomerID                      ...                     \n",
              "14620         545220     21955  ...          2       122\n",
              "14620         553660    17091A  ...          2       122\n",
              "14740         545221     22021  ...          3       133\n",
              "14740         551349     20971  ...          3       133\n",
              "14740         554842     23109  ...          3       133\n",
              "\n",
              "[5 rows x 16 columns]"
            ]
          },
          "metadata": {
            "tags": []
          },
          "execution_count": 33
        }
      ]
    },
    {
      "cell_type": "code",
      "metadata": {
        "id": "RPA2wL8Ck4SR",
        "colab_type": "code",
        "colab": {}
      },
      "source": [
        "y = final_df['RFMScore']\n",
        "drop_col = ['InvoiceNo','Description','InvoiceDate','Country','date','Recency','Frequency','Monetary','R_Quartile','F_Quartile','M_Quartile','RFMScore']\n",
        "X = final_df.drop(drop_col,axis=1)"
      ],
      "execution_count": 0,
      "outputs": []
    },
    {
      "cell_type": "markdown",
      "metadata": {
        "id": "ziE3jjS_jp9-",
        "colab_type": "text"
      },
      "source": [
        "## Preparamos los datos y dividimos conjunto de entrenamiento y test"
      ]
    },
    {
      "cell_type": "code",
      "metadata": {
        "id": "NcwCX0dCmPqV",
        "colab_type": "code",
        "colab": {}
      },
      "source": [
        "#Encoding de funciones categóricas\n",
        "categorical =  ['StockCode']\n",
        "\n",
        "dummies = pd.get_dummies(X[categorical], prefix = categorical, prefix_sep = '_')\n",
        "X = pd.concat([X, dummies], axis = 1)\n",
        "# drop original categorical features\n",
        "X.drop(categorical, axis = 1, inplace = True)\n"
      ],
      "execution_count": 0,
      "outputs": []
    },
    {
      "cell_type": "code",
      "metadata": {
        "id": "doaJ9D9tmTPn",
        "colab_type": "code",
        "colab": {}
      },
      "source": [
        "from sklearn.model_selection import train_test_split\n",
        "X_train, X_test, y_train, y_test = train_test_split(X, y, random_state=0)\n",
        "from sklearn.preprocessing import MinMaxScaler\n",
        "scaler = MinMaxScaler()\n",
        "X_train = scaler.fit_transform(X_train)\n",
        "X_test = scaler.transform(X_test)"
      ],
      "execution_count": 0,
      "outputs": []
    },
    {
      "cell_type": "code",
      "metadata": {
        "id": "oEcRYRA_mzjm",
        "colab_type": "code",
        "outputId": "2411d8f2-ddf5-4d2e-abeb-5daf2a4b63f7",
        "colab": {
          "base_uri": "https://localhost:8080/",
          "height": 52
        }
      },
      "source": [
        "from sklearn.tree import DecisionTreeClassifier\n",
        "clf = DecisionTreeClassifier().fit(X_train, y_train)\n",
        "print('Accuracy of Decision Tree classifier on training set: {:.2f}'\n",
        "     .format(clf.score(X_train, y_train)))\n",
        "print('Accuracy of Decision Tree classifier on test set: {:.2f}'\n",
        "     .format(clf.score(X_test, y_test)))"
      ],
      "execution_count": 0,
      "outputs": [
        {
          "output_type": "stream",
          "text": [
            "Accuracy of Decision Tree classifier on training set: 0.70\n",
            "Accuracy of Decision Tree classifier on test set: 0.20\n"
          ],
          "name": "stdout"
        }
      ]
    },
    {
      "cell_type": "code",
      "metadata": {
        "id": "PuvJZbMCoJ5s",
        "colab_type": "code",
        "outputId": "d92820e3-2bfd-415c-cfe1-7ddb509bca1d",
        "colab": {
          "base_uri": "https://localhost:8080/",
          "height": 139
        }
      },
      "source": [
        "from sklearn.metrics import confusion_matrix\n",
        "prediccion = clf.predict(X_test)\n",
        "confusion_matrix(y_test, prediccion)"
      ],
      "execution_count": 0,
      "outputs": [
        {
          "output_type": "execute_result",
          "data": {
            "text/plain": [
              "array([[  7,   0,   0, ...,   2,   6,  30],\n",
              "       [  0,   4,   0, ...,   0,   0,  15],\n",
              "       [  0,   0,   1, ...,   0,   0,   5],\n",
              "       ...,\n",
              "       [  3,   1,   0, ...,   1,   1,  10],\n",
              "       [  3,   2,   0, ...,   0,   5,  32],\n",
              "       [ 28,  17,   4, ...,   4,   7, 319]])"
            ]
          },
          "metadata": {
            "tags": []
          },
          "execution_count": 49
        }
      ]
    },
    {
      "cell_type": "code",
      "metadata": {
        "id": "JIlK9WFDnAaT",
        "colab_type": "code",
        "colab": {}
      },
      "source": [
        "from sklearn.neighbors import KNeighborsRegressor\n",
        "\n",
        "#X_train, X_test, y_train, y_test = train_test_split(X_train, y_train, random_state = 0)\n",
        "\n",
        "knnreg = KNeighborsRegressor(n_neighbors = 5).fit(X_train, y_train)"
      ],
      "execution_count": 0,
      "outputs": []
    },
    {
      "cell_type": "code",
      "metadata": {
        "id": "Gw_Aj_QKnGu8",
        "colab_type": "code",
        "colab": {}
      },
      "source": [
        "#Mean Squared Error (MSE)\n",
        "\n",
        "y_train_pred_knn = knnreg.predict(X_train)\n",
        "y_test_pred_knn = knnreg.predict(X_test)\n",
        "print('MSE train: %.3f, test: %.3f' % (mean_squared_error(y_train, y_train_pred_knn),mean_squared_error(y_test, y_test_pred_knn)))"
      ],
      "execution_count": 0,
      "outputs": []
    },
    {
      "cell_type": "code",
      "metadata": {
        "id": "KqtlNZ9gnK7Z",
        "colab_type": "code",
        "colab": {}
      },
      "source": [
        "print('R-squared test score: {:.3f}'\n",
        "     .format(knnreg.score(X_test, y_test)))"
      ],
      "execution_count": 0,
      "outputs": []
    },
    {
      "cell_type": "markdown",
      "metadata": {
        "id": "OlQFcWnonb-K",
        "colab_type": "text"
      },
      "source": [
        "## Regresión Lineal"
      ]
    },
    {
      "cell_type": "code",
      "metadata": {
        "id": "IWoRO7e0neSX",
        "colab_type": "code",
        "colab": {}
      },
      "source": [
        "from sklearn import linear_model\n",
        "regressor = linear_model.LinearRegression()\n",
        "lr = regressor.fit(X_train, y_train)"
      ],
      "execution_count": 0,
      "outputs": []
    },
    {
      "cell_type": "code",
      "metadata": {
        "id": "hCm-0hb2nmlZ",
        "colab_type": "code",
        "colab": {}
      },
      "source": [
        "#Mean Squared Error (MSE)\n",
        "from sklearn.metrics import mean_squared_error\n",
        "y_train_pred_lr = lr.predict(X_train)\n",
        "y_test_pred_lr = lr.predict(X_test)\n",
        "print('MSE train: %.3f, test: %.3f' % (mean_squared_error(y_train, y_train_pred_lr),mean_squared_error(y_test, y_test_pred_lr)))\n",
        "\n",
        "# Si MSE es mayor en test que en train, clara muestra de overfitting"
      ],
      "execution_count": 0,
      "outputs": []
    },
    {
      "cell_type": "code",
      "metadata": {
        "id": "FPX-R9jJnp5u",
        "colab_type": "code",
        "colab": {}
      },
      "source": [
        "print('R-squared train score: {:.3f}'\n",
        "     .format(lr.score(X_train, y_train)))\n",
        "print('R-squared test score: {:.3f}'\n",
        "     .format(lr.score(X_test, y_test)))\n",
        "#R-squared conocido también como Coeficiente de determinación. El coeficiente determina la calidad del modelo para replicar los resultados, \n",
        "#y la proporción de variación de los resultados que puede explicarse por el modelo\n",
        "#Es el porcentaje de variacion de la variable dependiente que explica el modelo lineal\n"
      ],
      "execution_count": 0,
      "outputs": []
    }
  ]
}