{
    "metadata": {
        "kernelspec": {
            "name": "python3",
            "display_name": "Python 3 (ipykernel)",
            "language": "python"
        },
        "language_info": {
            "name": "python",
            "version": "3.10.4",
            "mimetype": "text/x-python",
            "codemirror_mode": {
                "name": "ipython",
                "version": 3
            },
            "pygments_lexer": "ipython3",
            "nbconvert_exporter": "python",
            "file_extension": ".py"
        },
        "colab": {
            "provenance": [],
            "collapsed_sections": []
        }
    },
    "nbformat_minor": 2,
    "nbformat": 4,
    "cells": [
        {
            "cell_type": "markdown",
            "source": [
                "![SolidQ](https://antoniosql.github.io/images/SolidQ_Verne.png) \n",
                "# RFM y Clustering"
            ],
            "metadata": {
                "id": "1uR0FokoygBD",
                "azdata_cell_guid": "48a5afcf-8df7-480f-b7dd-cab29f8e8d1c"
            }
        },
        {
            "cell_type": "code",
            "source": [
                "from google.colab import drive\n",
                "drive.mount('/content/gdrive')"
            ],
            "metadata": {
                "id": "ExG0Gz1wybdc",
                "colab": {
                    "base_uri": "https://localhost:8080/",
                    "height": 122
                },
                "outputId": "53fc8b8a-7e86-4033-8b8e-f7792b73c6bd",
                "azdata_cell_guid": "1a6c5ba5-c64d-4756-8f8f-fdca9cffdd22",
                "language": "python"
            },
            "outputs": [
                {
                    "output_type": "stream",
                    "name": "stdout",
                    "text": "Go to this URL in a browser: https://accounts.google.com/o/oauth2/auth?client_id=947318989803-6bn6qk8qdgf4n4g3pfee6491hc0brc4i.apps.googleusercontent.com&redirect_uri=urn%3aietf%3awg%3aoauth%3a2.0%3aoob&response_type=code&scope=email%20https%3a%2f%2fwww.googleapis.com%2fauth%2fdocs.test%20https%3a%2f%2fwww.googleapis.com%2fauth%2fdrive%20https%3a%2f%2fwww.googleapis.com%2fauth%2fdrive.photos.readonly%20https%3a%2f%2fwww.googleapis.com%2fauth%2fpeopleapi.readonly\n\nEnter your authorization code:\n··········\nMounted at /content/gdrive\n"
                }
            ],
            "execution_count": null
        },
        {
            "cell_type": "code",
            "source": [
                "\n",
                "import numpy as np \n",
                "import pandas as pd \n",
                "import time, warnings\n",
                "import datetime as dt\n",
                "\n",
                "#visualizaciones\n",
                "import matplotlib.pyplot as plt\n",
                "from pandas.plotting import scatter_matrix\n",
                "%matplotlib inline\n",
                "import seaborn as sns\n",
                "\n",
                "warnings.filterwarnings(\"ignore\")"
            ],
            "metadata": {
                "id": "JKctaRWQyisz",
                "azdata_cell_guid": "bbc501a2-ed81-4aef-93c9-1c81f72a58b7",
                "language": "python"
            },
            "outputs": [],
            "execution_count": null
        },
        {
            "cell_type": "code",
            "source": [
                "#cargar el dataset\n",
                "pedidos_df = pd.read_csv('/content/gdrive/My Drive/Datos/orders.csv')\n",
                "pedidos_df.head()"
            ],
            "metadata": {
                "id": "4NS_FZOYyjK2",
                "colab": {
                    "base_uri": "https://localhost:8080/",
                    "height": 204
                },
                "outputId": "15284f39-f96a-48d5-8ee6-738e12ae0b3e",
                "azdata_cell_guid": "789edaee-c8d8-45a2-a2d0-92505e79b4ff",
                "language": "python"
            },
            "outputs": [
                {
                    "output_type": "execute_result",
                    "execution_count": 3,
                    "data": {
                        "text/html": "<div>\n<style scoped>\n    .dataframe tbody tr th:only-of-type {\n        vertical-align: middle;\n    }\n\n    .dataframe tbody tr th {\n        vertical-align: top;\n    }\n\n    .dataframe thead th {\n        text-align: right;\n    }\n</style>\n<table border=\"1\" class=\"dataframe\">\n  <thead>\n    <tr style=\"text-align: right;\">\n      <th></th>\n      <th>TransactionID</th>\n      <th>ProductID</th>\n      <th>CustomerID</th>\n      <th>Date</th>\n      <th>OrderTotal</th>\n    </tr>\n  </thead>\n  <tbody>\n    <tr>\n      <th>0</th>\n      <td>10001</td>\n      <td>9255</td>\n      <td>1054</td>\n      <td>2014-12-31</td>\n      <td>49</td>\n    </tr>\n    <tr>\n      <th>1</th>\n      <td>10002</td>\n      <td>9253</td>\n      <td>1047</td>\n      <td>2015-03-29</td>\n      <td>171</td>\n    </tr>\n    <tr>\n      <th>2</th>\n      <td>10003</td>\n      <td>9260</td>\n      <td>1081</td>\n      <td>2014-07-06</td>\n      <td>48</td>\n    </tr>\n    <tr>\n      <th>3</th>\n      <td>10004</td>\n      <td>9253</td>\n      <td>1088</td>\n      <td>2015-01-22</td>\n      <td>59</td>\n    </tr>\n    <tr>\n      <th>4</th>\n      <td>10005</td>\n      <td>9251</td>\n      <td>1007</td>\n      <td>2015-01-18</td>\n      <td>94</td>\n    </tr>\n  </tbody>\n</table>\n</div>",
                        "text/plain": "   TransactionID  ProductID  CustomerID        Date  OrderTotal\n0          10001       9255        1054  2014-12-31          49\n1          10002       9253        1047  2015-03-29         171\n2          10003       9260        1081  2014-07-06          48\n3          10004       9253        1088  2015-01-22          59\n4          10005       9251        1007  2015-01-18          94"
                    },
                    "metadata": {
                        "tags": []
                    }
                }
            ],
            "execution_count": null
        },
        {
            "cell_type": "code",
            "source": [
                "pedidos_df['date'] = pd.DatetimeIndex(pedidos_df['Date']).date"
            ],
            "metadata": {
                "id": "T66hez7w0Qyi",
                "azdata_cell_guid": "4f1c6aa8-9278-4b4b-bfb4-d6a509ec4f3c",
                "language": "python"
            },
            "outputs": [],
            "execution_count": null
        },
        {
            "cell_type": "markdown",
            "source": [
                "## Recency"
            ],
            "metadata": {
                "id": "kbU3VN3i0ig-",
                "azdata_cell_guid": "819bfe27-2e64-4cee-acc5-64893588bdc3"
            }
        },
        {
            "cell_type": "code",
            "source": [
                "#Agrupamos por cliente y chequeamos la fecha de su última compra\n",
                "recency_df = pedidos_df.groupby(by='CustomerID', as_index=False)['date'].max()\n",
                "recency_df.columns = ['CustomerID','FechaUltimaCompra']\n",
                "recency_df.head()"
            ],
            "metadata": {
                "id": "7swSELzszSYJ",
                "colab": {
                    "base_uri": "https://localhost:8080/",
                    "height": 204
                },
                "outputId": "447360b7-b45b-4a50-9dac-cb590d0e1581",
                "azdata_cell_guid": "527f4299-3392-43b3-b27c-111c6aa2229c",
                "language": "python"
            },
            "outputs": [
                {
                    "output_type": "execute_result",
                    "execution_count": 5,
                    "data": {
                        "text/html": "<div>\n<style scoped>\n    .dataframe tbody tr th:only-of-type {\n        vertical-align: middle;\n    }\n\n    .dataframe tbody tr th {\n        vertical-align: top;\n    }\n\n    .dataframe thead th {\n        text-align: right;\n    }\n</style>\n<table border=\"1\" class=\"dataframe\">\n  <thead>\n    <tr style=\"text-align: right;\">\n      <th></th>\n      <th>CustomerID</th>\n      <th>FechaUltimaCompra</th>\n    </tr>\n  </thead>\n  <tbody>\n    <tr>\n      <th>0</th>\n      <td>1002</td>\n      <td>2015-05-21</td>\n    </tr>\n    <tr>\n      <th>1</th>\n      <td>1003</td>\n      <td>2015-04-21</td>\n    </tr>\n    <tr>\n      <th>2</th>\n      <td>1004</td>\n      <td>2015-04-07</td>\n    </tr>\n    <tr>\n      <th>3</th>\n      <td>1005</td>\n      <td>2015-05-05</td>\n    </tr>\n    <tr>\n      <th>4</th>\n      <td>1006</td>\n      <td>2015-04-20</td>\n    </tr>\n  </tbody>\n</table>\n</div>",
                        "text/plain": "   CustomerID FechaUltimaCompra\n0        1002        2015-05-21\n1        1003        2015-04-21\n2        1004        2015-04-07\n3        1005        2015-05-05\n4        1006        2015-04-20"
                    },
                    "metadata": {
                        "tags": []
                    }
                }
            ],
            "execution_count": null
        },
        {
            "cell_type": "code",
            "source": [
                " fecha = recency_df['FechaUltimaCompra'].max()"
            ],
            "metadata": {
                "id": "dtXiAM5nzqoW",
                "azdata_cell_guid": "01583485-3506-407d-9d0a-7f0c739550c7",
                "language": "python"
            },
            "outputs": [],
            "execution_count": null
        },
        {
            "cell_type": "code",
            "source": [
                "#Cálculo de recency\n",
                "recency_df['Recency'] = recency_df['FechaUltimaCompra'].apply(lambda x: (fecha - x).days)"
            ],
            "metadata": {
                "id": "vxx4NlUhz_bK",
                "azdata_cell_guid": "78c189d0-e139-46ec-baba-0ed545e76554",
                "language": "python"
            },
            "outputs": [],
            "execution_count": null
        },
        {
            "cell_type": "code",
            "source": [
                "recency_df.head()"
            ],
            "metadata": {
                "id": "sNUV9peW0br9",
                "colab": {
                    "base_uri": "https://localhost:8080/",
                    "height": 204
                },
                "outputId": "2ace586b-a5b9-41ea-a7bb-d742bfec22b8",
                "azdata_cell_guid": "0be71330-fb47-429f-a994-712461d2fe69",
                "language": "python"
            },
            "outputs": [
                {
                    "output_type": "execute_result",
                    "execution_count": 8,
                    "data": {
                        "text/html": "<div>\n<style scoped>\n    .dataframe tbody tr th:only-of-type {\n        vertical-align: middle;\n    }\n\n    .dataframe tbody tr th {\n        vertical-align: top;\n    }\n\n    .dataframe thead th {\n        text-align: right;\n    }\n</style>\n<table border=\"1\" class=\"dataframe\">\n  <thead>\n    <tr style=\"text-align: right;\">\n      <th></th>\n      <th>CustomerID</th>\n      <th>FechaUltimaCompra</th>\n      <th>Recency</th>\n    </tr>\n  </thead>\n  <tbody>\n    <tr>\n      <th>0</th>\n      <td>1002</td>\n      <td>2015-05-21</td>\n      <td>7</td>\n    </tr>\n    <tr>\n      <th>1</th>\n      <td>1003</td>\n      <td>2015-04-21</td>\n      <td>37</td>\n    </tr>\n    <tr>\n      <th>2</th>\n      <td>1004</td>\n      <td>2015-04-07</td>\n      <td>51</td>\n    </tr>\n    <tr>\n      <th>3</th>\n      <td>1005</td>\n      <td>2015-05-05</td>\n      <td>23</td>\n    </tr>\n    <tr>\n      <th>4</th>\n      <td>1006</td>\n      <td>2015-04-20</td>\n      <td>38</td>\n    </tr>\n  </tbody>\n</table>\n</div>",
                        "text/plain": "   CustomerID FechaUltimaCompra  Recency\n0        1002        2015-05-21        7\n1        1003        2015-04-21       37\n2        1004        2015-04-07       51\n3        1005        2015-05-05       23\n4        1006        2015-04-20       38"
                    },
                    "metadata": {
                        "tags": []
                    }
                }
            ],
            "execution_count": null
        },
        {
            "cell_type": "markdown",
            "source": [
                "## Frequency"
            ],
            "metadata": {
                "id": "bcFDeKKv0lzf",
                "azdata_cell_guid": "dc846166-c714-485e-a552-011b0bccf02d"
            }
        },
        {
            "cell_type": "code",
            "source": [
                "# eliminamos duplicados \n",
                "copia_pedidos = pedidos_df\n",
                "copia_pedidos.drop_duplicates(subset=['TransactionID', 'CustomerID'], keep=\"first\", inplace=True)\n",
                "#calculamos la frecuencia de las compras\n",
                "frequency_df = copia_pedidos.groupby(by=['CustomerID'], as_index=False)['TransactionID'].count()\n",
                "frequency_df.columns = ['CustomerID','Frequency']\n",
                "frequency_df.head()"
            ],
            "metadata": {
                "id": "dlMgTE-U0oCZ",
                "colab": {
                    "base_uri": "https://localhost:8080/",
                    "height": 204
                },
                "outputId": "c032b852-b1c0-4d5d-8ca1-ac844344dc7c",
                "azdata_cell_guid": "bbf179af-94e5-4fae-a707-bb05e7378496",
                "language": "python"
            },
            "outputs": [
                {
                    "output_type": "execute_result",
                    "execution_count": 9,
                    "data": {
                        "text/html": "<div>\n<style scoped>\n    .dataframe tbody tr th:only-of-type {\n        vertical-align: middle;\n    }\n\n    .dataframe tbody tr th {\n        vertical-align: top;\n    }\n\n    .dataframe thead th {\n        text-align: right;\n    }\n</style>\n<table border=\"1\" class=\"dataframe\">\n  <thead>\n    <tr style=\"text-align: right;\">\n      <th></th>\n      <th>CustomerID</th>\n      <th>Frequency</th>\n    </tr>\n  </thead>\n  <tbody>\n    <tr>\n      <th>0</th>\n      <td>1002</td>\n      <td>9</td>\n    </tr>\n    <tr>\n      <th>1</th>\n      <td>1003</td>\n      <td>11</td>\n    </tr>\n    <tr>\n      <th>2</th>\n      <td>1004</td>\n      <td>9</td>\n    </tr>\n    <tr>\n      <th>3</th>\n      <td>1005</td>\n      <td>9</td>\n    </tr>\n    <tr>\n      <th>4</th>\n      <td>1006</td>\n      <td>10</td>\n    </tr>\n  </tbody>\n</table>\n</div>",
                        "text/plain": "   CustomerID  Frequency\n0        1002          9\n1        1003         11\n2        1004          9\n3        1005          9\n4        1006         10"
                    },
                    "metadata": {
                        "tags": []
                    }
                }
            ],
            "execution_count": null
        },
        {
            "cell_type": "markdown",
            "source": [
                "## Monetary"
            ],
            "metadata": {
                "id": "TYZM4vhJ08cj",
                "azdata_cell_guid": "baf09d65-b217-4678-a33e-d6b68a046e59"
            }
        },
        {
            "cell_type": "code",
            "source": [
                "monetary_df = pedidos_df.groupby(by='CustomerID',as_index=False).agg({'OrderTotal': 'sum'})\n",
                "monetary_df.columns = ['CustomerID','Monetary']\n",
                "monetary_df.head()"
            ],
            "metadata": {
                "id": "1iOduZQY0-n3",
                "colab": {
                    "base_uri": "https://localhost:8080/",
                    "height": 204
                },
                "outputId": "305717a5-3f28-4be4-f166-d0a16e11f69b",
                "azdata_cell_guid": "cec7da08-a311-4059-b227-ddfc6e11e1cb",
                "language": "python"
            },
            "outputs": [
                {
                    "output_type": "execute_result",
                    "execution_count": 10,
                    "data": {
                        "text/html": "<div>\n<style scoped>\n    .dataframe tbody tr th:only-of-type {\n        vertical-align: middle;\n    }\n\n    .dataframe tbody tr th {\n        vertical-align: top;\n    }\n\n    .dataframe thead th {\n        text-align: right;\n    }\n</style>\n<table border=\"1\" class=\"dataframe\">\n  <thead>\n    <tr style=\"text-align: right;\">\n      <th></th>\n      <th>CustomerID</th>\n      <th>Monetary</th>\n    </tr>\n  </thead>\n  <tbody>\n    <tr>\n      <th>0</th>\n      <td>1002</td>\n      <td>1165</td>\n    </tr>\n    <tr>\n      <th>1</th>\n      <td>1003</td>\n      <td>1313</td>\n    </tr>\n    <tr>\n      <th>2</th>\n      <td>1004</td>\n      <td>1174</td>\n    </tr>\n    <tr>\n      <th>3</th>\n      <td>1005</td>\n      <td>1184</td>\n    </tr>\n    <tr>\n      <th>4</th>\n      <td>1006</td>\n      <td>1067</td>\n    </tr>\n  </tbody>\n</table>\n</div>",
                        "text/plain": "   CustomerID  Monetary\n0        1002      1165\n1        1003      1313\n2        1004      1174\n3        1005      1184\n4        1006      1067"
                    },
                    "metadata": {
                        "tags": []
                    }
                }
            ],
            "execution_count": null
        },
        {
            "cell_type": "markdown",
            "source": [
                "## Creamos tabla RFM"
            ],
            "metadata": {
                "id": "Cyzcpa6z1xB1",
                "azdata_cell_guid": "86438f13-2079-48c2-8814-cb9e7b3a8b65"
            }
        },
        {
            "cell_type": "code",
            "source": [
                "#hacemos un merge de los dataframes de recency y frequency\n",
                "temp_df = recency_df.merge(frequency_df,on='CustomerID')\n",
                "temp_df.head()"
            ],
            "metadata": {
                "id": "GxFMZLqV10SP",
                "colab": {
                    "base_uri": "https://localhost:8080/",
                    "height": 204
                },
                "outputId": "a25e8ca3-5906-467c-9bd4-231736494f08",
                "azdata_cell_guid": "9c4bc9f3-39fa-4ad0-bac0-3ce11b3d4eed",
                "language": "python"
            },
            "outputs": [
                {
                    "output_type": "execute_result",
                    "execution_count": 11,
                    "data": {
                        "text/html": "<div>\n<style scoped>\n    .dataframe tbody tr th:only-of-type {\n        vertical-align: middle;\n    }\n\n    .dataframe tbody tr th {\n        vertical-align: top;\n    }\n\n    .dataframe thead th {\n        text-align: right;\n    }\n</style>\n<table border=\"1\" class=\"dataframe\">\n  <thead>\n    <tr style=\"text-align: right;\">\n      <th></th>\n      <th>CustomerID</th>\n      <th>FechaUltimaCompra</th>\n      <th>Recency</th>\n      <th>Frequency</th>\n    </tr>\n  </thead>\n  <tbody>\n    <tr>\n      <th>0</th>\n      <td>1002</td>\n      <td>2015-05-21</td>\n      <td>7</td>\n      <td>9</td>\n    </tr>\n    <tr>\n      <th>1</th>\n      <td>1003</td>\n      <td>2015-04-21</td>\n      <td>37</td>\n      <td>11</td>\n    </tr>\n    <tr>\n      <th>2</th>\n      <td>1004</td>\n      <td>2015-04-07</td>\n      <td>51</td>\n      <td>9</td>\n    </tr>\n    <tr>\n      <th>3</th>\n      <td>1005</td>\n      <td>2015-05-05</td>\n      <td>23</td>\n      <td>9</td>\n    </tr>\n    <tr>\n      <th>4</th>\n      <td>1006</td>\n      <td>2015-04-20</td>\n      <td>38</td>\n      <td>10</td>\n    </tr>\n  </tbody>\n</table>\n</div>",
                        "text/plain": "   CustomerID FechaUltimaCompra  Recency  Frequency\n0        1002        2015-05-21        7          9\n1        1003        2015-04-21       37         11\n2        1004        2015-04-07       51          9\n3        1005        2015-05-05       23          9\n4        1006        2015-04-20       38         10"
                    },
                    "metadata": {
                        "tags": []
                    }
                }
            ],
            "execution_count": null
        },
        {
            "cell_type": "code",
            "source": [
                "#hacemos el merge con el dataframe de monetary para obtener una tabla con las tres columnas\n",
                "rfm_df = temp_df.merge(monetary_df,on='CustomerID')\n",
                "#usamos CustomerID como índice\n",
                "rfm_df.set_index('CustomerID',inplace=True)\n",
                "\n",
                "rfm_df.head()"
            ],
            "metadata": {
                "id": "nljT1loy1151",
                "colab": {
                    "base_uri": "https://localhost:8080/",
                    "height": 235
                },
                "outputId": "79c14c85-6ecb-451c-94dd-4bb98fa49875",
                "azdata_cell_guid": "e147606b-f476-4e93-8e1f-16781eb3b3c5",
                "language": "python"
            },
            "outputs": [
                {
                    "output_type": "execute_result",
                    "execution_count": 12,
                    "data": {
                        "text/html": "<div>\n<style scoped>\n    .dataframe tbody tr th:only-of-type {\n        vertical-align: middle;\n    }\n\n    .dataframe tbody tr th {\n        vertical-align: top;\n    }\n\n    .dataframe thead th {\n        text-align: right;\n    }\n</style>\n<table border=\"1\" class=\"dataframe\">\n  <thead>\n    <tr style=\"text-align: right;\">\n      <th></th>\n      <th>FechaUltimaCompra</th>\n      <th>Recency</th>\n      <th>Frequency</th>\n      <th>Monetary</th>\n    </tr>\n    <tr>\n      <th>CustomerID</th>\n      <th></th>\n      <th></th>\n      <th></th>\n      <th></th>\n    </tr>\n  </thead>\n  <tbody>\n    <tr>\n      <th>1002</th>\n      <td>2015-05-21</td>\n      <td>7</td>\n      <td>9</td>\n      <td>1165</td>\n    </tr>\n    <tr>\n      <th>1003</th>\n      <td>2015-04-21</td>\n      <td>37</td>\n      <td>11</td>\n      <td>1313</td>\n    </tr>\n    <tr>\n      <th>1004</th>\n      <td>2015-04-07</td>\n      <td>51</td>\n      <td>9</td>\n      <td>1174</td>\n    </tr>\n    <tr>\n      <th>1005</th>\n      <td>2015-05-05</td>\n      <td>23</td>\n      <td>9</td>\n      <td>1184</td>\n    </tr>\n    <tr>\n      <th>1006</th>\n      <td>2015-04-20</td>\n      <td>38</td>\n      <td>10</td>\n      <td>1067</td>\n    </tr>\n  </tbody>\n</table>\n</div>",
                        "text/plain": "           FechaUltimaCompra  Recency  Frequency  Monetary\nCustomerID                                                \n1002              2015-05-21        7          9      1165\n1003              2015-04-21       37         11      1313\n1004              2015-04-07       51          9      1174\n1005              2015-05-05       23          9      1184\n1006              2015-04-20       38         10      1067"
                    },
                    "metadata": {
                        "tags": []
                    }
                }
            ],
            "execution_count": null
        },
        {
            "cell_type": "code",
            "source": [
                "quantiles = rfm_df.quantile(q=[0.25,0.5,0.75])\n",
                "quantiles"
            ],
            "metadata": {
                "id": "gA-Ee2db18Fm",
                "colab": {
                    "base_uri": "https://localhost:8080/",
                    "height": 142
                },
                "outputId": "a3e63f52-76f9-4e8a-df5d-fbed17a9819e",
                "azdata_cell_guid": "7db03795-7a96-4678-84df-f97705722969",
                "language": "python"
            },
            "outputs": [
                {
                    "output_type": "execute_result",
                    "execution_count": 13,
                    "data": {
                        "text/html": "<div>\n<style scoped>\n    .dataframe tbody tr th:only-of-type {\n        vertical-align: middle;\n    }\n\n    .dataframe tbody tr th {\n        vertical-align: top;\n    }\n\n    .dataframe thead th {\n        text-align: right;\n    }\n</style>\n<table border=\"1\" class=\"dataframe\">\n  <thead>\n    <tr style=\"text-align: right;\">\n      <th></th>\n      <th>Recency</th>\n      <th>Frequency</th>\n      <th>Monetary</th>\n    </tr>\n  </thead>\n  <tbody>\n    <tr>\n      <th>0.25</th>\n      <td>6.0</td>\n      <td>9.0</td>\n      <td>1085.0</td>\n    </tr>\n    <tr>\n      <th>0.50</th>\n      <td>21.0</td>\n      <td>11.0</td>\n      <td>1337.0</td>\n    </tr>\n    <tr>\n      <th>0.75</th>\n      <td>41.0</td>\n      <td>14.0</td>\n      <td>1680.0</td>\n    </tr>\n  </tbody>\n</table>\n</div>",
                        "text/plain": "      Recency  Frequency  Monetary\n0.25      6.0        9.0    1085.0\n0.50     21.0       11.0    1337.0\n0.75     41.0       14.0    1680.0"
                    },
                    "metadata": {
                        "tags": []
                    }
                }
            ],
            "execution_count": null
        },
        {
            "cell_type": "markdown",
            "source": [
                "## Creación segmentos RFM"
            ],
            "metadata": {
                "id": "IDqqIj2u1_z_",
                "azdata_cell_guid": "4efceb98-b4af-4d2a-9dcd-69e0636cec5e"
            }
        },
        {
            "cell_type": "code",
            "source": [
                "# Argumentos (x = value, p = recency, monetary_value, frequency, d = quartiles dict)\n",
                "def RScore(x,p,d):\n",
                "    if x <= d[p][0.25]:\n",
                "        return 4\n",
                "    elif x <= d[p][0.50]:\n",
                "        return 3\n",
                "    elif x <= d[p][0.75]: \n",
                "        return 2\n",
                "    else:\n",
                "        return 1\n",
                "# Argumentos (x = value, p = recency, monetary_value, frequency, k = quartiles dict)\n",
                "def FMScore(x,p,d):\n",
                "    if x <= d[p][0.25]:\n",
                "        return 1\n",
                "    elif x <= d[p][0.50]:\n",
                "        return 2\n",
                "    elif x <= d[p][0.75]: \n",
                "        return 3\n",
                "    else:\n",
                "        return 4"
            ],
            "metadata": {
                "id": "l18m6LDj2CJB",
                "azdata_cell_guid": "67639e39-c47e-47bb-8dc1-8237d7108eda",
                "language": "python"
            },
            "outputs": [],
            "execution_count": null
        },
        {
            "cell_type": "code",
            "source": [
                "#creamos una tabla de segmentación por rfm\n",
                "rfm_segmentation = rfm_df\n",
                "rfm_segmentation['R'] = rfm_segmentation['Recency'].apply(RScore, args=('Recency',quantiles,))\n",
                "rfm_segmentation['F'] = rfm_segmentation['Frequency'].apply(FMScore, args=('Frequency',quantiles,))\n",
                "rfm_segmentation['M'] = rfm_segmentation['Monetary'].apply(FMScore, args=('Monetary',quantiles,))"
            ],
            "metadata": {
                "id": "XqEAd4WQ2Gop",
                "azdata_cell_guid": "9496a0b0-572b-4fa7-a6c2-461f9d8e7e8e",
                "language": "python"
            },
            "outputs": [],
            "execution_count": null
        },
        {
            "cell_type": "code",
            "source": [
                "rfm_segmentation.head()"
            ],
            "metadata": {
                "id": "vp5fJTMI2JFk",
                "colab": {
                    "base_uri": "https://localhost:8080/",
                    "height": 235
                },
                "outputId": "e079b83b-632a-4f3a-fe12-5d757dd5d156",
                "azdata_cell_guid": "e06ecb33-1ee6-4140-a502-69c70e71bd7f",
                "language": "python"
            },
            "outputs": [
                {
                    "output_type": "execute_result",
                    "execution_count": 16,
                    "data": {
                        "text/html": "<div>\n<style scoped>\n    .dataframe tbody tr th:only-of-type {\n        vertical-align: middle;\n    }\n\n    .dataframe tbody tr th {\n        vertical-align: top;\n    }\n\n    .dataframe thead th {\n        text-align: right;\n    }\n</style>\n<table border=\"1\" class=\"dataframe\">\n  <thead>\n    <tr style=\"text-align: right;\">\n      <th></th>\n      <th>FechaUltimaCompra</th>\n      <th>Recency</th>\n      <th>Frequency</th>\n      <th>Monetary</th>\n      <th>R</th>\n      <th>F</th>\n      <th>M</th>\n    </tr>\n    <tr>\n      <th>CustomerID</th>\n      <th></th>\n      <th></th>\n      <th></th>\n      <th></th>\n      <th></th>\n      <th></th>\n      <th></th>\n    </tr>\n  </thead>\n  <tbody>\n    <tr>\n      <th>1002</th>\n      <td>2015-05-21</td>\n      <td>7</td>\n      <td>9</td>\n      <td>1165</td>\n      <td>3</td>\n      <td>1</td>\n      <td>2</td>\n    </tr>\n    <tr>\n      <th>1003</th>\n      <td>2015-04-21</td>\n      <td>37</td>\n      <td>11</td>\n      <td>1313</td>\n      <td>2</td>\n      <td>2</td>\n      <td>2</td>\n    </tr>\n    <tr>\n      <th>1004</th>\n      <td>2015-04-07</td>\n      <td>51</td>\n      <td>9</td>\n      <td>1174</td>\n      <td>1</td>\n      <td>1</td>\n      <td>2</td>\n    </tr>\n    <tr>\n      <th>1005</th>\n      <td>2015-05-05</td>\n      <td>23</td>\n      <td>9</td>\n      <td>1184</td>\n      <td>2</td>\n      <td>1</td>\n      <td>2</td>\n    </tr>\n    <tr>\n      <th>1006</th>\n      <td>2015-04-20</td>\n      <td>38</td>\n      <td>10</td>\n      <td>1067</td>\n      <td>2</td>\n      <td>2</td>\n      <td>1</td>\n    </tr>\n  </tbody>\n</table>\n</div>",
                        "text/plain": "           FechaUltimaCompra  Recency  Frequency  Monetary  R  F  M\nCustomerID                                                         \n1002              2015-05-21        7          9      1165  3  1  2\n1003              2015-04-21       37         11      1313  2  2  2\n1004              2015-04-07       51          9      1174  1  1  2\n1005              2015-05-05       23          9      1184  2  1  2\n1006              2015-04-20       38         10      1067  2  2  1"
                    },
                    "metadata": {
                        "tags": []
                    }
                }
            ],
            "execution_count": null
        },
        {
            "cell_type": "markdown",
            "source": [
                "## Agrupando los clientes"
            ],
            "metadata": {
                "id": "F0jxd9542aFC",
                "azdata_cell_guid": "ca5a9f90-2856-40f9-a9cb-f5b81f9a5b39"
            }
        },
        {
            "cell_type": "code",
            "source": [
                "columnas_borrar = ['FechaUltimaCompra','Recency','Frequency','Monetary']"
            ],
            "metadata": {
                "id": "buXv7EQ92rnp",
                "azdata_cell_guid": "74291a9f-9b90-4970-9ec6-6b218e979bc9",
                "language": "python"
            },
            "outputs": [],
            "execution_count": null
        },
        {
            "cell_type": "code",
            "source": [
                "grupos = rfm_segmentation.drop(columnas_borrar,axis=1)\n",
                "grupos.head()"
            ],
            "metadata": {
                "id": "JaEPHZrP2cmC",
                "colab": {
                    "base_uri": "https://localhost:8080/",
                    "height": 235
                },
                "outputId": "fd0bb9a2-ebf0-4228-834b-6786fe4b5d2f",
                "azdata_cell_guid": "2d96a664-6b9d-47db-8792-9c64f132b8b8",
                "language": "python"
            },
            "outputs": [
                {
                    "output_type": "execute_result",
                    "execution_count": 18,
                    "data": {
                        "text/html": "<div>\n<style scoped>\n    .dataframe tbody tr th:only-of-type {\n        vertical-align: middle;\n    }\n\n    .dataframe tbody tr th {\n        vertical-align: top;\n    }\n\n    .dataframe thead th {\n        text-align: right;\n    }\n</style>\n<table border=\"1\" class=\"dataframe\">\n  <thead>\n    <tr style=\"text-align: right;\">\n      <th></th>\n      <th>R</th>\n      <th>F</th>\n      <th>M</th>\n    </tr>\n    <tr>\n      <th>CustomerID</th>\n      <th></th>\n      <th></th>\n      <th></th>\n    </tr>\n  </thead>\n  <tbody>\n    <tr>\n      <th>1002</th>\n      <td>3</td>\n      <td>1</td>\n      <td>2</td>\n    </tr>\n    <tr>\n      <th>1003</th>\n      <td>2</td>\n      <td>2</td>\n      <td>2</td>\n    </tr>\n    <tr>\n      <th>1004</th>\n      <td>1</td>\n      <td>1</td>\n      <td>2</td>\n    </tr>\n    <tr>\n      <th>1005</th>\n      <td>2</td>\n      <td>1</td>\n      <td>2</td>\n    </tr>\n    <tr>\n      <th>1006</th>\n      <td>2</td>\n      <td>2</td>\n      <td>1</td>\n    </tr>\n  </tbody>\n</table>\n</div>",
                        "text/plain": "            R  F  M\nCustomerID         \n1002        3  1  2\n1003        2  2  2\n1004        1  1  2\n1005        2  1  2\n1006        2  2  1"
                    },
                    "metadata": {
                        "tags": []
                    }
                }
            ],
            "execution_count": null
        },
        {
            "cell_type": "code",
            "source": [
                "from sklearn.cluster import KMeans\n",
                "import sklearn.metrics as sm\n",
                "model = KMeans(n_clusters=2)\n",
                "model.fit(grupos)"
            ],
            "metadata": {
                "id": "rP_NShyG3TQZ",
                "colab": {
                    "base_uri": "https://localhost:8080/",
                    "height": 68
                },
                "outputId": "44e2260a-3eb0-482c-8a37-4f4494d0827f",
                "azdata_cell_guid": "0bc59ab5-cc53-40fd-a92e-b03bed60b4df",
                "language": "python"
            },
            "outputs": [
                {
                    "output_type": "execute_result",
                    "execution_count": 19,
                    "data": {
                        "text/plain": "KMeans(algorithm='auto', copy_x=True, init='k-means++', max_iter=300,\n       n_clusters=2, n_init=10, n_jobs=None, precompute_distances='auto',\n       random_state=None, tol=0.0001, verbose=0)"
                    },
                    "metadata": {
                        "tags": []
                    }
                }
            ],
            "execution_count": null
        },
        {
            "cell_type": "code",
            "source": [
                "grupos['Cluster'] = model.labels_"
            ],
            "metadata": {
                "id": "X2i-zrap3kMV",
                "azdata_cell_guid": "71987c2c-71b3-4259-9a2a-a428812cde3a",
                "language": "python"
            },
            "outputs": [],
            "execution_count": null
        },
        {
            "cell_type": "markdown",
            "source": [
                "## Predicción de comportamiento"
            ],
            "metadata": {
                "id": "mTl5gMUn3x-n",
                "azdata_cell_guid": "3443e414-6ab5-4fa9-a50d-c3ee1107123b"
            }
        },
        {
            "cell_type": "code",
            "source": [
                "#cargar el dataset de clientes\n",
                "clientes_df = pd.read_csv('/content/gdrive/My Drive/Datos/customers.csv')\n",
                "clientes_df.head()"
            ],
            "metadata": {
                "id": "sA1jeX-s30sX",
                "colab": {
                    "base_uri": "https://localhost:8080/",
                    "height": 204
                },
                "outputId": "c5f111fa-7502-4a31-8f0e-82bf21507309",
                "azdata_cell_guid": "9c9ab059-ca51-4e48-9a04-a718c0f75bff",
                "language": "python"
            },
            "outputs": [
                {
                    "output_type": "execute_result",
                    "execution_count": 21,
                    "data": {
                        "text/html": "<div>\n<style scoped>\n    .dataframe tbody tr th:only-of-type {\n        vertical-align: middle;\n    }\n\n    .dataframe tbody tr th {\n        vertical-align: top;\n    }\n\n    .dataframe thead th {\n        text-align: right;\n    }\n</style>\n<table border=\"1\" class=\"dataframe\">\n  <thead>\n    <tr style=\"text-align: right;\">\n      <th></th>\n      <th>CustomerID</th>\n      <th>Age</th>\n      <th>Sex</th>\n      <th>State</th>\n      <th>Education</th>\n      <th>MaritalStatus</th>\n    </tr>\n  </thead>\n  <tbody>\n    <tr>\n      <th>0</th>\n      <td>1001</td>\n      <td>34</td>\n      <td>Male</td>\n      <td>Indiana</td>\n      <td>Bachelors Degree</td>\n      <td>Married</td>\n    </tr>\n    <tr>\n      <th>1</th>\n      <td>1002</td>\n      <td>44</td>\n      <td>Female</td>\n      <td>Pennsylvania</td>\n      <td>Masters Degree</td>\n      <td>Single</td>\n    </tr>\n    <tr>\n      <th>2</th>\n      <td>1003</td>\n      <td>45</td>\n      <td>Female</td>\n      <td>Florida</td>\n      <td>Bachelors Degree</td>\n      <td>Married</td>\n    </tr>\n    <tr>\n      <th>3</th>\n      <td>1004</td>\n      <td>44</td>\n      <td>Female</td>\n      <td>Georgia</td>\n      <td>Masters Degree</td>\n      <td>Divorced</td>\n    </tr>\n    <tr>\n      <th>4</th>\n      <td>1005</td>\n      <td>46</td>\n      <td>Female</td>\n      <td>Georgia</td>\n      <td>High School</td>\n      <td>Single</td>\n    </tr>\n  </tbody>\n</table>\n</div>",
                        "text/plain": "   CustomerID  Age     Sex         State         Education MaritalStatus\n0        1001   34    Male       Indiana  Bachelors Degree       Married\n1        1002   44  Female  Pennsylvania    Masters Degree        Single\n2        1003   45  Female       Florida  Bachelors Degree       Married\n3        1004   44  Female       Georgia    Masters Degree      Divorced\n4        1005   46  Female       Georgia       High School        Single"
                    },
                    "metadata": {
                        "tags": []
                    }
                }
            ],
            "execution_count": null
        },
        {
            "cell_type": "code",
            "source": [
                "#merge con clientes\n",
                "\n",
                "X = clientes_df.merge(grupos,on='CustomerID')\n",
                "X.head()"
            ],
            "metadata": {
                "id": "5XoXWRlk4giY",
                "colab": {
                    "base_uri": "https://localhost:8080/",
                    "height": 204
                },
                "outputId": "d913c29e-c5da-4f95-9a55-72c64aec4ad2",
                "azdata_cell_guid": "1dc3648f-5fca-4b36-bf6f-7547f3700af3",
                "language": "python"
            },
            "outputs": [
                {
                    "output_type": "execute_result",
                    "execution_count": 22,
                    "data": {
                        "text/html": "<div>\n<style scoped>\n    .dataframe tbody tr th:only-of-type {\n        vertical-align: middle;\n    }\n\n    .dataframe tbody tr th {\n        vertical-align: top;\n    }\n\n    .dataframe thead th {\n        text-align: right;\n    }\n</style>\n<table border=\"1\" class=\"dataframe\">\n  <thead>\n    <tr style=\"text-align: right;\">\n      <th></th>\n      <th>CustomerID</th>\n      <th>Age</th>\n      <th>Sex</th>\n      <th>State</th>\n      <th>Education</th>\n      <th>MaritalStatus</th>\n      <th>R</th>\n      <th>F</th>\n      <th>M</th>\n      <th>Cluster</th>\n    </tr>\n  </thead>\n  <tbody>\n    <tr>\n      <th>0</th>\n      <td>1002</td>\n      <td>44</td>\n      <td>Female</td>\n      <td>Pennsylvania</td>\n      <td>Masters Degree</td>\n      <td>Single</td>\n      <td>3</td>\n      <td>1</td>\n      <td>2</td>\n      <td>1</td>\n    </tr>\n    <tr>\n      <th>1</th>\n      <td>1003</td>\n      <td>45</td>\n      <td>Female</td>\n      <td>Florida</td>\n      <td>Bachelors Degree</td>\n      <td>Married</td>\n      <td>2</td>\n      <td>2</td>\n      <td>2</td>\n      <td>1</td>\n    </tr>\n    <tr>\n      <th>2</th>\n      <td>1004</td>\n      <td>44</td>\n      <td>Female</td>\n      <td>Georgia</td>\n      <td>Masters Degree</td>\n      <td>Divorced</td>\n      <td>1</td>\n      <td>1</td>\n      <td>2</td>\n      <td>1</td>\n    </tr>\n    <tr>\n      <th>3</th>\n      <td>1005</td>\n      <td>46</td>\n      <td>Female</td>\n      <td>Georgia</td>\n      <td>High School</td>\n      <td>Single</td>\n      <td>2</td>\n      <td>1</td>\n      <td>2</td>\n      <td>1</td>\n    </tr>\n    <tr>\n      <th>4</th>\n      <td>1006</td>\n      <td>46</td>\n      <td>Male</td>\n      <td>Virginia</td>\n      <td>Bachelors Degree</td>\n      <td>Married</td>\n      <td>2</td>\n      <td>2</td>\n      <td>1</td>\n      <td>1</td>\n    </tr>\n  </tbody>\n</table>\n</div>",
                        "text/plain": "   CustomerID  Age     Sex         State  ...  R  F  M  Cluster\n0        1002   44  Female  Pennsylvania  ...  3  1  2        1\n1        1003   45  Female       Florida  ...  2  2  2        1\n2        1004   44  Female       Georgia  ...  1  1  2        1\n3        1005   46  Female       Georgia  ...  2  1  2        1\n4        1006   46    Male      Virginia  ...  2  2  1        1\n\n[5 rows x 10 columns]"
                    },
                    "metadata": {
                        "tags": []
                    }
                }
            ],
            "execution_count": null
        },
        {
            "cell_type": "code",
            "source": [
                "etiqueta = 'Cluster'\n",
                "caracteristicas = ['Age','Sex','State','Education','MaritalStatus']\n",
                "\n",
                "y= X[etiqueta]\n",
                "X=X[caracteristicas]\n",
                "from sklearn.model_selection import train_test_split\n",
                "X_train, X_test, y_train, y_test = train_test_split(X, y, random_state=0)\n"
            ],
            "metadata": {
                "id": "zuVb_-YL47KP",
                "azdata_cell_guid": "79412c8d-af22-4bce-8d41-234863f581f9",
                "language": "python"
            },
            "outputs": [],
            "execution_count": null
        },
        {
            "cell_type": "markdown",
            "source": [
                "Hay que preparar los datos. Convertir las variables categóricas,  y escalar"
            ],
            "metadata": {
                "id": "qaaHwZ8Q6OYD",
                "azdata_cell_guid": "242d01c6-3c86-4a6a-8d4e-00c2b9ff9aa5"
            }
        },
        {
            "cell_type": "code",
            "source": [
                "from sklearn.compose import ColumnTransformer\n",
                "from sklearn.pipeline import Pipeline\n",
                "from sklearn.impute import SimpleImputer\n",
                "from sklearn.preprocessing import StandardScaler, OneHotEncoder\n",
                "from sklearn.linear_model import LogisticRegression"
            ],
            "metadata": {
                "id": "sIeRzs2FKe1p",
                "azdata_cell_guid": "0aa7bad6-5f1d-4741-9336-58999b2acdee",
                "language": "python"
            },
            "outputs": [],
            "execution_count": null
        },
        {
            "cell_type": "code",
            "source": [
                "#Vamos a definir un Pipeline que nos permita realizar las tareas de limpieza y transformación sobre varias columnas\n",
                "\n",
                "#Seleccionamos las columnas numéricas\n",
                "numeric_features = ['Age']\n",
                "#Definimos las transformaciones que les vamos a aplicar --> Imputar nulos y escalar\n",
                "numeric_transformer = Pipeline(steps=[\n",
                "    ('imputer', SimpleImputer(strategy='median')),\n",
                "    ('scaler', StandardScaler())])\n",
                "\n",
                "#Definimos las variables categóricas y las trnasformaciones --> Imputar con 'missing' y aplicar una Codificación OneHot\n",
                "\n",
                "categorical_features = ['Sex', 'State', 'Education','MaritalStatus']\n",
                "categorical_transformer = Pipeline(steps=[\n",
                "    ('imputer', SimpleImputer(strategy='constant', fill_value='missing')),\n",
                "    ('onehot', OneHotEncoder(handle_unknown='ignore'))])\n",
                "\n",
                "#Utilizamos el método ColumnTransformer para asociar los pipelines a las columnas\n",
                "\n",
                "preprocessor = ColumnTransformer(\n",
                "    transformers=[\n",
                "        ('num', numeric_transformer, numeric_features),\n",
                "        ('cat', categorical_transformer, categorical_features)])\n",
                "\n",
                "# Agregamos un clasificador de Regresión Logística\n",
                "# Ahora tenemos el Pipeline completo\n",
                "\n",
                "clf = Pipeline(steps=[('preprocessor', preprocessor),\n",
                "                      ('classifier', LogisticRegression())])\n",
                "\n",
                "\n",
                "\n",
                "\n",
                "clf.fit(X_train, y_train)\n",
                "\n",
                "#OJO, aquí no estamos cambiando nuestro dataset original. Simplemente lanzamos este pipeline que realiza las transformaciones \"al vuelo\""
            ],
            "metadata": {
                "id": "KFrXsAG1Klfw",
                "colab": {
                    "base_uri": "https://localhost:8080/",
                    "height": 544
                },
                "outputId": "5d303ed7-af10-4d53-f71e-edb251c6fd36",
                "azdata_cell_guid": "d445a4cc-81eb-46db-99f5-4d53b0f8b656",
                "language": "python"
            },
            "outputs": [
                {
                    "output_type": "execute_result",
                    "execution_count": 25,
                    "data": {
                        "text/plain": "Pipeline(memory=None,\n         steps=[('preprocessor',\n                 ColumnTransformer(n_jobs=None, remainder='drop',\n                                   sparse_threshold=0.3,\n                                   transformer_weights=None,\n                                   transformers=[('num',\n                                                  Pipeline(memory=None,\n                                                           steps=[('imputer',\n                                                                   SimpleImputer(add_indicator=False,\n                                                                                 copy=True,\n                                                                                 fill_value=None,\n                                                                                 missing_values=nan,\n                                                                                 strategy='median',\n                                                                                 verbose=0)),\n                                                                  ('scaler',\n                                                                   StandardScaler(copy=True,\n                                                                                  with_mean...\n                                                                                 sparse=True))],\n                                                           verbose=False),\n                                                  ['Sex', 'State', 'Education',\n                                                   'MaritalStatus'])],\n                                   verbose=False)),\n                ('classifier',\n                 LogisticRegression(C=1.0, class_weight=None, dual=False,\n                                    fit_intercept=True, intercept_scaling=1,\n                                    l1_ratio=None, max_iter=100,\n                                    multi_class='warn', n_jobs=None,\n                                    penalty='l2', random_state=None,\n                                    solver='warn', tol=0.0001, verbose=0,\n                                    warm_start=False))],\n         verbose=False)"
                    },
                    "metadata": {
                        "tags": []
                    }
                }
            ],
            "execution_count": null
        },
        {
            "cell_type": "code",
            "source": [
                "\n",
                "print('Accuracy of Logistic regression classifier on training set: {:.2f}'\n",
                "     .format(clf.score(X_train, y_train)))\n",
                "print('Accuracy of Logistic regression classifier on test set: {:.2f}'\n",
                "     .format(clf.score(X_test, y_test)))"
            ],
            "metadata": {
                "id": "f8_bYzGg6JNt",
                "colab": {
                    "base_uri": "https://localhost:8080/",
                    "height": 51
                },
                "outputId": "c4d3173b-ba29-4e9f-f3c2-5fdb5c23f7e1",
                "azdata_cell_guid": "f031629e-3b07-4698-a620-24712a9f92e9",
                "language": "python"
            },
            "outputs": [
                {
                    "output_type": "stream",
                    "name": "stdout",
                    "text": "Accuracy of Logistic regression classifier on training set: 0.80\nAccuracy of Logistic regression classifier on test set: 0.35\n"
                }
            ],
            "execution_count": null
        },
        {
            "cell_type": "code",
            "source": [
                "from sklearn.metrics import confusion_matrix\n",
                "from sklearn.metrics import classification_report\n",
                "\n",
                "prediccion = clf.predict(X_test)\n",
                "print(confusion_matrix(y_test, prediccion))\n",
                "\n",
                "print(classification_report(y_test, prediccion))"
            ],
            "metadata": {
                "id": "8FJrGne-6Ana",
                "colab": {
                    "base_uri": "https://localhost:8080/",
                    "height": 204
                },
                "outputId": "fd0e341d-4ad8-4cca-82f0-4fc4d99cc70d",
                "azdata_cell_guid": "26b31f55-d744-4251-a2ec-cab9184eb215",
                "language": "python"
            },
            "outputs": [
                {
                    "output_type": "stream",
                    "name": "stdout",
                    "text": "[[3 8]\n [7 5]]\n              precision    recall  f1-score   support\n\n           0       0.30      0.27      0.29        11\n           1       0.38      0.42      0.40        12\n\n    accuracy                           0.35        23\n   macro avg       0.34      0.34      0.34        23\nweighted avg       0.34      0.35      0.35        23\n\n"
                }
            ],
            "execution_count": null
        }
    ]
}